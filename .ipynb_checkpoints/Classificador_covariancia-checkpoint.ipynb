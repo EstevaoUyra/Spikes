{
 "cells": [
  {
   "cell_type": "code",
   "execution_count": 1,
   "metadata": {
    "collapsed": true
   },
   "outputs": [],
   "source": [
    "import numpy as np\n",
    "from scipy.io import loadmat\n",
    "\n",
    "from pyriemann.estimation import Covariances\n",
    "from pyriemann.classification import MDM\n",
    "\n",
    "import matplotlib.pyplot as plt\n",
    "from sklearn.model_selection import cross_val_score"
   ]
  },
  {
   "cell_type": "markdown",
   "metadata": {},
   "source": [
    "## Carregar os dados"
   ]
  },
  {
   "cell_type": "code",
   "execution_count": null,
   "metadata": {
    "collapsed": true
   },
   "outputs": [],
   "source": [
    "#TO DO: filename = '' # Nome do caminho do arquivo e.g. '/Data/Vol1/meusDados.mat'\n",
    "\n",
    "data = loadmat(filename)\n",
    "data"
   ]
  },
  {
   "cell_type": "markdown",
   "metadata": {},
   "source": [
    "## Separar os dados em uma matriz Xraw e um vetor y\n",
    "- A matriz Xraw deve ter o formato (n_trials, n_channels, n_samples)\n",
    "- O vetor y deve ter o formato (n_trials), contendo a classe de cada tentativa."
   ]
  },
  {
   "cell_type": "code",
   "execution_count": 8,
   "metadata": {},
   "outputs": [],
   "source": [
    "#TO DO: Xraw = \n",
    "#TO DO: y = "
   ]
  },
  {
   "cell_type": "markdown",
   "metadata": {},
   "source": [
    "## Calcular a covariância de cada tentativa, colocando na matriz X"
   ]
  },
  {
   "cell_type": "code",
   "execution_count": 11,
   "metadata": {
    "collapsed": true
   },
   "outputs": [],
   "source": [
    "covEstimator = Covariances('oas')\n",
    "X = covEstimator.transform(Xraw)"
   ]
  },
  {
   "cell_type": "markdown",
   "metadata": {},
   "source": [
    "## Estimar a taxa de acerto do classificador\n",
    "- Default: Acurácia. Outras medidas podem ser usadas, a partir de sklearn.metrics\n",
    "\n",
    "obs: O classificador não possui hiperparâmetros, e portanto não é necessário fazer uma busca em grid."
   ]
  },
  {
   "cell_type": "code",
   "execution_count": 15,
   "metadata": {},
   "outputs": [
    {
     "name": "stdout",
     "output_type": "stream",
     "text": [
      "[ 0.5  0.5  0.4  0.7  0.5  0.7  0.4  0.5  0.3  0.5]\n",
      "('Mean score: ', 0.5)\n",
      "('Deviation: ', 0.1183215956619923)\n"
     ]
    }
   ],
   "source": [
    "clf = MDM()\n",
    "\n",
    "score = cross_val_score(clf,X,y, cv = 10) # Resultado de cada particao de uma 10-fold cross validation\n",
    "print(score)\n",
    "print('Mean score: ', score.mean())\n",
    "print('Deviation: ', score.std())"
   ]
  },
  {
   "cell_type": "markdown",
   "metadata": {},
   "source": [
    "## Ver matriz de confusão"
   ]
  },
  {
   "cell_type": "code",
   "execution_count": 16,
   "metadata": {},
   "outputs": [
    {
     "data": {
      "text/plain": [
       "array([[6, 4],\n",
       "       [8, 7]])"
      ]
     },
     "execution_count": 16,
     "metadata": {},
     "output_type": "execute_result"
    }
   ],
   "source": [
    "from sklearn.metrics import confusion_matrix\n",
    "from sklearn.model_selection import train_test_split\n",
    "\n",
    "clf = MDM()\n",
    "\n",
    "Xtrain, Xtest, ytrain, ytest = train_test_split(X, y)\n",
    "clf.fit(Xtrain,ytrain)\n",
    "ypred = clf.predict(Xtest)\n",
    "\n",
    "conf = confusion_matrix(ytest,ypred)\n",
    "conf"
   ]
  }
 ],
 "metadata": {
  "hide_input": false,
  "kernelspec": {
   "display_name": "Python 2",
   "language": "python",
   "name": "python2"
  },
  "language_info": {
   "codemirror_mode": {
    "name": "ipython",
    "version": 2
   },
   "file_extension": ".py",
   "mimetype": "text/x-python",
   "name": "python",
   "nbconvert_exporter": "python",
   "pygments_lexer": "ipython2",
   "version": "2.7.13"
  },
  "toc": {
   "nav_menu": {},
   "number_sections": true,
   "sideBar": true,
   "skip_h1_title": false,
   "toc_cell": false,
   "toc_position": {},
   "toc_section_display": "block",
   "toc_window_display": false
  }
 },
 "nbformat": 4,
 "nbformat_minor": 2
}
