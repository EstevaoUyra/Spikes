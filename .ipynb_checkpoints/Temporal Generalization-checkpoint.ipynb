{
 "cells": [
  {
   "cell_type": "code",
   "execution_count": 1,
   "metadata": {
    "collapsed": true
   },
   "outputs": [],
   "source": [
    "from sklearn.svm import SVC\n",
    "import pandas as pd\n",
    "import numpy as np\n",
    "from sklearn.model_selection import GridSearchCV, StratifiedShuffleSplit\n",
    "from scipy.io import loadmat\n",
    "from __future__ import division\n",
    "import matplotlib.pyplot as plt\n",
    "import scipy.stats as st\n",
    "import pickle\n",
    "\n",
    "%matplotlib inline\n"
   ]
  },
  {
   "cell_type": "markdown",
   "metadata": {
    "collapsed": true
   },
   "source": [
    "## Load data"
   ]
  },
  {
   "cell_type": "code",
   "execution_count": 2,
   "metadata": {},
   "outputs": [
    {
     "name": "stdout",
     "output_type": "stream",
     "text": [
      "(69, 21, 634)\n"
     ]
    }
   ],
   "source": [
    "normR10 = loadmat('normbin_r10.mat')['C']\n",
    "normR10 = np.nan_to_num(np.swapaxes(normR10,0,2))\n",
    "print(normR10.shape)"
   ]
  },
  {
   "cell_type": "code",
   "execution_count": 3,
   "metadata": {
    "collapsed": true
   },
   "outputs": [],
   "source": [
    "#Dataset format is [Neurons][Times][Trials]\n",
    "def trialShuffle(dataset):\n",
    "    for i in range(dataset.shape[0]):\n",
    "        for j in np.arange(dataset.shape[1]):\n",
    "            np.random.shuffle(self.dataset[i,j,:])\n",
    "\n",
    "def binShuffle(dataset):\n",
    "    for i in range(dataset.shape[0]):\n",
    "        for k in np.arange(dataset.shape[2]):\n",
    "            np.random.shuffle(self.dataset[i,:,k])"
   ]
  },
  {
   "cell_type": "markdown",
   "metadata": {},
   "source": [
    "## Transform data into X, y, trial"
   ]
  },
  {
   "cell_type": "code",
   "execution_count": 4,
   "metadata": {
    "collapsed": true
   },
   "outputs": [],
   "source": [
    "def trialToXyT(dataset):\n",
    "    X = np.transpose(dataset).reshape(-1,dataset.shape[0])\n",
    "    y = np.arange(X.shape[0])%dataset.shape[1]\n",
    "    trial = np.arange(X.shape[0])//dataset.shape[1]\n",
    "    return {'X':X,'y':y,'trial':trial}"
   ]
  },
  {
   "cell_type": "markdown",
   "metadata": {},
   "source": [
    "## Classify with batch of classifiers"
   ]
  },
  {
   "cell_type": "code",
   "execution_count": 24,
   "metadata": {
    "collapsed": true
   },
   "outputs": [],
   "source": [
    "def experiment1(train,test,mode):\n",
    "    sh = StratifiedShuffleSplit(n_splits = 3, train_size = 80*20)\n",
    "    clf = SVC()\n",
    "    \n",
    "    print('Grid Searching')\n",
    "    C_grid = range(14,17); Gamma_grid = np.linspace(.1,.5,10)*1./40;\n",
    "    params = {'C':C_grid,'gamma':Gamma_grid}\n",
    "    grid = GridSearchCV(clf, params, cv=5)\n",
    "    grid.fit(train['X'],train['y'])\n",
    "    print('Melhores parâmetros selecionados: ' + str(grid.best_params_))\n",
    "    \n",
    "    if mode == 'same':\n",
    "        T = train['trial']\n",
    "        ypred=[]\n",
    "        for ti in range(T[-1]):\n",
    "            Xi = train['X'][T!=ti,:]\n",
    "            yi = train['y'][T!=ti]\n",
    "            shuffle = sh.split(Xi,yi)\n",
    "            ypred.append([])\n",
    "            print('Analyzing trial ' +str(ti))\n",
    "            for idx,_ in shuffle:\n",
    "                clf = grid.best_estimator_\n",
    "                clf.fit(Xi[idx],yi[idx])\n",
    "                ypred[-1].append(clf.predict(train['X'][T==ti,:]))\n",
    "        return ypred\n",
    "    \n",
    "    elif mode =='cross':\n",
    "        shuffle = sh.split(train['X'],train['y'])\n",
    "        ypred = []\n",
    "        nshuf=0\n",
    "        for idx,_ in shuffle:\n",
    "            print('Working on shuffle #' +str(nshuf)); nshuf=nshuf+1;\n",
    "            clf = grid.best_estimator_\n",
    "            clf.fit(train['X'][idx,:],train['y'][idx])\n",
    "            ypred.append(clf.predict(test['X']))\n",
    "        return np.array(ypred)\n",
    "        \n",
    "    else:\n",
    "        print('Give some working mode')\n",
    "        return"
   ]
  },
  {
   "cell_type": "code",
   "execution_count": null,
   "metadata": {},
   "outputs": [
    {
     "name": "stdout",
     "output_type": "stream",
     "text": [
      "Grid Searching\n"
     ]
    }
   ],
   "source": [
    "%time pred = experiment1(trialToXyT(normR10[:,:20,-100:]),trialToXyT(normR10[:,:20,:100]),'cross')"
   ]
  },
  {
   "cell_type": "code",
   "execution_count": 21,
   "metadata": {},
   "outputs": [
    {
     "data": {
      "text/plain": [
       "0.0075"
      ]
     },
     "execution_count": 21,
     "metadata": {},
     "output_type": "execute_result"
    }
   ],
   "source": [
    "0.3/40"
   ]
  }
 ],
 "metadata": {
  "kernelspec": {
   "display_name": "Python 3",
   "language": "python",
   "name": "python3"
  },
  "language_info": {
   "codemirror_mode": {
    "name": "ipython",
    "version": 3
   },
   "file_extension": ".py",
   "mimetype": "text/x-python",
   "name": "python",
   "nbconvert_exporter": "python",
   "pygments_lexer": "ipython3",
   "version": "3.5.2"
  }
 },
 "nbformat": 4,
 "nbformat_minor": 2
}
