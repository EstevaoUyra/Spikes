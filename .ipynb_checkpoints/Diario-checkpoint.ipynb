{
 "cells": [
  {
   "cell_type": "markdown",
   "metadata": {},
   "source": [
    "## Dia 02/10"
   ]
  },
  {
   "cell_type": "markdown",
   "metadata": {},
   "source": [
    "### Em progresso"
   ]
  },
  {
   "cell_type": "markdown",
   "metadata": {},
   "source": [
    "#### Simplificação da utilização das análises"
   ]
  },
  {
   "cell_type": "markdown",
   "metadata": {},
   "source": [
    "- Transferência da classe Rat para spikeHelper.wrappers\n",
    "- Criação da classe suporte SpikeDataSet"
   ]
  },
  {
   "cell_type": "markdown",
   "metadata": {},
   "source": [
    "### Progresso"
   ]
  },
  {
   "cell_type": "markdown",
   "metadata": {},
   "source": [
    "#### Novo grid search\n",
    "- Todas as tentativas entre 1500 e 4000, com 10 bins de 100ms entre 200-1200\n",
    "- Score usado: ($Media-std$) do 10-fold CV\n",
    "- Demorou umas 16 horas, principalmente o rato 10 ~10 horas\n",
    "- Obs:\n",
    "    - Esqueci de mandar ele guardar todos os resultados, fiquei só com o melhor"
   ]
  },
  {
   "cell_type": "code",
   "execution_count": 1,
   "metadata": {},
   "outputs": [
    {
     "data": {
      "text/html": [
       "<div>\n",
       "<style>\n",
       "    .dataframe thead tr:only-child th {\n",
       "        text-align: right;\n",
       "    }\n",
       "\n",
       "    .dataframe thead th {\n",
       "        text-align: left;\n",
       "    }\n",
       "\n",
       "    .dataframe tbody tr th {\n",
       "        vertical-align: top;\n",
       "    }\n",
       "</style>\n",
       "<table border=\"1\" class=\"dataframe\">\n",
       "  <thead>\n",
       "    <tr style=\"text-align: right;\">\n",
       "      <th></th>\n",
       "      <th>C</th>\n",
       "      <th>Rat</th>\n",
       "      <th>logGamma</th>\n",
       "    </tr>\n",
       "  </thead>\n",
       "  <tbody>\n",
       "    <tr>\n",
       "      <th>1</th>\n",
       "      <td>48.164062</td>\n",
       "      <td>7</td>\n",
       "      <td>-3.623047</td>\n",
       "    </tr>\n",
       "    <tr>\n",
       "      <th>1</th>\n",
       "      <td>1.933594</td>\n",
       "      <td>8</td>\n",
       "      <td>-5.010742</td>\n",
       "    </tr>\n",
       "    <tr>\n",
       "      <th>1</th>\n",
       "      <td>46.054688</td>\n",
       "      <td>9</td>\n",
       "      <td>-6.658203</td>\n",
       "    </tr>\n",
       "    <tr>\n",
       "      <th>1</th>\n",
       "      <td>2.916566</td>\n",
       "      <td>10</td>\n",
       "      <td>-4.357622</td>\n",
       "    </tr>\n",
       "  </tbody>\n",
       "</table>\n",
       "</div>"
      ],
      "text/plain": [
       "           C Rat  logGamma\n",
       "1  48.164062   7 -3.623047\n",
       "1   1.933594   8 -5.010742\n",
       "1  46.054688   9 -6.658203\n",
       "1   2.916566  10 -4.357622"
      ]
     },
     "execution_count": 1,
     "metadata": {},
     "output_type": "execute_result"
    }
   ],
   "source": [
    "import pickle\n",
    "pickle.load(open('Data/optimalParameters_Mon Oct  2 .pickle','rb'))"
   ]
  },
  {
   "cell_type": "markdown",
   "metadata": {},
   "source": [
    "#### Limpeza do ambiente de trabalho\n",
    "- Muitos arquivos ociosos deletados\n",
    "- Organização deste diário\n",
    "- $\\textbf{Decoder}$ deletado. Continha todas as análises em sua primeira versão (classifier bundle, etc)\n",
    "- $\\textbf{LoadTimes}$ movido para pasta de exemplos. Esse notebook necessita de uma limpeza."
   ]
  },
  {
   "cell_type": "markdown",
   "metadata": {},
   "source": [
    "### Pensamentos"
   ]
  },
  {
   "cell_type": "markdown",
   "metadata": {},
   "source": [
    "- Análises\n",
    "    - Testar o classificador na decodificação de $\\textbf{\"quando o rato responderá\"}$\n",
    "    - Calcular resposta esperada do rato baseada em $\\textbf{Hazard Rate}$ e $\\textbf{Delay Discounting},$ usando a lei de $\\textbf{Weber}$ p/ o tempo.\n",
    "    - Existe um modelo de $\\textit{Hidden states}$ que explica bem o comportamento dos ratos? Nesse caso, a atividade neural poderia ser comparada aos hidden states.\n",
    "    \n",
    "    \n",
    "- Exploração:\n",
    "    - Observar distribuição dos dados comportamentais condicionados à: \n",
    "        - Duração da tentativa anterior\n",
    "        - Recompensa na tentativa anterior\n",
    "        - ITI\n",
    "        -  $\\textit{Feitos em exploração do comportamento}$\n",
    "    - Agrupar atividade por previsão\n",
    "        - Observar como são todas as tentativas previstas como e.g. 3\n",
    "        \n",
    "    \n",
    "- PCAevo: o que significa o componente principal em um unico neurônio, com as dimensões sendo os tempos? E sua evolução?\n",
    "    - Nota: Caso não signifique nada, apagar o arquivo."
   ]
  },
  {
   "cell_type": "markdown",
   "metadata": {},
   "source": [
    "---"
   ]
  },
  {
   "cell_type": "markdown",
   "metadata": {},
   "source": [
    "## Dia 03/10"
   ]
  },
  {
   "cell_type": "markdown",
   "metadata": {},
   "source": [
    "### Estudo"
   ]
  },
  {
   "cell_type": "markdown",
   "metadata": {},
   "source": [
    "#### Dayan & Abott - Cap. 1\n",
    "###### Páginas: 5 a 46"
   ]
  },
  {
   "cell_type": "markdown",
   "metadata": {},
   "source": [
    "###### Estimação da taxa de disparo"
   ]
  },
  {
   "cell_type": "markdown",
   "metadata": {},
   "source": [
    "- Kernel Gaussiano: Não-causal\n",
    "    - $w(\\tau) = \\frac{1}{\\sqrt{2\\pi\\sigma}}e^{-\\frac{\\tau^2}{2\\sigma^2}}$\n",
    "- Função $\\alpha$: Causal\n",
    "    - $w(\\tau) = [\\alpha^2\\tau ^{-\\alpha \\tau}]_+$\n",
    "        "
   ]
  },
  {
   "cell_type": "markdown",
   "metadata": {},
   "source": [
    "###### Spike triggered average"
   ]
  },
  {
   "cell_type": "markdown",
   "metadata": {},
   "source": [
    "- Mean stimulus a time $\\tau$ before spike"
   ]
  },
  {
   "attachments": {
    "spikeTriggeredAverage.png": {
     "image/png": "[encoded data removed]"
    }
   },
   "cell_type": "markdown",
   "metadata": {},
   "source": [
    "![spikeTriggeredAverage.png](attachment:spikeTriggeredAverage.png)"
   ]
  },
  {
   "cell_type": "markdown",
   "metadata": {},
   "source": [
    "###### Tuning function"
   ]
  },
  {
   "cell_type": "markdown",
   "metadata": {},
   "source": [
    "- Gaussiana\n",
    "    - V1\n",
    "    - Ângulo da barra\n",
    "- Cosseno\n",
    "    - M1\n",
    "    - Ângulo do movimento\n",
    "- Sigmoide\n",
    "    - V1\n",
    "    - Retinal disparity\n",
    "        "
   ]
  },
  {
   "cell_type": "markdown",
   "metadata": {},
   "source": [
    "###### Poisson process"
   ]
  },
  {
   "cell_type": "markdown",
   "metadata": {},
   "source": [
    "- Event occurrence independent on history\n",
    "- Good aproximation to neuron firing - Firing rate r\n",
    "- Fano factor:\n",
    "    - $F$ = Variance/Mean = 1\n",
    "    \n",
    "    \n",
    "    \n",
    "- $\\textbf{InterSpikeInterval}$ (ISI) \n",
    "    - Distribution = $re^{-rt}$\n",
    "    - $C_v$ = 1 ( Homogeneous )"
   ]
  },
  {
   "attachments": {
    "poisson.png": {
     "image/png": "[encoded data removed]"
    }
   },
   "cell_type": "markdown",
   "metadata": {},
   "source": [
    "![poisson.png](attachment:poisson.png)\n",
    "Calculado sobre dados reais fig 1.14"
   ]
  },
  {
   "cell_type": "markdown",
   "metadata": {},
   "source": [
    "###### Auto-correlation"
   ]
  },
  {
   "cell_type": "markdown",
   "metadata": {},
   "source": [
    "- Caculated between spike trains-by binning\n",
    "    - ? Why shouldn't I calculate it with smoothed firing rate?\n",
    "- Actually autocovariance\n",
    "- In homogeneous poisson:\n",
    "    - Uniform distribution"
   ]
  },
  {
   "cell_type": "markdown",
   "metadata": {},
   "source": [
    "###### Neural code"
   ]
  },
  {
   "cell_type": "markdown",
   "metadata": {},
   "source": [
    "- Independent spike code vs Correlation code\n",
    "    - Correlation rarely carries more than 10% information - *How is this calculated?*\n",
    "    - Common: Combining firing rates without taking correlations into account\n",
    "        - Hidden independence assumption"
   ]
  },
  {
   "cell_type": "markdown",
   "metadata": {},
   "source": [
    "- Temporal vs Rate coding\n",
    "    - or Defined based on activity\n",
    "        - Temporal coding neuron may be part of a Rate-coding population\n",
    "    - or Defined based on stimulus\n",
    "        - Temporal: information carried by r(t) in frequencies higher than the stimulus changes.\n",
    "    - This choice *matters*"
   ]
  },
  {
   "cell_type": "markdown",
   "metadata": {},
   "source": [
    "#### Artigo: Neurocomputational models of interval and pattern timing\n",
    "###### Hardy, Nicholas F., and Dean V. Buonomano. \"Neurocomputational models of interval and pattern timing.\" Current opinion in behavioral sciences 8 (2016): 250-257.\n",
    "- Stated the difference between simple time estimation tasks and pattern-matching ones.\n",
    "- Compared three computational models of timing\n",
    "\n",
    "\n",
    "- Synfire chain\n",
    "    - Potentially general\n",
    "    - Traditional approach\n",
    "        - No recurrence\n",
    "        - Limited capacity\n",
    "\n",
    "\n",
    "- Positive feedback (weak)\n",
    "    - Slow decay\n",
    "    - Do not require tonic input\n",
    "        - Local. Intrinsic.\n",
    "    - Requires reset\n",
    "\n",
    "\n",
    "- State-dependent computations\n",
    "    - Temporal information from *hidden states*\n",
    "        - e.g. Short Term Plasticity\n",
    "    - Good for interval **and** pattern timing\n",
    "        \n",
    "        \n",
    "The brain has multiple timing mechanisms, and those for interval timing and pattern timing may differ for some tasks, and intertwine in others.\n"
   ]
  },
  {
   "cell_type": "markdown",
   "metadata": {},
   "source": [
    "### Pensamentos"
   ]
  },
  {
   "cell_type": "markdown",
   "metadata": {},
   "source": [
    "- Calculate basic Poisson statistics on data\n",
    "    - Fano factor\n",
    "    - ISI distribution\n",
    "    - ISI $C_v$"
   ]
  },
  {
   "cell_type": "markdown",
   "metadata": {},
   "source": [
    "---"
   ]
  },
  {
   "cell_type": "markdown",
   "metadata": {},
   "source": [
    "## Dia 04/10"
   ]
  },
  {
   "cell_type": "markdown",
   "metadata": {},
   "source": [
    "### Estudo"
   ]
  },
  {
   "cell_type": "markdown",
   "metadata": {
    "heading_collapsed": true
   },
   "source": [
    "#### Dayan & Abott\n",
    "##### Páginas: \n",
    "- Pontos chave\n"
   ]
  },
  {
   "cell_type": "markdown",
   "metadata": {},
   "source": [
    "#### Artigo: Contextual encoding by ensembles of medial prefrontal cortex neurons\n",
    "###### Hyman, James M., et al. \"Contextual encoding by ensembles of medial prefrontal cortex neurons.\" Proceedings of the National Academy of Sciences 109.13 (2012): 5086-5091."
   ]
  },
  {
   "cell_type": "markdown",
   "metadata": {},
   "source": [
    "- Overview:\n",
    "    - Context decoding\n",
    "    - Relation between mPFC and HPC CA1\n",
    "    - Time on task modulates mPFC activity\n",
    "    - mPFC have a higher-lever context representation\n",
    "        - May depend\n",
    "            - Not only on sensory features\n",
    "            - Also actions\n",
    "            - Also time"
   ]
  },
  {
   "cell_type": "markdown",
   "metadata": {},
   "source": [
    "- Métodos:\n",
    "    - d' (signal detection)\n",
    "    - Mahalanobis\n",
    "    - Multi Dimensional Scaling"
   ]
  },
  {
   "cell_type": "markdown",
   "metadata": {},
   "source": [
    "### Reunião com Raphael Camargo"
   ]
  },
  {
   "cell_type": "markdown",
   "metadata": {},
   "source": [
    "- ."
   ]
  },
  {
   "cell_type": "markdown",
   "metadata": {},
   "source": [
    "### Pensamentos"
   ]
  },
  {
   "cell_type": "markdown",
   "metadata": {},
   "source": [
    "###### Sobre a nova organização dos dados:"
   ]
  },
  {
   "cell_type": "markdown",
   "metadata": {},
   "source": [
    "- Incluir mais maleabilidade:\n",
    "    - Possibilitar escolher o time-locking: Final ou começo\n",
    "    - Facilitar a inclusão de outras características das tentativas (custom made)\n",
    "    - Permitir a escolha do y - a partir de qualquer uma das caracteristicas"
   ]
  },
  {
   "cell_type": "markdown",
   "metadata": {},
   "source": [
    "### Progresso"
   ]
  },
  {
   "cell_type": "markdown",
   "metadata": {},
   "source": [
    "---"
   ]
  },
  {
   "cell_type": "markdown",
   "metadata": {},
   "source": [
    "## Dia"
   ]
  },
  {
   "cell_type": "markdown",
   "metadata": {},
   "source": [
    "### Estudo"
   ]
  },
  {
   "cell_type": "markdown",
   "metadata": {},
   "source": [
    "#### Dayan & Abott\n",
    "##### Páginas: \n",
    "- Pontos chave\n"
   ]
  },
  {
   "cell_type": "markdown",
   "metadata": {},
   "source": [
    "#### Artigo:\n",
    "- Resumo:\n",
    "    - \n",
    "    \n",
    "    \n",
    "- Pontos chave:\n",
    "    - 1."
   ]
  },
  {
   "cell_type": "markdown",
   "metadata": {},
   "source": [
    "### Pensamentos"
   ]
  },
  {
   "cell_type": "markdown",
   "metadata": {},
   "source": [
    "### Progresso"
   ]
  },
  {
   "cell_type": "markdown",
   "metadata": {},
   "source": [
    "---"
   ]
  },
  {
   "cell_type": "markdown",
   "metadata": {},
   "source": [
    "## Dia"
   ]
  },
  {
   "cell_type": "markdown",
   "metadata": {},
   "source": [
    "### Estudo"
   ]
  },
  {
   "cell_type": "markdown",
   "metadata": {},
   "source": [
    "#### Dayan & Abott\n",
    "##### Páginas: \n",
    "- Pontos chave\n"
   ]
  },
  {
   "cell_type": "markdown",
   "metadata": {},
   "source": [
    "#### Artigo:\n",
    "- Resumo:\n",
    "    - \n",
    "    \n",
    "    \n",
    "- Pontos chave:\n",
    "    - 1."
   ]
  },
  {
   "cell_type": "markdown",
   "metadata": {},
   "source": [
    "### Pensamentos"
   ]
  },
  {
   "cell_type": "markdown",
   "metadata": {},
   "source": [
    "### Progresso"
   ]
  },
  {
   "cell_type": "markdown",
   "metadata": {},
   "source": [
    "---"
   ]
  }
 ],
 "metadata": {
  "hide_input": true,
  "kernelspec": {
   "display_name": "Python 3",
   "language": "python",
   "name": "python3"
  },
  "language_info": {
   "codemirror_mode": {
    "name": "ipython",
    "version": 3
   },
   "file_extension": ".py",
   "mimetype": "text/x-python",
   "name": "python",
   "nbconvert_exporter": "python",
   "pygments_lexer": "ipython3",
   "version": "3.6.2"
  },
  "toc": {
   "colors": {
    "hover_highlight": "#DAA520",
    "navigate_num": "#000000",
    "navigate_text": "#333333",
    "running_highlight": "#FF0000",
    "selected_highlight": "#FFD700",
    "sidebar_border": "#EEEEEE",
    "wrapper_background": "#FFFFFF"
   },
   "moveMenuLeft": true,
   "nav_menu": {},
   "navigate_menu": true,
   "number_sections": false,
   "sideBar": true,
   "skip_h1_title": false,
   "threshold": 4,
   "toc_cell": false,
   "toc_position": {
    "height": "764px",
    "left": "0px",
    "right": "1615.33px",
    "top": "108px",
    "width": "349px"
   },
   "toc_section_display": "block",
   "toc_window_display": true,
   "widenNotebook": false
  }
 },
 "nbformat": 4,
 "nbformat_minor": 2
}
