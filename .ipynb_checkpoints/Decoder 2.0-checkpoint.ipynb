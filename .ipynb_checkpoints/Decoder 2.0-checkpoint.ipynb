{
 "cells": [
  {
   "cell_type": "code",
   "execution_count": 1,
   "metadata": {
    "collapsed": false
   },
   "outputs": [
    {
     "name": "stderr",
     "output_type": "stream",
     "text": [
      "/home/estevao/py2_kernel/local/lib/python2.7/site-packages/matplotlib/font_manager.py:273: UserWarning: Matplotlib is building the font cache using fc-list. This may take a moment.\n",
      "  warnings.warn('Matplotlib is building the font cache using fc-list. This may take a moment.')\n"
     ]
    }
   ],
   "source": [
    "from sklearn.svm import SVC\n",
    "import pandas as pd\n",
    "import numpy as np\n",
    "from sklearn.model_selection import GridSearchCV\n",
    "from sklearn import datasets\n",
    "from sklearn.base import clone\n",
    "from scipy.io import loadmat\n",
    "from scipy.stats import pearsonr\n",
    "from __future__ import division\n",
    "import matplotlib.pyplot as plt\n",
    "%matplotlib inline"
   ]
  },
  {
   "cell_type": "code",
   "execution_count": 633,
   "metadata": {
    "collapsed": true
   },
   "outputs": [],
   "source": [
    "class ClassifierBundle():\n",
    "    def __init__(self):\n",
    "        self.classifiers = {}\n",
    "\n",
    "    def addClassifier(self,index, clf):\n",
    "        if index not in self.classifiers.keys():\n",
    "            self.classifiers[index]=[]\n",
    "        self.classifiers[index].append(clf)\n",
    "\n",
    "    def getClassifiers(self):\n",
    "        return self.classifiers\n",
    "\n",
    "    def numberOfClassifiers(self, index):\n",
    "        if index not in self.classifiers.keys():\n",
    "            return 0\n",
    "        else:\n",
    "            return len(self.classifiers[index])"
   ]
  },
  {
   "cell_type": "code",
   "execution_count": 634,
   "metadata": {
    "collapsed": true
   },
   "outputs": [],
   "source": [
    "class PredictionsBundle():\n",
    "    def __init__(self):\n",
    "        self.predictions = {}\n",
    "\n",
    "    def addPrediction(self,index, pred):\n",
    "        if index not in self.predictions.keys():\n",
    "            self.predictions[index]=[]\n",
    "        self.predictions[index].append(pred)\n",
    "\n",
    "    def getPredictions(self):\n",
    "        return self.predictions"
   ]
  },
  {
   "cell_type": "code",
   "execution_count": 635,
   "metadata": {
    "collapsed": true
   },
   "outputs": [],
   "source": [
    "class dataToClassifier():\n",
    "    def __init__(self):\n",
    "        self.data = None\n",
    "        self.target = None\n",
    "        \n",
    "    def addData(self, X, y):\n",
    "        if self.data is None:\n",
    "            self.data = X\n",
    "            self.target = y\n",
    "        else:\n",
    "            self.data = np.vstack((self.data, X))\n",
    "            self.target = np.hstack((self.target, y))"
   ]
  },
  {
   "cell_type": "code",
   "execution_count": 645,
   "metadata": {
    "collapsed": true
   },
   "outputs": [],
   "source": [
    "class DataHandler():\n",
    "    def __init__(self, dataset, trainSize):\n",
    "        self.trainSize = trainSize\n",
    "        self.dataset = dataset.copy()\n",
    "        self.trialsToUse = np.arange(dataset.shape[2])\n",
    "        self.timesToUse = np.arange(dataset.shape[1])\n",
    "        self.nDimensions= dataset.shape[0]\n",
    "        \n",
    "    def getTrialsData(self,trialIndexes):\n",
    "        allTrialsData = dataToClassifier()\n",
    "        for itrial in trialIndexes:\n",
    "            X,y = self.oneTrialData(itrial)\n",
    "            allTrialsData.addData(X,y)\n",
    "        return allTrialsData\n",
    "    \n",
    "    def oneTrialData(self,trialIndex):\n",
    "        X = np.transpose(self.dataset[:,:,trialIndex])\n",
    "        y = self.timesToUse\n",
    "        return X, y\n",
    "        \n",
    "    def getTrainIndexes(self,testTrial):\n",
    "        nonTestTrials = list(self.trialsToUse)\n",
    "        nonTestTrials.remove(testTrial)\n",
    "        trainIndexes = np.random.choice(nonTestTrials, self.trainSize, replace=False)\n",
    "        return trainIndexes\n",
    "    \n",
    "    def trialShuffle(self):\n",
    "        for i in range(self.nDimensions):\n",
    "            for j in self.timesToUse:\n",
    "                np.random.shuffle(self.dataset[i,j,:])\n",
    "                \n",
    "    def binShuffle(self):\n",
    "        for i in range(self.nDimensions):\n",
    "            for k in self.trialsToUse:\n",
    "                np.random.shuffle(self.dataset[i,:,k])"
   ]
  },
  {
   "cell_type": "markdown",
   "metadata": {},
   "source": [
    "#### Test shuffles"
   ]
  },
  {
   "cell_type": "code",
   "execution_count": 637,
   "metadata": {
    "collapsed": false
   },
   "outputs": [],
   "source": [
    "trialsToUse = range(600,604)\n",
    "timesToUse = range(0,3)\n",
    "trainSize = 30\n",
    "neuronsToUse = 2\n",
    "myset = dataset[:2,:3,600:604]\n",
    "\n",
    "hand = DataHandler(myset, trainSize)\n",
    "\n",
    "shuf = DataHandler(myset, trainSize)\n",
    "\n",
    "shuf.binShuffle()"
   ]
  },
  {
   "cell_type": "code",
   "execution_count": 630,
   "metadata": {
    "collapsed": false
   },
   "outputs": [],
   "source": [
    "allt = hand.getTrialsData(range(0,4))\n",
    "shut = shuf.getTrialsData(range(0,4))"
   ]
  },
  {
   "cell_type": "code",
   "execution_count": 631,
   "metadata": {
    "collapsed": false
   },
   "outputs": [
    {
     "data": {
      "text/plain": [
       "array([[ 0.        ,  0.55338281],\n",
       "       [ 1.17286876,  0.        ],\n",
       "       [ 0.        ,  0.        ],\n",
       "       [ 0.18803785,  0.        ]])"
      ]
     },
     "execution_count": 631,
     "metadata": {},
     "output_type": "execute_result"
    }
   ],
   "source": [
    "allt.data[allt.target==0]"
   ]
  },
  {
   "cell_type": "code",
   "execution_count": 632,
   "metadata": {
    "collapsed": false
   },
   "outputs": [
    {
     "data": {
      "text/plain": [
       "array([[ 1.28844971,  2.26590526],\n",
       "       [ 1.17286876,  0.        ],\n",
       "       [ 0.        ,  0.37607571],\n",
       "       [ 0.18803785,  1.48153342]])"
      ]
     },
     "execution_count": 632,
     "metadata": {},
     "output_type": "execute_result"
    }
   ],
   "source": [
    "shut.data[shut.target==0]"
   ]
  },
  {
   "cell_type": "code",
   "execution_count": 522,
   "metadata": {
    "collapsed": false
   },
   "outputs": [],
   "source": [
    "neuronSum = allt.data.sum(axis=0)\n",
    "timeSum = allt.data.sum(axis=1)\n",
    "\n",
    "neuronShuf = shut.data.sum(axis=0)\n",
    "timeShuf = shut.data.sum(axis=1)"
   ]
  },
  {
   "cell_type": "code",
   "execution_count": 523,
   "metadata": {
    "collapsed": false
   },
   "outputs": [
    {
     "data": {
      "text/plain": [
       "array([ True,  True,  True,  True], dtype=bool)"
      ]
     },
     "execution_count": 523,
     "metadata": {},
     "output_type": "execute_result"
    }
   ],
   "source": [
    "neuronSum == neuronShuf"
   ]
  },
  {
   "cell_type": "code",
   "execution_count": 524,
   "metadata": {
    "collapsed": false
   },
   "outputs": [
    {
     "data": {
      "text/plain": [
       "array([False, False, False, False, False, False, False, False, False,\n",
       "       False, False, False, False, False, False], dtype=bool)"
      ]
     },
     "execution_count": 524,
     "metadata": {},
     "output_type": "execute_result"
    }
   ],
   "source": [
    "timeShuf == timeSum"
   ]
  },
  {
   "cell_type": "code",
   "execution_count": 64,
   "metadata": {
    "collapsed": false
   },
   "outputs": [
    {
     "data": {
      "text/plain": [
       "array([[[ 0.14644403,  0.24144538,  1.35937638,  0.        ,  0.        ],\n",
       "        [ 0.11405072,  0.49805986,  0.79221501,  0.        ,  0.        ],\n",
       "        [ 0.        ,  0.38788941,  0.43933208,  0.        ,  0.        ],\n",
       "        [ 0.        ,  0.30208858,  1.2722182 ,  0.        ,  0.        ]],\n",
       "\n",
       "       [[ 0.14644403,  0.24144538,  1.23198172,  0.        ,  0.        ],\n",
       "        [ 0.11405072,  0.49805986,  0.60417716,  0.        ,  0.31002201],\n",
       "        [ 0.        ,  0.38788941,  0.29288806,  0.        ,  0.24144538],\n",
       "        [ 0.        ,  0.30208858,  0.84814547,  0.        ,  0.18803785]],\n",
       "\n",
       "       [[ 0.29288806,  0.24144538,  1.35937638,  0.        ,  0.        ],\n",
       "        [ 0.22810145,  0.49805986,  0.79221501,  0.        ,  0.31002201],\n",
       "        [ 0.        ,  0.38788941,  0.43933208,  0.        ,  0.24144538],\n",
       "        [ 0.        ,  0.30208858,  0.96219619,  0.        ,  0.18803785]]])"
      ]
     },
     "execution_count": 64,
     "metadata": {},
     "output_type": "execute_result"
    }
   ],
   "source": [
    "toyset = dataset[10:13,10:14,0:5]\n",
    "toyset"
   ]
  },
  {
   "cell_type": "code",
   "execution_count": 303,
   "metadata": {
    "collapsed": false
   },
   "outputs": [
    {
     "data": {
      "text/plain": [
       "array([[[ 0.        ,  0.        ,  0.        ,  0.24144538,  1.35937638],\n",
       "        [ 0.14644403,  0.49805986,  0.79221501,  0.        ,  0.        ],\n",
       "        [ 0.38788941,  0.        ,  0.        ,  0.43933208,  0.11405072],\n",
       "        [ 0.        ,  0.30208858,  1.2722182 ,  0.        ,  0.        ]],\n",
       "\n",
       "       [[ 0.14644403,  0.24144538,  1.23198172,  0.        ,  0.        ],\n",
       "        [ 0.11405072,  0.49805986,  0.60417716,  0.        ,  0.31002201],\n",
       "        [ 0.        ,  0.38788941,  0.29288806,  0.        ,  0.24144538],\n",
       "        [ 0.        ,  0.30208858,  0.84814547,  0.        ,  0.18803785]],\n",
       "\n",
       "       [[ 0.29288806,  0.24144538,  1.35937638,  0.        ,  0.        ],\n",
       "        [ 0.22810145,  0.49805986,  0.79221501,  0.        ,  0.31002201],\n",
       "        [ 0.        ,  0.38788941,  0.43933208,  0.        ,  0.24144538],\n",
       "        [ 0.        ,  0.30208858,  0.96219619,  0.        ,  0.18803785]]])"
      ]
     },
     "execution_count": 303,
     "metadata": {},
     "output_type": "execute_result"
    }
   ],
   "source": [
    "np.random.shuffle(toyset[2,:,2])\n",
    "toyset"
   ]
  },
  {
   "cell_type": "code",
   "execution_count": 638,
   "metadata": {
    "collapsed": false
   },
   "outputs": [],
   "source": [
    "class PredictionsHandler():\n",
    "    def __init__(self):\n",
    "        pass\n",
    "\n",
    "    def predictAllResults(self, dataHandl, clfBox):\n",
    "        predBox = PredictionsBundle()\n",
    "        classifiers = clfBox.getClassifiers()\n",
    "        for iTestTrial in dataHandl.trialsToUse:\n",
    "            for iclf in classifiers[iTestTrial]:\n",
    "                trialsData = dataHandl.getTrialsData([iTestTrial])\n",
    "                predBox.addPrediction(iTestTrial, iclf.predict(trialsData.data))\n",
    "        return predBox\n",
    "\n",
    "    def correlate(self, predBox, target):\n",
    "        correlations=[]\n",
    "        predictions = predBox.getPredictions()\n",
    "        for trial in predictions.keys():\n",
    "            correlations.append([ pearsonr(pred,target)[0] for pred in predictions[trial] ])\n",
    "        return np.array(correlations)\n",
    "\n",
    "    def histogram(self, correlations):\n",
    "        plt.hist(correlations[~np.isnan(correlations)].reshape(-1,1))\n",
    "\n",
    "\n",
    "class ClassifierHandler():\n",
    "    def __init__(self, Nclf_ForEachTrial):\n",
    "        self.bestClassifier = None\n",
    "        self.Nclf_ForEachTrial = Nclf_ForEachTrial\n",
    "\n",
    "    def generateClassifiers(self,dataHandl):\n",
    "        clfBox = ClassifierBundle()\n",
    "        for iTestTrial in dataHandl.trialsToUse:\n",
    "            while clfBox.numberOfClassifiers(iTestTrial) < self.Nclf_ForEachTrial:\n",
    "                self.__generateAndAddClassifier(iTestTrial,dataHandl, clfBox)\n",
    "        return clfBox\n",
    "\n",
    "    def __generateAndAddClassifier(self,testTrial,dataHandl,clfBox):\n",
    "        trainIndexes = dataHandl.getTrainIndexes(testTrial)\n",
    "        clf = self.__trainOneClassifier(trainIndexes, dataHandl)\n",
    "        clfBox.addClassifier(testTrial,clf)\n",
    "        #self.__addClassifierToAll(trainIndexes, clf, dataHandl, clfBox)\n",
    "\n",
    "    def __trainOneClassifier(self,trainIndexes,dataHandl):\n",
    "        if self.bestClassifier is None:\n",
    "            self.__gridSearch(dataHandl)\n",
    "        clf = clone(self.bestClassifier)\n",
    "        trialsData = dataHandl.getTrialsData(trainIndexes)\n",
    "        clf.fit(trialsData.data,trialsData.target)\n",
    "        return clf\n",
    "\n",
    "    def __addClassifierToAll(self,trainIndexes, clf, dataHandl, clfBox):\n",
    "        possibleTestTrials = list( set(dataHandl.trialsToUse)-set(trainIndexes) )\n",
    "        for eachTrial in possibleTestTrials:\n",
    "            if clfBox.numberOfClassifiers(eachTrial) < self.Nclf_ForEachTrial:\n",
    "                clfBox.addClassifier(eachTrial,clf)\n",
    "\n",
    "    def __gridSearch(self, dataHandl):\n",
    "        grid_trials = dataHandl.trialsToUse\n",
    "        trialsData = dataHandl.getTrialsData(grid_trials)\n",
    "\n",
    "        clf = SVC( kernel='rbf' )\n",
    "        grid = GridSearchCV(clf, self.__gridParams(), cv=5)\n",
    "        grid.fit(trialsData.data,trialsData.target)\n",
    "\n",
    "        self.bestClassifier = grid.best_estimator_\n",
    "\n",
    "    def __gridParams(self):\n",
    "        C_grid = range(1,17);\n",
    "        Gamma_grid = np.linspace(0.1,2,20)*1./40\n",
    "        return {'C':C_grid,'gamma':Gamma_grid}\n",
    "\n",
    "    def reset_grid(self):\n",
    "        self.bestClassifier = None\n"
   ]
  },
  {
   "cell_type": "markdown",
   "metadata": {},
   "source": [
    "#### Load Dataset"
   ]
  },
  {
   "cell_type": "code",
   "execution_count": 641,
   "metadata": {
    "collapsed": false
   },
   "outputs": [
    {
     "data": {
      "text/plain": [
       "(77, 31, 753)"
      ]
     },
     "execution_count": 641,
     "metadata": {},
     "output_type": "execute_result"
    }
   ],
   "source": [
    "ratset = loadmat('data_R10.mat')['C2']\n",
    "ratset.shape"
   ]
  },
  {
   "cell_type": "markdown",
   "metadata": {},
   "source": [
    "# Comparing beginning and end\n",
    "## Training classifier with ending trials"
   ]
  },
  {
   "cell_type": "code",
   "execution_count": 646,
   "metadata": {
    "collapsed": false
   },
   "outputs": [
    {
     "data": {
      "text/plain": [
       "(40, 20, 100)"
      ]
     },
     "execution_count": 646,
     "metadata": {},
     "output_type": "execute_result"
    }
   ],
   "source": [
    "trialsToUse = range(650,753)\n",
    "timesToUse = range(0,20)\n",
    "trainSize = 60\n",
    "neuronsToUse = 40\n",
    "dataset = ratset[:40,:20,650:750]\n",
    "dataset.shape"
   ]
  },
  {
   "cell_type": "code",
   "execution_count": 684,
   "metadata": {
    "collapsed": false
   },
   "outputs": [],
   "source": [
    "dataTrialShuffle = DataHandler(dataset, trainSize)\n",
    "dataTrialShuffle.trialShuffle()\n",
    "\n",
    "dataBinShuffle = DataHandler(dataset, trainSize)\n",
    "dataBinShuffle.trialShuffle()\n",
    "dataBinShuffle.binShuffle()\n",
    "\n",
    "\n",
    "trainer1 = ClassifierHandler(30)\n",
    "trainer2 = ClassifierHandler(30)\n",
    "predMaker = PredictionsHandler()\n"
   ]
  },
  {
   "cell_type": "code",
   "execution_count": 694,
   "metadata": {
    "collapsed": false
   },
   "outputs": [
    {
     "name": "stdout",
     "output_type": "stream",
     "text": [
      "CPU times: user 32.9 s, sys: 4 ms, total: 32.9 s\n",
      "Wall time: 32.8 s\n",
      "CPU times: user 34.1 s, sys: 12 ms, total: 34.1 s\n",
      "Wall time: 34.1 s\n",
      "Done\n"
     ]
    }
   ],
   "source": [
    "\n",
    "%time goodClfBox = trainer1.generateClassifiers(dataTrialShuffle)\n",
    "%time badClfBox = trainer2.generateClassifiers(dataBinShuffle)\n",
    "\n",
    "print('Done')"
   ]
  },
  {
   "cell_type": "markdown",
   "metadata": {},
   "source": [
    "# Trial shuffled predictions\n",
    "### Via trial shuffled classifiers"
   ]
  },
  {
   "cell_type": "code",
   "execution_count": 695,
   "metadata": {
    "collapsed": false
   },
   "outputs": [
    {
     "data": {
      "image/png": "[encoded data removed]",
      "text/plain": [
       "<matplotlib.figure.Figure at 0x7f4a4acb34d0>"
      ]
     },
     "metadata": {},
     "output_type": "display_data"
    }
   ],
   "source": [
    "goodPredBox = predMaker.predictAllResults(dataTrialShuffle, goodClfBox)\n",
    "goodPreds = predMaker.correlate(goodPredBox, timesToUse)\n",
    "predMaker.histogram(goodPreds)"
   ]
  },
  {
   "cell_type": "markdown",
   "metadata": {},
   "source": [
    "### Via bin shuffled classifiers"
   ]
  },
  {
   "cell_type": "code",
   "execution_count": 696,
   "metadata": {
    "collapsed": false
   },
   "outputs": [
    {
     "data": {
      "image/png": "[encoded data removed]",
      "text/plain": [
       "<matplotlib.figure.Figure at 0x7f4a4a9e5050>"
      ]
     },
     "metadata": {},
     "output_type": "display_data"
    }
   ],
   "source": [
    "mixedBox = predMaker.predictAllResults(dataTrialShuffle, badClfBox)\n",
    "mixPreds = predMaker.correlate(mixedBox, timesToUse)\n",
    "predMaker.histogram(mixPreds)"
   ]
  },
  {
   "cell_type": "markdown",
   "metadata": {},
   "source": [
    "# Bin shuffling predictions\n",
    "### Via bin shuffled classifiers"
   ]
  },
  {
   "cell_type": "code",
   "execution_count": 697,
   "metadata": {
    "collapsed": false
   },
   "outputs": [
    {
     "data": {
      "image/png": "[encoded data removed]",
      "text/plain": [
       "<matplotlib.figure.Figure at 0x7f4a4ab48d10>"
      ]
     },
     "metadata": {},
     "output_type": "display_data"
    }
   ],
   "source": [
    "badPredBox = predMaker.predictAllResults(dataBinShuffle,badClfBox)\n",
    "badPreds = predMaker.correlate(badPredBox, timesToUse)\n",
    "predMaker.histogram(badPreds)"
   ]
  },
  {
   "cell_type": "markdown",
   "metadata": {},
   "source": [
    "### Via trial shuffled classifiers"
   ]
  },
  {
   "cell_type": "code",
   "execution_count": 698,
   "metadata": {
    "collapsed": false
   },
   "outputs": [
    {
     "data": {
      "image/png": "[encoded data removed]",
      "text/plain": [
       "<matplotlib.figure.Figure at 0x7f4a4ab485d0>"
      ]
     },
     "metadata": {},
     "output_type": "display_data"
    }
   ],
   "source": [
    "mixedBox = predMaker.predictAllResults(dataBinShuffle, goodClfBox)\n",
    "mixPreds = predMaker.correlate(mixedBox, timesToUse)\n",
    "predMaker.histogram(mixPreds)"
   ]
  },
  {
   "cell_type": "markdown",
   "metadata": {},
   "source": [
    "# Increase train size"
   ]
  },
  {
   "cell_type": "code",
   "execution_count": 670,
   "metadata": {
    "collapsed": false
   },
   "outputs": [
    {
     "name": "stdout",
     "output_type": "stream",
     "text": [
      "CPU times: user 2min, sys: 76 ms, total: 2min\n",
      "Wall time: 2min\n",
      "CPU times: user 1min 53s, sys: 60 ms, total: 1min 53s\n",
      "Wall time: 1min 53s\n"
     ]
    }
   ],
   "source": [
    "dataTrialShuffle = DataHandler(dataset, 80)\n",
    "dataTrialShuffle.trialShuffle()\n",
    "\n",
    "dataBinShuffle = DataHandler(dataset, 80)\n",
    "dataBinShuffle.trialShuffle()\n",
    "dataBinShuffle.binShuffle()\n",
    "\n",
    "%time goodClfBox = trainer1.generateClassifiers(dataTrialShuffle)\n",
    "%time badClfBox = trainer2.generateClassifiers(dataBinShuffle)"
   ]
  },
  {
   "cell_type": "code",
   "execution_count": 671,
   "metadata": {
    "collapsed": false
   },
   "outputs": [
    {
     "data": {
      "image/png": "[encoded data removed]",
      "text/plain": [
       "<matplotlib.figure.Figure at 0x7f4a49126350>"
      ]
     },
     "metadata": {},
     "output_type": "display_data"
    }
   ],
   "source": [
    "goodPredBox = predMaker.predictAllResults(dataTrialShuffle, goodClfBox)\n",
    "goodPreds = predMaker.correlate(goodPredBox, timesToUse)\n",
    "predMaker.histogram(goodPreds)"
   ]
  },
  {
   "cell_type": "code",
   "execution_count": 683,
   "metadata": {
    "collapsed": false
   },
   "outputs": [
    {
     "data": {
      "image/png": "[encoded data removed]",
      "text/plain": [
       "<matplotlib.figure.Figure at 0x7f4a50e752d0>"
      ]
     },
     "metadata": {},
     "output_type": "display_data"
    }
   ],
   "source": [
    "badPredBox = predMaker.predictAllResults(dataBinShuffle,badClfBox)\n",
    "badPreds = predMaker.correlate(badPredBox, timesToUse)\n",
    "predMaker.histogram(badPreds)"
   ]
  },
  {
   "cell_type": "markdown",
   "metadata": {},
   "source": [
    "# Compare with early trials"
   ]
  },
  {
   "cell_type": "code",
   "execution_count": 691,
   "metadata": {
    "collapsed": false
   },
   "outputs": [
    {
     "data": {
      "text/plain": [
       "(77, 31, 753)"
      ]
     },
     "execution_count": 691,
     "metadata": {},
     "output_type": "execute_result"
    }
   ],
   "source": [
    "ratset.shape"
   ]
  },
  {
   "cell_type": "code",
   "execution_count": 693,
   "metadata": {
    "collapsed": false
   },
   "outputs": [],
   "source": [
    "dataset = ratset[:40,:20,50:150]\n",
    "earlyTrials= DataHandler(dataset, trainSize)\n",
    "earlyTrials.trialShuffle()\n",
    "\n",
    "earlyTrainer = ClassifierHandler(30)\n",
    "earlyClfBox = earlyTrainer.generateClassifiers(earlyTrials)"
   ]
  },
  {
   "cell_type": "code",
   "execution_count": 699,
   "metadata": {
    "collapsed": false
   },
   "outputs": [
    {
     "data": {
      "image/png": "[encoded data removed]",
      "text/plain": [
       "<matplotlib.figure.Figure at 0x7f4a4aa30590>"
      ]
     },
     "metadata": {},
     "output_type": "display_data"
    }
   ],
   "source": [
    "earlyPredBox = predMaker.predictAllResults(earlyTrials, earlyClfBox)\n",
    "earlyPreds = predMaker.correlate(earlyPredBox, timesToUse)\n",
    "predMaker.histogram(goodPreds)"
   ]
  },
  {
   "cell_type": "markdown",
   "metadata": {},
   "source": [
    "# Early training predicting late trials"
   ]
  },
  {
   "cell_type": "code",
   "execution_count": 700,
   "metadata": {
    "collapsed": false
   },
   "outputs": [
    {
     "data": {
      "image/png": "[encoded data removed]",
      "text/plain": [
       "<matplotlib.figure.Figure at 0x7f4a4aca0190>"
      ]
     },
     "metadata": {},
     "output_type": "display_data"
    }
   ],
   "source": [
    "pbox = predMaker.predictAllResults(dataTrialShuffle, earlyClfBox)\n",
    "p = predMaker.correlate(pbox, timesToUse)\n",
    "predMaker.histogram(p)"
   ]
  },
  {
   "cell_type": "markdown",
   "metadata": {},
   "source": [
    "# Late training predicting early trials"
   ]
  },
  {
   "cell_type": "code",
   "execution_count": 701,
   "metadata": {
    "collapsed": false
   },
   "outputs": [
    {
     "data": {
      "image/png": "[encoded data removed]",
      "text/plain": [
       "<matplotlib.figure.Figure at 0x7f4a491ba150>"
      ]
     },
     "metadata": {},
     "output_type": "display_data"
    }
   ],
   "source": [
    "pbox = predMaker.predictAllResults(earlyTrials, goodClfBox)\n",
    "p = predMaker.correlate(pbox, timesToUse)\n",
    "predMaker.histogram(p)"
   ]
  },
  {
   "cell_type": "code",
   "execution_count": null,
   "metadata": {
    "collapsed": true
   },
   "outputs": [],
   "source": []
  }
 ],
 "metadata": {
  "kernelspec": {
   "display_name": "py2",
   "language": "python",
   "name": "py2"
  },
  "language_info": {
   "codemirror_mode": {
    "name": "ipython",
    "version": 2
   },
   "file_extension": ".py",
   "mimetype": "text/x-python",
   "name": "python",
   "nbconvert_exporter": "python",
   "pygments_lexer": "ipython2",
   "version": "2.7.6"
  }
 },
 "nbformat": 4,
 "nbformat_minor": 0
}
