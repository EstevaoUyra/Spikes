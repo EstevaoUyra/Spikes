{
 "cells": [
  {
   "cell_type": "markdown",
   "metadata": {
    "toc": "true"
   },
   "source": [
    "# Table of Contents\n",
    " <p><div class=\"lev1 toc-item\"><a href=\"#Hypothesis\" data-toc-modified-id=\"Hypothesis-1\"><span class=\"toc-item-num\">1&nbsp;&nbsp;</span>Hypothesis</a></div><div class=\"lev1 toc-item\"><a href=\"#Analysis\" data-toc-modified-id=\"Analysis-2\"><span class=\"toc-item-num\">2&nbsp;&nbsp;</span>Analysis</a></div><div class=\"lev2 toc-item\"><a href=\"#Imports\" data-toc-modified-id=\"Imports-21\"><span class=\"toc-item-num\">2.1&nbsp;&nbsp;</span>Imports</a></div><div class=\"lev2 toc-item\"><a href=\"#Data-separation-and-cropping\" data-toc-modified-id=\"Data-separation-and-cropping-22\"><span class=\"toc-item-num\">2.2&nbsp;&nbsp;</span>Data separation and cropping</a></div><div class=\"lev2 toc-item\"><a href=\"#Classification\" data-toc-modified-id=\"Classification-23\"><span class=\"toc-item-num\">2.3&nbsp;&nbsp;</span>Classification</a></div><div class=\"lev1 toc-item\"><a href=\"#Results\" data-toc-modified-id=\"Results-3\"><span class=\"toc-item-num\">3&nbsp;&nbsp;</span>Results</a></div>"
   ]
  },
  {
   "cell_type": "markdown",
   "metadata": {},
   "source": [
    "# Hypothesis"
   ]
  },
  {
   "cell_type": "markdown",
   "metadata": {},
   "source": [
    "We propose the dynamics of temporal activity in the mPFC may have contractions or dilations that relate to the behavioral duration of the trial. We planned the following analysis in which to test this hypothesis:\n",
    "\n",
    "\n",
    "###### Decoding performance comparation between:\n",
    "- Similar-duration trials\n",
    "- Trials with many durations\n",
    "\n",
    "\n",
    "###### Method:\n",
    "1. **Trial selection**: \n",
    "    1. Define $T_{+} = \\{t_i \\in T_{all}  \\quad|\\quad i > behaviorThreshold \\}$\n",
    "        - Behavior threshold is calculated by <br><br>\n",
    "        \n",
    "    2. Separation of trial sets $T_{similar}$ and $T_{bigger}$, according to duration $D(t_i)$\n",
    "        - $T_{similar} = \\{t_i \\in T_{+}  \\quad|\\quad D(t_i) \\in [1.5s,3s] \\}$\n",
    "        - $T_{bigger} = \\{t_i \\in T_{+}  \\quad|\\quad D(t_i) > 1.5s \\}$<br><br><br>\n",
    "    \n",
    "2. **Bin selection**: Trial cropping\n",
    "    - From each set, separate and label bins corresponding to times $\\in [0.2s, 1.2s]$  <br><br><br>\n",
    "    \n",
    "3. **Classification**\n",
    "    1. Markov cross-validation of each set using N trials\n",
    "        - N = $0.8 \\times |T_{similar}|$\n",
    "        - Folds: 30\n",
    "    2. Performance: cohen's kappa, quadratic weighted<br><br><br>\n",
    "  \n",
    "4. **Aggregation** of data from the 4 rats\n",
    "    - Paired t-test"
   ]
  },
  {
   "cell_type": "markdown",
   "metadata": {},
   "source": [
    "# Analysis"
   ]
  },
  {
   "cell_type": "markdown",
   "metadata": {},
   "source": [
    "## Imports"
   ]
  },
  {
   "cell_type": "code",
   "execution_count": 1,
   "metadata": {
    "collapsed": true
   },
   "outputs": [],
   "source": [
    "from spikeHelper.loadSpike import Rat"
   ]
  },
  {
   "cell_type": "markdown",
   "metadata": {},
   "source": [
    "## Data separation and cropping"
   ]
  },
  {
   "cell_type": "code",
   "execution_count": 20,
   "metadata": {},
   "outputs": [],
   "source": [
    "similar = []\n",
    "bigger = []\n",
    "for n in [7,8,9,10]:\n",
    "    sim = Rat(n);\n",
    "    sim.selecTrials({'minDuration':1500, 'maxDuration':2500});\n",
    "    sim.selecTimes(tmin=200,tmax=1200)\n",
    "    similar.append(sim)\n",
    "    \n",
    "    big = Rat(n);\n",
    "    big.selecTrials({'minDuration':1500});\n",
    "    big.selecTimes(tmin=200,tmax=1200)\n",
    "    bigger.append(big)\n"
   ]
  },
  {
   "cell_type": "markdown",
   "metadata": {},
   "source": [
    "## Classification"
   ]
  },
  {
   "cell_type": "code",
   "execution_count": 10,
   "metadata": {},
   "outputs": [
    {
     "name": "stdout",
     "output_type": "stream",
     "text": [
      "Label: Rat 10\n",
      "Bin size: 100\n",
      "Sigma: 100\n",
      "\n",
      "No selected trials.\n",
      "\n",
      "Time bins not selected.\n"
     ]
    }
   ],
   "source": []
  },
  {
   "cell_type": "markdown",
   "metadata": {},
   "source": [
    "# Results"
   ]
  },
  {
   "cell_type": "code",
   "execution_count": null,
   "metadata": {
    "collapsed": true
   },
   "outputs": [],
   "source": []
  }
 ],
 "metadata": {
  "hide_input": false,
  "kernelspec": {
   "display_name": "Python 3",
   "language": "python",
   "name": "python3"
  },
  "language_info": {
   "codemirror_mode": {
    "name": "ipython",
    "version": 3
   },
   "file_extension": ".py",
   "mimetype": "text/x-python",
   "name": "python",
   "nbconvert_exporter": "python",
   "pygments_lexer": "ipython3",
   "version": "3.6.2"
  },
  "toc": {
   "colors": {
    "hover_highlight": "#DAA520",
    "navigate_num": "#000000",
    "navigate_text": "#333333",
    "running_highlight": "#FF0000",
    "selected_highlight": "#FFD700",
    "sidebar_border": "#EEEEEE",
    "wrapper_background": "#FFFFFF"
   },
   "moveMenuLeft": true,
   "nav_menu": {
    "height": "118px",
    "width": "253px"
   },
   "navigate_menu": true,
   "number_sections": true,
   "sideBar": true,
   "threshold": 4,
   "toc_cell": true,
   "toc_section_display": "block",
   "toc_window_display": true,
   "widenNotebook": false
  }
 },
 "nbformat": 4,
 "nbformat_minor": 2
}
