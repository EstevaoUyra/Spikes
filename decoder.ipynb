{
 "cells": [
  {
   "cell_type": "code",
   "execution_count": 1,
   "metadata": {
    "collapsed": true
   },
   "outputs": [],
   "source": [
    "from sklearn.svm import SVC\n",
    "import pandas as pd\n",
    "import numpy as np\n",
    "from sklearn.model_selection import GridSearchCV\n",
    "from sklearn import datasets\n",
    "from sklearn.base import clone"
   ]
  },
  {
   "cell_type": "code",
   "execution_count": 2,
   "metadata": {
    "collapsed": true
   },
   "outputs": [],
   "source": [
    "iris = datasets.load_iris()\n",
    "\n",
    "# Funcao abaixo testada"
   ]
  },
  {
   "cell_type": "markdown",
   "metadata": {},
   "source": [
    "# Pré-processamento \n",
    "(em construção)"
   ]
  },
  {
   "cell_type": "code",
   "execution_count": 3,
   "metadata": {
    "collapsed": true
   },
   "outputs": [],
   "source": [
    "def pre_processing():\n",
    "    return spike.data, spike.target\n",
    "def binShuffle(data):\n",
    "    return data\n",
    "def trialShuffle(data):\n",
    "    return data"
   ]
  },
  {
   "cell_type": "markdown",
   "metadata": {},
   "source": [
    "# Data Handling\n",
    "a função de getTrialsData será mudada completamente para acomodar o novo formato de dados\n",
    "(atualmente está servindo para o iris_dataset, usado apenas para testes"
   ]
  },
  {
   "cell_type": "code",
   "execution_count": 24,
   "metadata": {
    "collapsed": true
   },
   "outputs": [],
   "source": [
    "class DataHandler():\n",
    "    def __init__(self, trialsToUse, trainSize):\n",
    "        self.trialsToUse = trialsToUse\n",
    "        self.trainSize = trainSize\n",
    "\n",
    "    def getTrainIndexes(self,testTrial):\n",
    "        nonTestTrials = self.trialsToUse[:]\n",
    "        nonTestTrials.remove(testTrial)\n",
    "        trainIndexes = np.random.choice(nonTestTrials, self.trainSize, replace=False)\n",
    "        return trainIndexes\n",
    "\n",
    "    def getTrialsData(self,trialIndexes):\n",
    "        if type(trialIndexes)!=int: X = iris.data[trialIndexes]\n",
    "        else: X = np.array(iris.data[trialIndexes]).reshape(1,-1)\n",
    "\n",
    "        y = iris.target[trialIndexes]\n",
    "        return X, y"
   ]
  },
  {
   "cell_type": "markdown",
   "metadata": {},
   "source": [
    "# Classe decodificadora"
   ]
  },
  {
   "cell_type": "code",
   "execution_count": 25,
   "metadata": {
    "collapsed": false
   },
   "outputs": [],
   "source": [
    "class Classifiers():\n",
    "    def __init__(self, animalData, Nclf_ForEachTrial):\n",
    "        self.classifiers = {itrial:[] for itrial in animalData.trialsToUse}\n",
    "        self.predictions = {itrial:[] for itrial in animalData.trialsToUse}\n",
    "        self.bestClassifier = None\n",
    "        self.Nclf_ForEachTrial = Nclf_ForEachTrial\n",
    "        self.Data = animalData\n",
    "\n",
    "    def __generateClassifier(self,testTrial):\n",
    "        trainIndexes = self.Data.getTrainIndexes(testTrial)\n",
    "        clf = self.__trainOneClassifier(trainIndexes)\n",
    "        self.__addClassifierToAll(trainIndexes, clf)\n",
    "\n",
    "    def __addClassifierToAll(self,trainIndexes, clf):\n",
    "        possibleTestTrials = list( set(self.Data.trialsToUse)-set(trainIndexes) )\n",
    "        for eachTrial in possibleTestTrials:\n",
    "            if len(self.classifiers[eachTrial]) < self.Nclf_ForEachTrial:\n",
    "                self.classifiers[eachTrial].append(clf)\n",
    "\n",
    "    def __trainOneClassifier(self,trainIndexes):\n",
    "        if self.bestClassifier is None:\n",
    "            self.__gridSearch()\n",
    "        clf = clone(self.bestClassifier)\n",
    "        X, y = self.Data.getTrialsData(trainIndexes)\n",
    "        clf.fit(X,y)\n",
    "        return clf\n",
    "\n",
    "    def __gridSearch(self):\n",
    "        grid_trials = self.Data.trialsToUse\n",
    "        X, y = self.Data.getTrialsData(grid_trials)\n",
    "        clf = SVC( kernel='rbf' )\n",
    "        grid = GridSearchCV(clf, self.__gridParams(), cv=5)\n",
    "        grid.fit(X, y)\n",
    "        self.bestClassifier = grid.best_estimator_\n",
    "\n",
    "    def __gridParams(self):\n",
    "        C_grid = range(1,17);\n",
    "        Gamma_grid = np.linspace(0.0156,0.25,20)\n",
    "        return {'C':C_grid,'gamma':Gamma_grid}\n",
    "\n",
    "\n",
    "    def generateClassifiers(self):\n",
    "        for iTestTrial in self.Data.trialsToUse:\n",
    "            while len(self.classifiers[iTestTrial]) < self.Nclf_ForEachTrial:\n",
    "                self.__generateClassifier(iTestTrial)\n",
    "\n",
    "    def predictAllResults(self):\n",
    "        for iTestTrial in self.Data.trialsToUse:\n",
    "            for iclf in self.classifiers[iTestTrial]:\n",
    "                X, y = self.Data.getTrialsData(iTestTrial)\n",
    "                self.predictions[iTestTrial].append(iclf.predict(X))\n",
    "            #self.pearsonTest(iTestTrial)\n",
    "\n",
    "    def pearsonTest(self,iTestTrial):\n",
    "        self.predictions['corr'+str(iTestTrial)] = [scipy.stats.pearsonr(yp,y) for yp in self.predictions[iTestTrial] ]"
   ]
  },
  {
   "cell_type": "code",
   "execution_count": 26,
   "metadata": {
    "collapsed": false
   },
   "outputs": [
    {
     "name": "stdout",
     "output_type": "stream",
     "text": [
      "Done\n"
     ]
    }
   ],
   "source": [
    "data = DataHandler(range(150), 30)\n",
    "rat = Classifiers(data, 10)\n",
    "rat.generateClassifiers()\n",
    "rat.predictAllResults()\n",
    "print('Done')"
   ]
  },
  {
   "cell_type": "code",
   "execution_count": 27,
   "metadata": {
    "collapsed": false
   },
   "outputs": [
    {
     "data": {
      "text/plain": [
       "[SVC(C=2, cache_size=200, class_weight=None, coef0=0.0,\n",
       "   decision_function_shape=None, degree=3, gamma=0.18831578947368421,\n",
       "   kernel='rbf', max_iter=-1, probability=False, random_state=None,\n",
       "   shrinking=True, tol=0.001, verbose=False),\n",
       " SVC(C=2, cache_size=200, class_weight=None, coef0=0.0,\n",
       "   decision_function_shape=None, degree=3, gamma=0.18831578947368421,\n",
       "   kernel='rbf', max_iter=-1, probability=False, random_state=None,\n",
       "   shrinking=True, tol=0.001, verbose=False),\n",
       " SVC(C=2, cache_size=200, class_weight=None, coef0=0.0,\n",
       "   decision_function_shape=None, degree=3, gamma=0.18831578947368421,\n",
       "   kernel='rbf', max_iter=-1, probability=False, random_state=None,\n",
       "   shrinking=True, tol=0.001, verbose=False),\n",
       " SVC(C=2, cache_size=200, class_weight=None, coef0=0.0,\n",
       "   decision_function_shape=None, degree=3, gamma=0.18831578947368421,\n",
       "   kernel='rbf', max_iter=-1, probability=False, random_state=None,\n",
       "   shrinking=True, tol=0.001, verbose=False),\n",
       " SVC(C=2, cache_size=200, class_weight=None, coef0=0.0,\n",
       "   decision_function_shape=None, degree=3, gamma=0.18831578947368421,\n",
       "   kernel='rbf', max_iter=-1, probability=False, random_state=None,\n",
       "   shrinking=True, tol=0.001, verbose=False),\n",
       " SVC(C=2, cache_size=200, class_weight=None, coef0=0.0,\n",
       "   decision_function_shape=None, degree=3, gamma=0.18831578947368421,\n",
       "   kernel='rbf', max_iter=-1, probability=False, random_state=None,\n",
       "   shrinking=True, tol=0.001, verbose=False),\n",
       " SVC(C=2, cache_size=200, class_weight=None, coef0=0.0,\n",
       "   decision_function_shape=None, degree=3, gamma=0.18831578947368421,\n",
       "   kernel='rbf', max_iter=-1, probability=False, random_state=None,\n",
       "   shrinking=True, tol=0.001, verbose=False),\n",
       " SVC(C=2, cache_size=200, class_weight=None, coef0=0.0,\n",
       "   decision_function_shape=None, degree=3, gamma=0.18831578947368421,\n",
       "   kernel='rbf', max_iter=-1, probability=False, random_state=None,\n",
       "   shrinking=True, tol=0.001, verbose=False),\n",
       " SVC(C=2, cache_size=200, class_weight=None, coef0=0.0,\n",
       "   decision_function_shape=None, degree=3, gamma=0.18831578947368421,\n",
       "   kernel='rbf', max_iter=-1, probability=False, random_state=None,\n",
       "   shrinking=True, tol=0.001, verbose=False),\n",
       " SVC(C=2, cache_size=200, class_weight=None, coef0=0.0,\n",
       "   decision_function_shape=None, degree=3, gamma=0.18831578947368421,\n",
       "   kernel='rbf', max_iter=-1, probability=False, random_state=None,\n",
       "   shrinking=True, tol=0.001, verbose=False)]"
      ]
     },
     "execution_count": 27,
     "metadata": {},
     "output_type": "execute_result"
    }
   ],
   "source": [
    "rat.classifiers[0] #temos 10 classificadores para cada trial,\n",
    "                   # devido ao segundo parametro de Classifiers(data, 10)\n",
    "                   # No caso dos dados geraremos 30, como o paper"
   ]
  },
  {
   "cell_type": "code",
   "execution_count": 28,
   "metadata": {
    "collapsed": false
   },
   "outputs": [
    {
     "name": "stdout",
     "output_type": "stream",
     "text": [
      "Correta: 0\n",
      "Previsao dos classificadores\n",
      "[array([0]), array([0]), array([0]), array([0]), array([0]), array([0]), array([0]), array([0]), array([0]), array([0])]\n",
      "\n",
      "Correta: 1\n",
      "Previsao dos classificadores\n",
      "[array([1]), array([1]), array([1]), array([1]), array([1]), array([1]), array([1]), array([1]), array([1]), array([1])]\n",
      "\n",
      "Correta: 2\n",
      "Previsao dos classificadores\n",
      "[array([2]), array([2]), array([2]), array([2]), array([2]), array([2]), array([2]), array([2]), array([2]), array([2])]\n"
     ]
    }
   ],
   "source": [
    "print('Correta: '+str(iris.target[15]))\n",
    "print('Previsao dos classificadores')\n",
    "print(rat.predictions[15])\n",
    "\n",
    "print('\\nCorreta: '+str(iris.target[60]))\n",
    "print('Previsao dos classificadores')\n",
    "print(rat.predictions[60])\n",
    "\n",
    "print('\\nCorreta: '+str(iris.target[115]))\n",
    "print('Previsao dos classificadores')\n",
    "print(rat.predictions[130])"
   ]
  }
 ],
 "metadata": {
  "kernelspec": {
   "display_name": "py2",
   "language": "python",
   "name": "py2"
  },
  "language_info": {
   "codemirror_mode": {
    "name": "ipython",
    "version": 2
   },
   "file_extension": ".py",
   "mimetype": "text/x-python",
   "name": "python",
   "nbconvert_exporter": "python",
   "pygments_lexer": "ipython2",
   "version": "2.7.6"
  }
 },
 "nbformat": 4,
 "nbformat_minor": 0
}
