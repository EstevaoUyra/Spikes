{
 "cells": [
  {
   "cell_type": "code",
   "execution_count": 1,
   "metadata": {
    "collapsed": false
   },
   "outputs": [
    {
     "name": "stderr",
     "output_type": "stream",
     "text": [
      "/home/estevao/py2_kernel/local/lib/python2.7/site-packages/matplotlib/font_manager.py:273: UserWarning: Matplotlib is building the font cache using fc-list. This may take a moment.\n",
      "  warnings.warn('Matplotlib is building the font cache using fc-list. This may take a moment.')\n"
     ]
    }
   ],
   "source": [
    "from sklearn.svm import SVC\n",
    "import pandas as pd\n",
    "import numpy as np\n",
    "from sklearn.model_selection import GridSearchCV\n",
    "from sklearn import datasets\n",
    "from sklearn.base import clone\n",
    "from scipy.io import loadmat\n",
    "from scipy.stats import pearsonr\n",
    "from __future__ import division\n",
    "import matplotlib.pyplot as plt\n",
    "%matplotlib inline\n",
    "import scipy.stats as st\n",
    "from sklearn.svm import LinearSVC\n",
    "import pickle"
   ]
  },
  {
   "cell_type": "code",
   "execution_count": 2,
   "metadata": {
    "collapsed": true
   },
   "outputs": [],
   "source": [
    "class ClassifierBundle():\n",
    "    def __init__(self):\n",
    "        self.classifiers = {}\n",
    "\n",
    "    def addClassifier(self,index, clf):\n",
    "        if index not in self.classifiers.keys():\n",
    "            self.classifiers[index]=[]\n",
    "        self.classifiers[index].append(clf)\n",
    "\n",
    "    def getClassifiers(self):\n",
    "        return self.classifiers\n",
    "\n",
    "    def numberOfClassifiers(self, index):\n",
    "        if index not in self.classifiers.keys():\n",
    "            return 0\n",
    "        else:\n",
    "            return len(self.classifiers[index])"
   ]
  },
  {
   "cell_type": "code",
   "execution_count": 3,
   "metadata": {
    "collapsed": true
   },
   "outputs": [],
   "source": [
    "class PredictionsBundle():\n",
    "    def __init__(self):\n",
    "        self.predictions = {}\n",
    "\n",
    "    def addPrediction(self,index, pred):\n",
    "        if index not in self.predictions.keys():\n",
    "            self.predictions[index]=[]\n",
    "        self.predictions[index].append(pred)\n",
    "\n",
    "    def getPredictions(self):\n",
    "        return self.predictions"
   ]
  },
  {
   "cell_type": "code",
   "execution_count": 4,
   "metadata": {
    "collapsed": true
   },
   "outputs": [],
   "source": [
    "class dataToClassifier():\n",
    "    def __init__(self):\n",
    "        self.data = None\n",
    "        self.target = None\n",
    "        \n",
    "    def addData(self, X, y):\n",
    "        if self.data is None:\n",
    "            self.data = X\n",
    "            self.target = y\n",
    "        else:\n",
    "            self.data = np.vstack((self.data, X))\n",
    "            self.target = np.hstack((self.target, y))"
   ]
  },
  {
   "cell_type": "code",
   "execution_count": 5,
   "metadata": {
    "collapsed": true
   },
   "outputs": [],
   "source": [
    "class DataHandler():\n",
    "    def __init__(self, dataset, trainSize):\n",
    "        self.trainSize = trainSize\n",
    "        self.dataset = dataset.copy()\n",
    "        self.trialsToUse = np.arange(dataset.shape[2])\n",
    "        self.timesToUse = np.arange(dataset.shape[1])\n",
    "        self.nDimensions= dataset.shape[0]\n",
    "        \n",
    "    def getTrialsData(self,trialIndexes):\n",
    "        allTrialsData = dataToClassifier()\n",
    "        for itrial in trialIndexes:\n",
    "            X,y = self.oneTrialData(itrial)\n",
    "            allTrialsData.addData(X,y)\n",
    "        return allTrialsData\n",
    "    \n",
    "    def oneTrialData(self,trialIndex):\n",
    "        X = np.transpose(self.dataset[:,:,trialIndex])\n",
    "        y = self.timesToUse\n",
    "        return X, y\n",
    "        \n",
    "    def getTrainIndexes(self,testTrial):\n",
    "        nonTestTrials = list(self.trialsToUse)\n",
    "        nonTestTrials.remove(testTrial)\n",
    "        trainIndexes = np.random.choice(nonTestTrials, self.trainSize, replace=False)\n",
    "        return trainIndexes\n",
    "    \n",
    "    def trialShuffle(self):\n",
    "        for i in range(self.nDimensions):\n",
    "            for j in self.timesToUse:\n",
    "                np.random.shuffle(self.dataset[i,j,:])\n",
    "                \n",
    "    def binShuffle(self):\n",
    "        for i in range(self.nDimensions):\n",
    "            for k in self.trialsToUse:\n",
    "                np.random.shuffle(self.dataset[i,:,k])"
   ]
  },
  {
   "cell_type": "code",
   "execution_count": 6,
   "metadata": {
    "collapsed": false
   },
   "outputs": [],
   "source": [
    "class PredictionsHandler():\n",
    "    def __init__(self):\n",
    "        pass\n",
    "\n",
    "    def predictAllResults(self, dataHandl, clfBox):\n",
    "        predBox = PredictionsBundle()\n",
    "        classifiers = clfBox.getClassifiers()\n",
    "        for iTestTrial in dataHandl.trialsToUse:\n",
    "            for iclf in classifiers[iTestTrial]:\n",
    "                trialsData = dataHandl.getTrialsData([iTestTrial])\n",
    "                predBox.addPrediction(iTestTrial, iclf.predict(trialsData.data))\n",
    "        return predBox\n",
    "\n",
    "    def correlate(self, predBox, target):\n",
    "        correlations=[]\n",
    "        predictions = predBox.getPredictions()\n",
    "        for trial in predictions.keys():\n",
    "            correlations.append(np.mean(np.nan_to_num([ pearsonr(pred,target)[0]\n",
    "                                                       for pred in predictions[trial]] ) ) )\n",
    "        correlations = np.array(correlations)\n",
    "        return correlations#[~np.isnan(correlations)].reshape(-1,1)\n",
    "\n",
    "\n",
    "\n",
    "class ClassifierHandler():\n",
    "    def __init__(self, Nclf_ForEachTrial, clf=SVC()):\n",
    "        self.bestClassifier = None\n",
    "        self.clf = clf\n",
    "        self.Nclf_ForEachTrial = Nclf_ForEachTrial\n",
    "\n",
    "    def generateClassifiers(self,dataHandl):\n",
    "        clfBox = ClassifierBundle()\n",
    "        for iTestTrial in dataHandl.trialsToUse:\n",
    "            while clfBox.numberOfClassifiers(iTestTrial) < self.Nclf_ForEachTrial:\n",
    "                self.__generateAndAddClassifier(iTestTrial,dataHandl, clfBox)\n",
    "        return clfBox\n",
    "\n",
    "    def __generateAndAddClassifier(self,testTrial,dataHandl,clfBox):\n",
    "        trainIndexes = dataHandl.getTrainIndexes(testTrial)\n",
    "        clf = self.__trainOneClassifier(trainIndexes, dataHandl)\n",
    "        #clfBox.addClassifier(testTrial,clf)\n",
    "        self.__addClassifierToAll(trainIndexes, clf, dataHandl, clfBox)\n",
    "\n",
    "    def __trainOneClassifier(self,trainIndexes,dataHandl):\n",
    "        if self.bestClassifier is None:\n",
    "            self.__gridSearch(dataHandl)\n",
    "        clf = clone(self.bestClassifier)\n",
    "        trialsData = dataHandl.getTrialsData(trainIndexes)\n",
    "        clf.fit(trialsData.data,trialsData.target)\n",
    "        return clf\n",
    "\n",
    "    def __addClassifierToAll(self,trainIndexes, clf, dataHandl, clfBox):\n",
    "        possibleTestTrials = list( set(dataHandl.trialsToUse)-set(trainIndexes) )\n",
    "        for eachTrial in possibleTestTrials:\n",
    "            if clfBox.numberOfClassifiers(eachTrial) < self.Nclf_ForEachTrial:\n",
    "                clfBox.addClassifier(eachTrial,clf)\n",
    "\n",
    "    def __gridSearch(self, dataHandl):\n",
    "        grid_trials = dataHandl.trialsToUse\n",
    "        trialsData = dataHandl.getTrialsData(grid_trials)\n",
    "\n",
    "        clf = clone(self.clf)\n",
    "        grid = GridSearchCV(clf, self.__gridParams(), cv=5)\n",
    "        grid.fit(trialsData.data,trialsData.target)\n",
    "\n",
    "        self.bestClassifier = grid.best_estimator_\n",
    "\n",
    "    def __gridParams(self):\n",
    "        if type(self.clf) == SVC:\n",
    "            C_grid = range(1,17);\n",
    "            Gamma_grid = np.linspace(0.1,2,20)*1./40\n",
    "            return {'C':C_grid,'gamma':Gamma_grid}\n",
    "        if type(self.clf) == LinearSVC:\n",
    "            C_grid = range(1,17);\n",
    "            return {'C':C_grid}\n",
    "        else: raise Exception(str(type(self.clf))+ 'Non-supported Classifier type!!!')\n",
    "    def reset_grid(self):\n",
    "        self.bestClassifier = None\n"
   ]
  },
  {
   "cell_type": "markdown",
   "metadata": {},
   "source": [
    "#### Load Dataset"
   ]
  },
  {
   "cell_type": "code",
   "execution_count": 9,
   "metadata": {
    "collapsed": false
   },
   "outputs": [
    {
     "data": {
      "text/plain": [
       "(77, 31, 753)"
      ]
     },
     "execution_count": 9,
     "metadata": {},
     "output_type": "execute_result"
    }
   ],
   "source": [
    "ratset = loadmat('data_R10.mat')['C2']\n",
    "ratset.shape"
   ]
  },
  {
   "cell_type": "markdown",
   "metadata": {},
   "source": [
    "# Comparing beginning and end\n",
    "## Training classifier with ending trials"
   ]
  },
  {
   "cell_type": "code",
   "execution_count": 42,
   "metadata": {
    "collapsed": false
   },
   "outputs": [
    {
     "data": {
      "text/plain": [
       "(50, 20, 130)"
      ]
     },
     "execution_count": 42,
     "metadata": {},
     "output_type": "execute_result"
    }
   ],
   "source": [
    "trialsToUse = range(650,753)\n",
    "timesToUse = range(0,20)\n",
    "trainSize = 60\n",
    "neuronsToUse = 40\n",
    "\n",
    "endingDS = ratset[:50,:20,620:750]\n",
    "beginningDS = ratset[:50,:20,100:150]\n",
    "dataset = endingDS\n",
    "dataset.shape"
   ]
  },
  {
   "cell_type": "code",
   "execution_count": 43,
   "metadata": {
    "collapsed": false
   },
   "outputs": [],
   "source": [
    "dataTrialShuffle = DataHandler(dataset, 80)\n",
    "dataTrialShuffle.trialShuffle()\n",
    "\n",
    "dataBinShuffle = DataHandler(dataset, 80)\n",
    "dataBinShuffle.trialShuffle()\n",
    "dataBinShuffle.binShuffle()\n",
    "\n",
    "\n",
    "trainer1 = ClassifierHandler(30, LinearSVC())\n",
    "trainer2 = ClassifierHandler(30,LinearSVC())\n",
    "\n"
   ]
  },
  {
   "cell_type": "code",
   "execution_count": 44,
   "metadata": {
    "collapsed": false,
    "scrolled": true
   },
   "outputs": [
    {
     "name": "stdout",
     "output_type": "stream",
     "text": [
      "CPU times: user 10min 52s, sys: 25.6 s, total: 11min 17s\n",
      "Wall time: 10min 48s\n",
      "CPU times: user 11min 25s, sys: 25.7 s, total: 11min 51s\n",
      "Wall time: 11min 21s\n",
      "Done\n"
     ]
    }
   ],
   "source": [
    "%time goodClfBox = trainer1.generateClassifiers(dataTrialShuffle)\n",
    "%time badClfBox = trainer2.generateClassifiers(dataBinShuffle)\n",
    "\n",
    "print('Done')"
   ]
  },
  {
   "cell_type": "markdown",
   "metadata": {},
   "source": [
    "### T test and KS test"
   ]
  },
  {
   "cell_type": "code",
   "execution_count": 45,
   "metadata": {
    "collapsed": false
   },
   "outputs": [],
   "source": [
    "import scipy.stats as st\n",
    "predMaker = PredictionsHandler()\n",
    "goodPredBox =predMaker.predictAllResults(dataTrialShuffle,goodClfBox)\n",
    "badPredBox = predMaker.predictAllResults(dataBinShuffle,badClfBox)\n",
    "\n",
    "latePreds = predMaker.correlate(goodPredBox, range(0,20))\n",
    "badPreds = predMaker.correlate(badPredBox, range(0,20))"
   ]
  },
  {
   "cell_type": "code",
   "execution_count": 53,
   "metadata": {
    "collapsed": false
   },
   "outputs": [
    {
     "name": "stdout",
     "output_type": "stream",
     "text": [
      "-0.0176355279957\n",
      "0.099011137478\n"
     ]
    }
   ],
   "source": [
    "print(badPreds.mean())\n",
    "print(badPreds.std())"
   ]
  },
  {
   "cell_type": "code",
   "execution_count": 46,
   "metadata": {
    "collapsed": false
   },
   "outputs": [
    {
     "data": {
      "text/plain": [
       "Ttest_indResult(statistic=19.8761784933379, pvalue=5.3202548708406062e-52)"
      ]
     },
     "execution_count": 46,
     "metadata": {},
     "output_type": "execute_result"
    }
   ],
   "source": [
    "ttest_late_bad = st.ttest_ind(latePreds,badPreds,equal_var=False)\n",
    "#ttest_late_early = st.ttest_ind(latePreds,badPreds,equal_var=False)\n",
    "#ttest_early_bad = st.ttest_ind(latePreds,badPreds,equal_var=False)\n",
    "ttest_late_bad"
   ]
  },
  {
   "cell_type": "code",
   "execution_count": 47,
   "metadata": {
    "collapsed": false
   },
   "outputs": [],
   "source": [
    "badNormParams = st.norm.fit(badPreds)\n",
    "lateNormParams = st.norm.fit(latePreds)"
   ]
  },
  {
   "cell_type": "code",
   "execution_count": 48,
   "metadata": {
    "collapsed": false
   },
   "outputs": [],
   "source": [
    "x = np.linspace(-1,1,30)\n",
    "badPdf = st.norm.pdf(x, badNormParams[0],badNormParams[1])\n",
    "latePdf =st.norm.pdf(x, lateNormParams[0],lateNormParams[1])"
   ]
  },
  {
   "cell_type": "code",
   "execution_count": 49,
   "metadata": {
    "collapsed": false
   },
   "outputs": [
    {
     "data": {
      "text/plain": [
       "[<matplotlib.lines.Line2D at 0x7efcc413ffd0>]"
      ]
     },
     "execution_count": 49,
     "metadata": {},
     "output_type": "execute_result"
    },
    {
     "data": {
      "image/png": "[encoded data removed]",
      "text/plain": [
       "<matplotlib.figure.Figure at 0x7efcc413fd90>"
      ]
     },
     "metadata": {},
     "output_type": "display_data"
    }
   ],
   "source": [
    "plt.hist(latePreds,30,normed=1)\n",
    "plt.plot(x,latePdf)"
   ]
  },
  {
   "cell_type": "code",
   "execution_count": null,
   "metadata": {
    "collapsed": true
   },
   "outputs": [],
   "source": []
  },
  {
   "cell_type": "code",
   "execution_count": 50,
   "metadata": {
    "collapsed": false
   },
   "outputs": [
    {
     "data": {
      "text/plain": [
       "[<matplotlib.lines.Line2D at 0x7efcc3fb32d0>]"
      ]
     },
     "execution_count": 50,
     "metadata": {},
     "output_type": "execute_result"
    },
    {
     "data": {
      "image/png": "[encoded data removed]",
      "text/plain": [
       "<matplotlib.figure.Figure at 0x7efcc40178d0>"
      ]
     },
     "metadata": {},
     "output_type": "display_data"
    }
   ],
   "source": [
    "plt.hist(badPreds,30,normed=1)\n",
    "plt.plot(x,badPdf)"
   ]
  },
  {
   "cell_type": "code",
   "execution_count": 51,
   "metadata": {
    "collapsed": false
   },
   "outputs": [
    {
     "data": {
      "text/plain": [
       "Ks_2sampResult(statistic=0.80769230769230771, pvalue=1.7311045298017099e-38)"
      ]
     },
     "execution_count": 51,
     "metadata": {},
     "output_type": "execute_result"
    }
   ],
   "source": [
    "KStest = st.ks_2samp(latePreds,badPreds)\n",
    "KStest"
   ]
  },
  {
   "cell_type": "code",
   "execution_count": null,
   "metadata": {
    "collapsed": true
   },
   "outputs": [],
   "source": [
    "lateTrials= DataHandler(dataset, trainSize)\n",
    "lateTrials.trialShuffle()\n",
    "earlyTrials= DataHandler(dataset, trainSize)\n",
    "earlyTrials.trialShuffle()\n",
    "\n",
    "earlyTrainer = ClassifierHandler(30)\n",
    "earlyClfBox = earlyTrainer.generateClassifiers(earlyTrials)"
   ]
  },
  {
   "cell_type": "markdown",
   "metadata": {},
   "source": [
    "# Automate process"
   ]
  },
  {
   "cell_type": "code",
   "execution_count": 17,
   "metadata": {
    "collapsed": false
   },
   "outputs": [],
   "source": [
    "#endingDS = dataset[:40,:20,650:750]\n",
    "#beginningDS = dataset[:40,:20,50:150]\n",
    "#timesToUse = np.arange(20)\n",
    "def late_early_bad(endingDS, beginningDS, timesToUse, trainSize, clf=SVC()):\n",
    "\n",
    "    badData = DataHandler(endingDS, trainSize)\n",
    "    badData.trialShuffle()\n",
    "    badData.binShuffle()\n",
    "    lateData = DataHandler(endingDS, trainSize)\n",
    "    lateData.trialShuffle()\n",
    "    earlyData = DataHandler(beginningDS, trainSize)\n",
    "    earlyData.trialShuffle()\n",
    "    \n",
    "    trainerLate = ClassifierHandler(30,clf)\n",
    "    trainerEarly= ClassifierHandler(30,clf)\n",
    "    trainerBad = ClassifierHandler(30,clf)\n",
    "    predMaker = PredictionsHandler()\n",
    "    \n",
    "    clfLateBox = trainerLate.generateClassifiers(lateData)\n",
    "    clfEarlyBox = trainerEarly.generateClassifiers(earlyData)\n",
    "    clfBadBox = trainerBad.generateClassifiers(badData)\n",
    "    \n",
    "    \n",
    "    latePreds = predMaker.predictAllResults(lateData, clfLateBox)\n",
    "    earlyPreds = predMaker.predictAllResults(earlyData, clfEarlyBox)\n",
    "    badPreds = predMaker.predictAllResults(badData, clfBadBox)\n",
    "    mixedPreds = predMaker.predictAllResults(earlyData, clfLateBox)\n",
    "\n",
    "    lateCorrs = predMaker.correlate(latePreds, timesToUse)\n",
    "    earlyCorrs = predMaker.correlate(earlyPreds, timesToUse)\n",
    "    badCorrs = predMaker.correlate(badPreds, timesToUse)\n",
    "    mixedCorrs = predMaker.correlate(mixedPreds, timesToUse)\n",
    "    \n",
    "    meanStdCorr={}\n",
    "    t_tests = {}\n",
    "    KStests = {}\n",
    "    \n",
    "    meanStdCorr['early'] = (earlyCorrs.mean(), earlyCorrs.std())\n",
    "    meanStdCorr['late'] = (lateCorrs.mean(), lateCorrs.std())\n",
    "    meanStdCorr['bad'] = (badCorrs.mean(), badCorrs.std())\n",
    "    meanStdCorr['mixed'] = (mixedCorrs.mean(), mixedCorrs.std())\n",
    "             \n",
    "    t_tests['early_late'] = st.ttest_ind(lateCorrs,earlyCorrs,equal_var=False).pvalue\n",
    "    t_tests['early_bad'] = st.ttest_ind(earlyCorrs,badCorrs,equal_var=False).pvalue\n",
    "    t_tests['bad_late'] = st.ttest_ind(lateCorrs,badCorrs,equal_var=False).pvalue\n",
    "    t_tests['mixed'] = st.ttest_ind(earlyCorrs,mixedCorrs,equal_var=False).pvalue\n",
    "    \n",
    "    KStests['early_late'] = st.ks_2samp(lateCorrs,earlyCorrs).pvalue\n",
    "    KStests['early_bad'] = st.ks_2samp(badCorrs,earlyCorrs).pvalue\n",
    "    KStests['bad_late'] = st.ks_2samp(lateCorrs,badCorrs).pvalue\n",
    "    KStests['mixed'] = st.ks_2samp(earlyCorrs,mixedCorrs).pvalue\n",
    "    \n",
    "    return t_tests,KStests,meanStdCorr"
   ]
  },
  {
   "cell_type": "markdown",
   "metadata": {},
   "source": [
    "## Lots of tests"
   ]
  },
  {
   "cell_type": "code",
   "execution_count": 16,
   "metadata": {
    "collapsed": true
   },
   "outputs": [],
   "source": [
    "timesToUse=np.arange(20)\n",
    "trainSize=60"
   ]
  },
  {
   "cell_type": "code",
   "execution_count": 18,
   "metadata": {
    "collapsed": false
   },
   "outputs": [
    {
     "data": {
      "text/plain": [
       "(22, 39, 334)"
      ]
     },
     "execution_count": 18,
     "metadata": {},
     "output_type": "execute_result"
    }
   ],
   "source": [
    "rato7smallBin = loadmat('R7.mat')['C']\n",
    "rato7smallBin =  np.nan_to_num(np.swapaxes(rato7smallBin,0,2))\n",
    "rato7smallBin.shape"
   ]
  },
  {
   "cell_type": "markdown",
   "metadata": {},
   "source": [
    "#### Resultados interessantes"
   ]
  },
  {
   "cell_type": "code",
   "execution_count": 23,
   "metadata": {
    "collapsed": false
   },
   "outputs": [],
   "source": [
    "endingDS = rato7smallBin[:22,4:18,234:334]\n",
    "beginningDS = rato7smallBin[:22,4:18,0:100]\n",
    "T_KS_MeanStd_small7 = late_early_bad(endingDS, beginningDS, np.arange(4,18), 80)\n",
    "\n",
    "pickle.dump(T_KS_MeanStd_small7, open('small7rat1804.pickle', 'wb'))"
   ]
  },
  {
   "cell_type": "code",
   "execution_count": 24,
   "metadata": {
    "collapsed": false
   },
   "outputs": [
    {
     "data": {
      "text/plain": [
       "({'bad_late': 1.0102217464694715e-22,\n",
       "  'early_bad': 1.2987790770649755e-23,\n",
       "  'early_late': 0.44592230809010636,\n",
       "  'mixed': 1.3986897588463434e-11},\n",
       " {'bad_late': 9.1313987596102017e-18,\n",
       "  'early_bad': 4.4117877495876114e-15,\n",
       "  'early_late': 0.44312540269882572,\n",
       "  'mixed': 9.1220114944132512e-09},\n",
       " {'bad': (0.00040683348313014955, 0.21806072223606945),\n",
       "  'early': (0.33559881692674409, 0.19227601788413623),\n",
       "  'late': (0.35883022466903791, 0.23369348822183661),\n",
       "  'mixed': (0.10763102429638048, 0.24924588205331105)})"
      ]
     },
     "execution_count": 24,
     "metadata": {},
     "output_type": "execute_result"
    }
   ],
   "source": [
    "T_KS_MeanStd_small7"
   ]
  },
  {
   "cell_type": "code",
   "execution_count": 25,
   "metadata": {
    "collapsed": false
   },
   "outputs": [],
   "source": [
    "endingDS = rato7smallBin[:22,4:18,234:334]\n",
    "beginningDS = rato7smallBin[:22,4:18,0:100]\n",
    "linearT_KS_MeanStd_small7 = late_early_bad(endingDS, beginningDS, np.arange(4,18), 80, LinearSVC())\n",
    "\n",
    "pickle.dump(linearT_KS_MeanStd_small7, open('Linearsmall7rat1804.pickle', 'wb'))"
   ]
  },
  {
   "cell_type": "code",
   "execution_count": 26,
   "metadata": {
    "collapsed": false
   },
   "outputs": [
    {
     "data": {
      "text/plain": [
       "({'bad_late': 1.6537922863051832e-30,\n",
       "  'early_bad': 1.4647549968743808e-06,\n",
       "  'early_late': 2.6630798323063117e-15,\n",
       "  'mixed': 0.083865883025900145},\n",
       " {'bad_late': 1.124364932265504e-20,\n",
       "  'early_bad': 2.4461995100569117e-05,\n",
       "  'early_late': 2.9511320832849549e-11,\n",
       "  'mixed': 0.19304165192468994},\n",
       " {'bad': (0.036042160372098737, 0.19803658301144506),\n",
       "  'early': (0.17589409118647964, 0.19814841806730943),\n",
       "  'late': (0.41023066949274123, 0.18559770366785236),\n",
       "  'mixed': (0.12557094490293724, 0.20925502239627641)})"
      ]
     },
     "execution_count": 26,
     "metadata": {},
     "output_type": "execute_result"
    }
   ],
   "source": [
    "linearT_KS_MeanStd_small7"
   ]
  },
  {
   "cell_type": "code",
   "execution_count": 17,
   "metadata": {
    "collapsed": false
   },
   "outputs": [
    {
     "data": {
      "text/plain": [
       "(22, 39, 507)"
      ]
     },
     "execution_count": 17,
     "metadata": {},
     "output_type": "execute_result"
    }
   ],
   "source": [
    "rato7bigBin = loadmat('dados_R7_dt01.mat')['C']\n",
    "rato7bigBin = np.nan_to_num(np.swapaxes(rato7bigBin,0,2))\n",
    "rato7bigBin.shape"
   ]
  },
  {
   "cell_type": "code",
   "execution_count": 18,
   "metadata": {
    "collapsed": false
   },
   "outputs": [
    {
     "name": "stderr",
     "output_type": "stream",
     "text": [
      "/home/estevao/py2_kernel/local/lib/python2.7/site-packages/scipy/stats/stats.py:3029: RuntimeWarning: invalid value encountered in double_scalars\n",
      "  r = r_num / r_den\n"
     ]
    }
   ],
   "source": [
    "endingDS = rato7bigBin[:22,:10,407:507]\n",
    "beginningDS = rato7bigBin[:22,:10,0:100]\n",
    "\n",
    "big7_T_KS_MeanStd = late_early_bad(endingDS, beginningDS, np.arange(10), trainSize)\n",
    "\n",
    "pickle.dump(big7_T_KS_MeanStd, open('big7rat1804.pickle', 'wb'))"
   ]
  },
  {
   "cell_type": "code",
   "execution_count": 21,
   "metadata": {
    "collapsed": false
   },
   "outputs": [
    {
     "data": {
      "text/plain": [
       "({'bad_late': 4.8275195662665581e-31,\n",
       "  'early_bad': 0.021716710247401322,\n",
       "  'early_late': 3.501632020481739e-17,\n",
       "  'mixed': 1.9131121942443156e-06},\n",
       " {'bad_late': 1.1287050473619016e-17,\n",
       "  'early_bad': 0.0003458028255797442,\n",
       "  'early_late': 1.9784657000527519e-15,\n",
       "  'mixed': 4.4467505395101334e-10},\n",
       " {'bad': (-0.015041781837207226, 0.324170498916175),\n",
       "  'early': (0.0059551772241131697, 0.35184632165574392),\n",
       "  'late': (0.082906910578905785, 0.31611995823426903),\n",
       "  'mixed': (-0.041044825396271314, 0.36937642649459551)})"
      ]
     },
     "execution_count": 21,
     "metadata": {},
     "output_type": "execute_result"
    }
   ],
   "source": [
    "big7_T_KS_MeanStd"
   ]
  },
  {
   "cell_type": "code",
   "execution_count": 14,
   "metadata": {
    "collapsed": false
   },
   "outputs": [
    {
     "data": {
      "text/plain": [
       "(69, 39, 707)"
      ]
     },
     "execution_count": 14,
     "metadata": {},
     "output_type": "execute_result"
    }
   ],
   "source": [
    "rato10bigBin = loadmat('dados_R10_dt01.mat')['C']\n",
    "rato10bigBin = np.nan_to_num(np.swapaxes(rato10bigBin,0,2))\n",
    "rato10bigBin.shape"
   ]
  },
  {
   "cell_type": "code",
   "execution_count": 45,
   "metadata": {
    "collapsed": false
   },
   "outputs": [
    {
     "data": {
      "text/plain": [
       "0.0"
      ]
     },
     "execution_count": 45,
     "metadata": {},
     "output_type": "execute_result"
    }
   ],
   "source": [
    "rato10bigBin[:40,:,:].sum()"
   ]
  },
  {
   "cell_type": "code",
   "execution_count": 51,
   "metadata": {
    "collapsed": false
   },
   "outputs": [
    {
     "data": {
      "text/plain": [
       "1883.2266655898256"
      ]
     },
     "execution_count": 51,
     "metadata": {},
     "output_type": "execute_result"
    }
   ],
   "source": [
    "rato10bigBin[40:,:,:].sum()"
   ]
  },
  {
   "cell_type": "code",
   "execution_count": 52,
   "metadata": {
    "collapsed": false
   },
   "outputs": [],
   "source": [
    "endingDS = rato10bigBin[40:,:10,600:700]\n",
    "beginningDS = rato10bigBin[40:,:10,50:150]\n",
    "\n",
    "big10_T_KS_MeanStd = late_early_bad(endingDS, beginningDS, np.arange(10), trainSize)\n",
    "pickle.dump(big10_T_KS_MeanStd, open('big10rat1804.pickle', 'wb'))"
   ]
  },
  {
   "cell_type": "code",
   "execution_count": 55,
   "metadata": {
    "collapsed": false
   },
   "outputs": [
    {
     "data": {
      "text/plain": [
       "({'bad_late': 0.13516157606402843,\n",
       "  'early_bad': 1.5510733309193908e-14,\n",
       "  'early_late': 8.7976052976388646e-09,\n",
       "  'mixed': 0.017441591719247813},\n",
       " {'bad_late': 4.32206019382936e-06,\n",
       "  'early_bad': 1.6760477339058361e-29,\n",
       "  'early_late': 5.252167321031178e-12,\n",
       "  'mixed': 0.0010640902960726479},\n",
       " {'bad': (-0.017256596277138207, 0.32133993576842607),\n",
       "  'early': (0.07805702086525633, 0.35977204180953753),\n",
       "  'late': (-0.00042278449091180437, 0.35462699467932024),\n",
       "  'mixed': (0.037286424088120877, 0.35745499444062329)})"
      ]
     },
     "execution_count": 55,
     "metadata": {},
     "output_type": "execute_result"
    }
   ],
   "source": [
    "big10_T_KS_MeanStd"
   ]
  },
  {
   "cell_type": "code",
   "execution_count": 53,
   "metadata": {
    "collapsed": false
   },
   "outputs": [
    {
     "data": {
      "text/plain": [
       "(77, 31, 753)"
      ]
     },
     "execution_count": 53,
     "metadata": {},
     "output_type": "execute_result"
    }
   ],
   "source": [
    "rato10smallBin = loadmat('data_R10.mat')['C2']\n",
    "rato10smallBin.shape"
   ]
  },
  {
   "cell_type": "code",
   "execution_count": 54,
   "metadata": {
    "collapsed": true
   },
   "outputs": [],
   "source": [
    "endingDS = rato10smallBin[:40,:20,650:750]\n",
    "beginningDS = rato10smallBin[:40,:20,50:150]\n",
    "\n",
    "small10_T_KS_MeanStd = late_early_bad(endingDS, beginningDS, timesToUse, trainSize)\n",
    "pickle.dump(small10_T_KS_MeanStd, open('small10rat1804.pickle', 'wb'))"
   ]
  },
  {
   "cell_type": "code",
   "execution_count": 56,
   "metadata": {
    "collapsed": false
   },
   "outputs": [
    {
     "data": {
      "text/plain": [
       "({'bad_late': 0.0,\n",
       "  'early_bad': 0.0,\n",
       "  'early_late': 1.1264795278562822e-11,\n",
       "  'mixed': 1.0798020683522822e-59},\n",
       " {'bad_late': 2.7020452209914131e-291,\n",
       "  'early_bad': 1.0097663377853873e-213,\n",
       "  'early_late': 2.5879674358933836e-09,\n",
       "  'mixed': 9.1487544274992275e-39},\n",
       " {'bad': (0.0098886056768404708, 0.22544656362460855),\n",
       "  'early': (0.23823057186389734, 0.21476325530847432),\n",
       "  'late': (0.27540539737842107, 0.20841358353410744),\n",
       "  'mixed': (0.14558815632902242, 0.22063496454822873)})"
      ]
     },
     "execution_count": 56,
     "metadata": {},
     "output_type": "execute_result"
    }
   ],
   "source": [
    "small10_T_KS_MeanStd"
   ]
  },
  {
   "cell_type": "markdown",
   "metadata": {},
   "source": [
    "## Testing linear classifier"
   ]
  },
  {
   "cell_type": "code",
   "execution_count": 80,
   "metadata": {
    "collapsed": false
   },
   "outputs": [],
   "source": [
    "endingDS = rato10smallBin[:40,:20,650:750]\n",
    "beginningDS = rato10smallBin[:40,:20,50:150]\n",
    "\n",
    "Linear_small10_T_KS_MeanStd = late_early_bad(endingDS, beginningDS, timesToUse, trainSize, LinearSVC())\n",
    "pickle.dump(Linear_small10_T_KS_MeanStd, open('Linear_small10rat1804.pickle', 'wb'))"
   ]
  },
  {
   "cell_type": "code",
   "execution_count": 82,
   "metadata": {
    "collapsed": false
   },
   "outputs": [
    {
     "data": {
      "text/plain": [
       "({'bad_late': 0.0,\n",
       "  'early_bad': 4.4894147767172161e-302,\n",
       "  'early_late': 7.1919839708971428e-53,\n",
       "  'mixed': 1.9278126761626108e-16},\n",
       " {'bad_late': 0.0,\n",
       "  'early_bad': 3.4067972484731228e-200,\n",
       "  'early_late': 2.8859563160959073e-36,\n",
       "  'mixed': 3.3319712408141567e-11},\n",
       " {'bad': (-0.0060811076457505447, 0.22623074376853791),\n",
       "  'early': (0.21945370131636346, 0.21701700647904307),\n",
       "  'late': (0.30403475106808331, 0.20668529385208712),\n",
       "  'mixed': (0.17385501387705243, 0.21099177828701485)})"
      ]
     },
     "execution_count": 82,
     "metadata": {},
     "output_type": "execute_result"
    }
   ],
   "source": [
    "Linear_small10_T_KS_MeanStd"
   ]
  },
  {
   "cell_type": "markdown",
   "metadata": {},
   "source": [
    "### Pegar correlação media para cada trial"
   ]
  }
 ],
 "metadata": {
  "kernelspec": {
   "display_name": "py2",
   "language": "python",
   "name": "py2"
  },
  "language_info": {
   "codemirror_mode": {
    "name": "ipython",
    "version": 2
   },
   "file_extension": ".py",
   "mimetype": "text/x-python",
   "name": "python",
   "nbconvert_exporter": "python",
   "pygments_lexer": "ipython2",
   "version": "2.7.6"
  }
 },
 "nbformat": 4,
 "nbformat_minor": 0
}
