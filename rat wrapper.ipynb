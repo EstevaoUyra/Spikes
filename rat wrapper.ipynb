{
 "cells": [
  {
   "cell_type": "code",
   "execution_count": 1,
   "metadata": {
    "collapsed": true
   },
   "outputs": [],
   "source": [
    "from spikeHelper.loadSpike import rat"
   ]
  },
  {
   "cell_type": "code",
   "execution_count": 2,
   "metadata": {},
   "outputs": [
    {
     "name": "stdout",
     "output_type": "stream",
     "text": [
      "bin50_sigma50 not contained in database. Creating dataset.\n",
      "bin50_sigma50 not contained in database. Creating dataset.\n",
      "bin50_sigma50 not contained in database. Creating dataset.\n",
      "bin50_sigma50 not contained in database. Creating dataset.\n",
      "bin100_sigma50 not contained in database. Creating dataset.\n",
      "bin100_sigma50 not contained in database. Creating dataset.\n",
      "bin100_sigma50 not contained in database. Creating dataset.\n",
      "bin100_sigma50 not contained in database. Creating dataset.\n",
      "binnorm_sigma50 not contained in database. Creating dataset.\n",
      "binnorm_sigma50 not contained in database. Creating dataset.\n",
      "binnorm_sigma50 not contained in database. Creating dataset.\n",
      "binnorm_sigma50 not contained in database. Creating dataset.\n",
      "bin50_sigma100 not contained in database. Creating dataset.\n",
      "bin50_sigma100 not contained in database. Creating dataset.\n",
      "bin50_sigma100 not contained in database. Creating dataset.\n",
      "bin50_sigma100 not contained in database. Creating dataset.\n",
      "bin100_sigma100 not contained in database. Creating dataset.\n",
      "bin100_sigma100 not contained in database. Creating dataset.\n",
      "bin100_sigma100 not contained in database. Creating dataset.\n",
      "binnorm_sigma100 not contained in database. Creating dataset.\n",
      "binnorm_sigma100 not contained in database. Creating dataset.\n",
      "binnorm_sigma100 not contained in database. Creating dataset.\n",
      "binnorm_sigma100 not contained in database. Creating dataset.\n"
     ]
    }
   ],
   "source": [
    "for sigma in [50,100]:\n",
    "    for binSize in [50,100,'norm']:\n",
    "        for ratNumber in [7,8,9,10]:\n",
    "            ratN = rat(ratNumber, sigma, binSize)"
   ]
  },
  {
   "cell_type": "code",
   "execution_count": 11,
   "metadata": {
    "collapsed": true
   },
   "outputs": [],
   "source": [
    "ratN.selecTrials({'minDuration': 3000,'maxDuration':9000})"
   ]
  },
  {
   "cell_type": "code",
   "execution_count": 23,
   "metadata": {},
   "outputs": [
    {
     "data": {
      "text/plain": [
       "['Trial number',\n",
       " 'Trial length',\n",
       " 'Trial duration',\n",
       " 'Trial start',\n",
       " 'Trial end',\n",
       " 'Intertrial interval']"
      ]
     },
     "execution_count": 23,
     "metadata": {},
     "output_type": "execute_result"
    }
   ],
   "source": [
    "list(ratN.dset.attrs)"
   ]
  },
  {
   "cell_type": "code",
   "execution_count": 28,
   "metadata": {},
   "outputs": [],
   "source": [
    "import matplotlib.pyplot as plt\n",
    "%matplotlib inline"
   ]
  },
  {
   "cell_type": "code",
   "execution_count": 54,
   "metadata": {},
   "outputs": [
    {
     "data": {
      "image/png": "[encoded data removed]",
      "text/plain": [
       "<matplotlib.figure.Figure at 0x7fe590a6aa90>"
      ]
     },
     "metadata": {},
     "output_type": "display_data"
    }
   ],
   "source": [
    "for ratN in [7,8,9,10]:\n",
    "    plt.subplot(4,1,ratN-6)\n",
    "    rat7 = rat(ratN,100,100)\n",
    "    plt.hist(np.log10(rat7.dset.attrs['Intertrial interval'][1:]),100); plt.xlim([1,6])"
   ]
  }
 ],
 "metadata": {
  "hide_input": false,
  "kernelspec": {
   "display_name": "Python 3",
   "language": "python",
   "name": "python3"
  },
  "language_info": {
   "codemirror_mode": {
    "name": "ipython",
    "version": 3
   },
   "file_extension": ".py",
   "mimetype": "text/x-python",
   "name": "python",
   "nbconvert_exporter": "python",
   "pygments_lexer": "ipython3",
   "version": "3.6.2"
  },
  "toc": {
   "nav_menu": {},
   "number_sections": true,
   "sideBar": true,
   "skip_h1_title": false,
   "toc_cell": false,
   "toc_position": {},
   "toc_section_display": "block",
   "toc_window_display": false
  }
 },
 "nbformat": 4,
 "nbformat_minor": 2
}
