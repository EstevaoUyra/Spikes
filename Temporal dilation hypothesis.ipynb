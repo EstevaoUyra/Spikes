{
 "cells": [
  {
   "cell_type": "markdown",
   "metadata": {
    "toc": "true"
   },
   "source": [
    "# Table of Contents\n",
    " <p><div class=\"lev1 toc-item\"><a href=\"#Hypothesis\" data-toc-modified-id=\"Hypothesis-1\"><span class=\"toc-item-num\">1&nbsp;&nbsp;</span>Hypothesis</a></div><div class=\"lev1 toc-item\"><a href=\"#Analysis\" data-toc-modified-id=\"Analysis-2\"><span class=\"toc-item-num\">2&nbsp;&nbsp;</span>Analysis</a></div><div class=\"lev2 toc-item\"><a href=\"#Imports\" data-toc-modified-id=\"Imports-21\"><span class=\"toc-item-num\">2.1&nbsp;&nbsp;</span>Imports</a></div><div class=\"lev2 toc-item\"><a href=\"#Separation-and-classification\" data-toc-modified-id=\"Separation-and-classification-22\"><span class=\"toc-item-num\">2.2&nbsp;&nbsp;</span>Separation and classification</a></div><div class=\"lev3 toc-item\"><a href=\"#Save-results\" data-toc-modified-id=\"Save-results-221\"><span class=\"toc-item-num\">2.2.1&nbsp;&nbsp;</span>Save results</a></div><div class=\"lev2 toc-item\"><a href=\"#Statistical-analysis\" data-toc-modified-id=\"Statistical-analysis-23\"><span class=\"toc-item-num\">2.3&nbsp;&nbsp;</span>Statistical analysis</a></div><div class=\"lev3 toc-item\"><a href=\"#Two-way-anova\" data-toc-modified-id=\"Two-way-anova-231\"><span class=\"toc-item-num\">2.3.1&nbsp;&nbsp;</span>Two-way anova</a></div><div class=\"lev1 toc-item\"><a href=\"#Results\" data-toc-modified-id=\"Results-3\"><span class=\"toc-item-num\">3&nbsp;&nbsp;</span>Results</a></div>"
   ]
  },
  {
   "cell_type": "markdown",
   "metadata": {},
   "source": [
    "# Hypothesis"
   ]
  },
  {
   "cell_type": "markdown",
   "metadata": {},
   "source": [
    "We propose the dynamics of temporal activity in the mPFC may have contractions or dilations that relate to the behavioral duration of the trial. We planned the following analysis in which to test this hypothesis:\n",
    "\n",
    "\n",
    "###### Decoding performance comparation between:\n",
    "- Similar-duration trials\n",
    "- Trials with many duration\n",
    "\n",
    "###### Expected results:\n",
    "- The score will be higher on the set of trials with similar durations\n",
    "\n",
    "\n",
    "###### Method:\n",
    "1. **Trial selection**: \n",
    "    1. Define $T_{+} = \\{t_i \\in T_{all}  \\quad|\\quad i > behaviorThreshold \\}$\n",
    "        - At first, behavior threshold was set to zero, for lack of well defined threshold. <br><br>\n",
    "        \n",
    "    2. Separation of trial sets $T_{similar}$ and $T_{bigger}$, according to duration $D(t_i)$\n",
    "        - $T_{similar} = \\{t_i \\in T_{+}  \\quad|\\quad D(t_i) \\in [1.5s,3s] \\}$\n",
    "        - $T_{bigger} = \\{t_i \\in T_{+}  \\quad|\\quad D(t_i) > 1.5s \\}$<br><br><br>\n",
    "    \n",
    "2. **Bin selection**: Trial cropping\n",
    "    - From each set, separate and label bins corresponding to times $\\in [0.2s, 1.2s]$  <br><br><br>\n",
    "    \n",
    "3. **Classification**\n",
    "    1. Markov cross-validation of each set using N trials\n",
    "        - N = $0.9 \\times |T_{similar}|$\n",
    "        - Folds: 30\n",
    "    2. Performance: cohen's kappa, quadratic weighted<br><br><br>\n",
    "  \n",
    "4. **Aggregation** of data from the 4 rats\n",
    "    - Paired t-test"
   ]
  },
  {
   "cell_type": "markdown",
   "metadata": {},
   "source": [
    "# Analysis"
   ]
  },
  {
   "cell_type": "markdown",
   "metadata": {},
   "source": [
    "## Imports"
   ]
  },
  {
   "cell_type": "code",
   "execution_count": 9,
   "metadata": {},
   "outputs": [],
   "source": [
    "from spikeHelper.loadSpike import Rat\n",
    "import numpy as np\n",
    "from sklearn.metrics import cohen_kappa_score, make_scorer\n",
    "from sklearn.svm import SVC\n",
    "from sklearn.model_selection import GroupShuffleSplit, cross_val_score\n",
    "import pandas as pd"
   ]
  },
  {
   "cell_type": "markdown",
   "metadata": {},
   "source": [
    "## Separation and classification"
   ]
  },
  {
   "cell_type": "code",
   "execution_count": 121,
   "metadata": {},
   "outputs": [],
   "source": [
    "import pickle\n",
    "optPar = pickle.load(open('Data/optimalParameters_Mon Oct  2 .pickle','rb')).set_index('Rat')\n",
    "\n",
    "scores={}\n",
    "n_splits = 100\n",
    "for n in [7,8,9,10]:\n",
    "    scores[(n,'similar')] = []\n",
    "    scores[(n,'bigger')] = []\n",
    "    #scores[(n,'similarBig')] = []\n",
    "    \n",
    "    # Data selection and cropping: Similar trials\n",
    "    sim = Rat(n);\n",
    "    sim.selecTrials({'minDuration':1500, 'maxDuration':2500})\n",
    "    sim.selecTimes(tmin=200,tmax=1200)\n",
    "    \n",
    "    # Data selection and cropping: Different trials\n",
    "    big = Rat(n);\n",
    "    big.selecTrials({'minDuration':1500})\n",
    "    big.selecTimes(tmin=200,tmax=1200)\n",
    "    \n",
    "    # Data selection and cropping: Similar big trials\n",
    "    simBig = Rat(n);\n",
    "    simBig.selecTrials({'minDuration':2500,'maxDuration':5500})\n",
    "    simBig.selecTimes(tmin=200,tmax=1200)\n",
    "    \n",
    "    # The number of training is defined as 90% of the smaller group\n",
    "    minTrials = min(len(np.unique(sim.trial)),len(np.unique(big.trial)))#,len(np.unique(simBig.trial)))\n",
    "    markovCV = GroupShuffleSplit(n_splits=n_splits,train_size=int(0.8*minTrials), test_size=int(0.2*minTrials))\n",
    "    kappa = make_scorer(cohen_kappa_score, weights='quadratic')\n",
    "    \n",
    "    # Fit and score similar\n",
    "    clf = SVC( C=optPar.loc[n,'C'], gamma = 10**optPar.loc[n,'logGamma'])\n",
    "    scores[(n,'similar')] = cross_val_score(clf, sim.X,sim.y,cv = markovCV.split(sim.X,sim.y,sim.trial),scoring=kappa)\n",
    "    scores[(n,'bigger')] = cross_val_score(clf, big.X,big.y,cv = markovCV.split(big.X,big.y,big.trial),scoring=kappa)\n",
    "    #scores[(n,'similarBig')] = cross_val_score(clf, simBig.X,simBig.y,cv = markovCV.split(simBig.X,simBig.y,simBig.trial))\n",
    "\n",
    "scores = pd.DataFrame(scores)"
   ]
  },
  {
   "cell_type": "markdown",
   "metadata": {},
   "source": [
    "### Save results"
   ]
  },
  {
   "cell_type": "code",
   "execution_count": null,
   "metadata": {
    "collapsed": true
   },
   "outputs": [],
   "source": [
    "# Calculated first with default 'accuracy score'\n",
    "import h5py\n",
    "f = h5py.File('fromAllRats.hdf5','w')\n",
    "f.create_group('decoding')\n",
    "dset = f.create_dataset('temporalChangesAccuracy',data=scores.values)\n",
    "dset.attrs.create('columnsTrialType',3*[b'bigger',b'similar'])\n",
    "dset.attrs.create('columnsRatNumber', np.array([7,7,8,8,9,9,10,10]))"
   ]
  },
  {
   "cell_type": "code",
   "execution_count": 128,
   "metadata": {
    "collapsed": true
   },
   "outputs": [],
   "source": [
    "# Then calculated and saved with cohen's kappa\n",
    "import h5py\n",
    "f = h5py.File('fromAllRats.hdf5','r+')\n",
    "dset = f['decoding'].create_dataset('temporalChangesKappa',data=scores.values)\n",
    "dset.attrs.create('columnsTrialType',3*[b'bigger',b'similar'])\n",
    "dset.attrs.create('columnsRatNumber', np.array([7,7,8,8,9,9,10,10]))"
   ]
  },
  {
   "cell_type": "markdown",
   "metadata": {},
   "source": [
    "## Statistical analysis"
   ]
  },
  {
   "cell_type": "markdown",
   "metadata": {},
   "source": [
    "### Two-way anova"
   ]
  },
  {
   "cell_type": "code",
   "execution_count": 83,
   "metadata": {},
   "outputs": [],
   "source": [
    "import statsmodels.api as sm\n",
    "import statsmodels.stats as st\n",
    "from statsmodels.formula.api import ols"
   ]
  },
  {
   "cell_type": "code",
   "execution_count": 126,
   "metadata": {},
   "outputs": [
    {
     "data": {
      "text/html": [
       "<div>\n",
       "<style>\n",
       "    .dataframe thead tr:only-child th {\n",
       "        text-align: right;\n",
       "    }\n",
       "\n",
       "    .dataframe thead th {\n",
       "        text-align: left;\n",
       "    }\n",
       "\n",
       "    .dataframe tbody tr th {\n",
       "        vertical-align: top;\n",
       "    }\n",
       "</style>\n",
       "<table border=\"1\" class=\"dataframe\">\n",
       "  <thead>\n",
       "    <tr style=\"text-align: right;\">\n",
       "      <th></th>\n",
       "      <th>sum_sq</th>\n",
       "      <th>df</th>\n",
       "      <th>F</th>\n",
       "      <th>PR(&gt;F)</th>\n",
       "    </tr>\n",
       "  </thead>\n",
       "  <tbody>\n",
       "    <tr>\n",
       "      <th>C(trialType)</th>\n",
       "      <td>0.148292</td>\n",
       "      <td>1.0</td>\n",
       "      <td>83.583741</td>\n",
       "      <td>5.044041e-19</td>\n",
       "    </tr>\n",
       "    <tr>\n",
       "      <th>C(rat)</th>\n",
       "      <td>2.272639</td>\n",
       "      <td>3.0</td>\n",
       "      <td>426.986510</td>\n",
       "      <td>5.925562e-165</td>\n",
       "    </tr>\n",
       "    <tr>\n",
       "      <th>C(trialType):C(rat)</th>\n",
       "      <td>0.233070</td>\n",
       "      <td>3.0</td>\n",
       "      <td>43.789413</td>\n",
       "      <td>3.453273e-26</td>\n",
       "    </tr>\n",
       "    <tr>\n",
       "      <th>Residual</th>\n",
       "      <td>1.405142</td>\n",
       "      <td>792.0</td>\n",
       "      <td>NaN</td>\n",
       "      <td>NaN</td>\n",
       "    </tr>\n",
       "  </tbody>\n",
       "</table>\n",
       "</div>"
      ],
      "text/plain": [
       "                       sum_sq     df           F         PR(>F)\n",
       "C(trialType)         0.148292    1.0   83.583741   5.044041e-19\n",
       "C(rat)               2.272639    3.0  426.986510  5.925562e-165\n",
       "C(trialType):C(rat)  0.233070    3.0   43.789413   3.453273e-26\n",
       "Residual             1.405142  792.0         NaN            NaN"
      ]
     },
     "execution_count": 126,
     "metadata": {},
     "output_type": "execute_result"
    }
   ],
   "source": [
    "data = scores.melt(var_name=['rat','trialType'])\n",
    "formula = 'value ~ C(trialType)*C(rat)'\n",
    "model = ols(formula, data).fit()\n",
    "aov_table = st.anova.anova_lm(model, typ=2)\n",
    "aov_table"
   ]
  },
  {
   "cell_type": "code",
   "execution_count": 136,
   "metadata": {},
   "outputs": [],
   "source": [
    "pickle.dump(aov_table,open('../../imagens do diario/temporalChanges.pickle','wb'))"
   ]
  },
  {
   "cell_type": "code",
   "execution_count": 127,
   "metadata": {},
   "outputs": [
    {
     "data": {
      "text/html": [
       "<table class=\"simpletable\">\n",
       "<caption>OLS Regression Results</caption>\n",
       "<tr>\n",
       "  <th>Dep. Variable:</th>          <td>value</td>      <th>  R-squared:         </th> <td>   0.654</td> \n",
       "</tr>\n",
       "<tr>\n",
       "  <th>Model:</th>                   <td>OLS</td>       <th>  Adj. R-squared:    </th> <td>   0.651</td> \n",
       "</tr>\n",
       "<tr>\n",
       "  <th>Method:</th>             <td>Least Squares</td>  <th>  F-statistic:       </th> <td>   213.7</td> \n",
       "</tr>\n",
       "<tr>\n",
       "  <th>Date:</th>             <td>Mon, 16 Oct 2017</td> <th>  Prob (F-statistic):</th> <td>1.19e-177</td>\n",
       "</tr>\n",
       "<tr>\n",
       "  <th>Time:</th>                 <td>23:16:05</td>     <th>  Log-Likelihood:    </th> <td>  1402.6</td> \n",
       "</tr>\n",
       "<tr>\n",
       "  <th>No. Observations:</th>      <td>   800</td>      <th>  AIC:               </th> <td>  -2789.</td> \n",
       "</tr>\n",
       "<tr>\n",
       "  <th>Df Residuals:</th>          <td>   792</td>      <th>  BIC:               </th> <td>  -2752.</td> \n",
       "</tr>\n",
       "<tr>\n",
       "  <th>Df Model:</th>              <td>     7</td>      <th>                     </th>     <td> </td>    \n",
       "</tr>\n",
       "<tr>\n",
       "  <th>Covariance Type:</th>      <td>nonrobust</td>    <th>                     </th>     <td> </td>    \n",
       "</tr>\n",
       "</table>\n",
       "<table class=\"simpletable\">\n",
       "<tr>\n",
       "                    <td></td>                      <th>coef</th>     <th>std err</th>      <th>t</th>      <th>P>|t|</th>  <th>[0.025</th>    <th>0.975]</th>  \n",
       "</tr>\n",
       "<tr>\n",
       "  <th>Intercept</th>                            <td>    0.1288</td> <td>    0.004</td> <td>   30.581</td> <td> 0.000</td> <td>    0.121</td> <td>    0.137</td>\n",
       "</tr>\n",
       "<tr>\n",
       "  <th>C(trialType)[T.similar]</th>              <td>    0.0278</td> <td>    0.006</td> <td>    4.667</td> <td> 0.000</td> <td>    0.016</td> <td>    0.039</td>\n",
       "</tr>\n",
       "<tr>\n",
       "  <th>C(rat)[T.8]</th>                          <td>    0.1721</td> <td>    0.006</td> <td>   28.885</td> <td> 0.000</td> <td>    0.160</td> <td>    0.184</td>\n",
       "</tr>\n",
       "<tr>\n",
       "  <th>C(rat)[T.9]</th>                          <td>    0.0849</td> <td>    0.006</td> <td>   14.245</td> <td> 0.000</td> <td>    0.073</td> <td>    0.097</td>\n",
       "</tr>\n",
       "<tr>\n",
       "  <th>C(rat)[T.10]</th>                         <td>    0.0890</td> <td>    0.006</td> <td>   14.936</td> <td> 0.000</td> <td>    0.077</td> <td>    0.101</td>\n",
       "</tr>\n",
       "<tr>\n",
       "  <th>C(trialType)[T.similar]:C(rat)[T.8]</th>  <td>   -0.0534</td> <td>    0.008</td> <td>   -6.341</td> <td> 0.000</td> <td>   -0.070</td> <td>   -0.037</td>\n",
       "</tr>\n",
       "<tr>\n",
       "  <th>C(trialType)[T.similar]:C(rat)[T.9]</th>  <td>    0.0414</td> <td>    0.008</td> <td>    4.916</td> <td> 0.000</td> <td>    0.025</td> <td>    0.058</td>\n",
       "</tr>\n",
       "<tr>\n",
       "  <th>C(trialType)[T.similar]:C(rat)[T.10]</th> <td>    0.0097</td> <td>    0.008</td> <td>    1.152</td> <td> 0.249</td> <td>   -0.007</td> <td>    0.026</td>\n",
       "</tr>\n",
       "</table>\n",
       "<table class=\"simpletable\">\n",
       "<tr>\n",
       "  <th>Omnibus:</th>       <td>11.084</td> <th>  Durbin-Watson:     </th> <td>   2.067</td>\n",
       "</tr>\n",
       "<tr>\n",
       "  <th>Prob(Omnibus):</th> <td> 0.004</td> <th>  Jarque-Bera (JB):  </th> <td>  17.881</td>\n",
       "</tr>\n",
       "<tr>\n",
       "  <th>Skew:</th>          <td>-0.018</td> <th>  Prob(JB):          </th> <td>0.000131</td>\n",
       "</tr>\n",
       "<tr>\n",
       "  <th>Kurtosis:</th>      <td> 3.732</td> <th>  Cond. No.          </th> <td>    12.5</td>\n",
       "</tr>\n",
       "</table>"
      ],
      "text/plain": [
       "<class 'statsmodels.iolib.summary.Summary'>\n",
       "\"\"\"\n",
       "                            OLS Regression Results                            \n",
       "==============================================================================\n",
       "Dep. Variable:                  value   R-squared:                       0.654\n",
       "Model:                            OLS   Adj. R-squared:                  0.651\n",
       "Method:                 Least Squares   F-statistic:                     213.7\n",
       "Date:                Mon, 16 Oct 2017   Prob (F-statistic):          1.19e-177\n",
       "Time:                        23:16:05   Log-Likelihood:                 1402.6\n",
       "No. Observations:                 800   AIC:                            -2789.\n",
       "Df Residuals:                     792   BIC:                            -2752.\n",
       "Df Model:                           7                                         \n",
       "Covariance Type:            nonrobust                                         \n",
       "========================================================================================================\n",
       "                                           coef    std err          t      P>|t|      [0.025      0.975]\n",
       "--------------------------------------------------------------------------------------------------------\n",
       "Intercept                                0.1288      0.004     30.581      0.000       0.121       0.137\n",
       "C(trialType)[T.similar]                  0.0278      0.006      4.667      0.000       0.016       0.039\n",
       "C(rat)[T.8]                              0.1721      0.006     28.885      0.000       0.160       0.184\n",
       "C(rat)[T.9]                              0.0849      0.006     14.245      0.000       0.073       0.097\n",
       "C(rat)[T.10]                             0.0890      0.006     14.936      0.000       0.077       0.101\n",
       "C(trialType)[T.similar]:C(rat)[T.8]     -0.0534      0.008     -6.341      0.000      -0.070      -0.037\n",
       "C(trialType)[T.similar]:C(rat)[T.9]      0.0414      0.008      4.916      0.000       0.025       0.058\n",
       "C(trialType)[T.similar]:C(rat)[T.10]     0.0097      0.008      1.152      0.249      -0.007       0.026\n",
       "==============================================================================\n",
       "Omnibus:                       11.084   Durbin-Watson:                   2.067\n",
       "Prob(Omnibus):                  0.004   Jarque-Bera (JB):               17.881\n",
       "Skew:                          -0.018   Prob(JB):                     0.000131\n",
       "Kurtosis:                       3.732   Cond. No.                         12.5\n",
       "==============================================================================\n",
       "\n",
       "Warnings:\n",
       "[1] Standard Errors assume that the covariance matrix of the errors is correctly specified.\n",
       "\"\"\""
      ]
     },
     "execution_count": 127,
     "metadata": {},
     "output_type": "execute_result"
    }
   ],
   "source": [
    "model.summary()"
   ]
  }
 ],
 "metadata": {
  "hide_input": false,
  "kernelspec": {
   "display_name": "Python 3",
   "language": "python",
   "name": "python3"
  },
  "toc": {
   "colors": {
    "hover_highlight": "#DAA520",
    "navigate_num": "#000000",
    "navigate_text": "#333333",
    "running_highlight": "#FF0000",
    "selected_highlight": "#FFD700",
    "sidebar_border": "#EEEEEE",
    "wrapper_background": "#FFFFFF"
   },
   "moveMenuLeft": true,
   "nav_menu": {
    "height": "118px",
    "width": "253px"
   },
   "navigate_menu": true,
   "number_sections": true,
   "sideBar": true,
   "threshold": 4,
   "toc_cell": true,
   "toc_section_display": "block",
   "toc_window_display": true,
   "widenNotebook": false
  }
 },
 "nbformat": 4,
 "nbformat_minor": 2
}
