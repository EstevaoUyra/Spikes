{
 "cells": [
  {
   "cell_type": "markdown",
   "metadata": {},
   "source": [
    "# Initialization"
   ]
  },
  {
   "cell_type": "markdown",
   "metadata": {},
   "source": [
    "## Imports"
   ]
  },
  {
   "cell_type": "code",
   "execution_count": 1,
   "metadata": {
    "collapsed": true
   },
   "outputs": [],
   "source": [
    "import pandas as pd\n",
    "import numpy as np\n",
    "\n",
    "import pickle\n",
    "\n",
    "import seaborn as sns\n",
    "import matplotlib.pyplot as plt\n",
    "%matplotlib inline\n",
    "sns.set(style=\"darkgrid\")"
   ]
  },
  {
   "cell_type": "code",
   "execution_count": 7,
   "metadata": {
    "collapsed": true
   },
   "outputs": [],
   "source": [
    "import sys\n",
    "sys.path.append('/home/tevo/Applications/optunity')\n",
    "import optunity\n",
    "from sklearn.svm import SVC\n",
    "from sklearn.metrics import cohen_kappa_score\n",
    "from sklearn.model_selection import KFold\n",
    "from spikeHelper.loadSpike import Rat"
   ]
  },
  {
   "cell_type": "markdown",
   "metadata": {},
   "source": [
    "## Functions"
   ]
  },
  {
   "cell_type": "code",
   "execution_count": 68,
   "metadata": {
    "collapsed": true
   },
   "outputs": [],
   "source": [
    "def splitTrials(dataWithMultipleIdxPerTrial,n_splits):\n",
    "    kf = KFold(n_splits=n_splits)\n",
    "    trials = np.unique(dataWithMultipleIdxPerTrial)\n",
    "    folds = {'train':{},'test':{}}\n",
    "    for i,item in enumerate(kf.split(trials)):\n",
    "        trainTrials, testTrials = trials[item[0]], trials[item[1]]\n",
    "        trainBoolIdx = np.array([i in trainTrials for i in dataWithMultipleIdxPerTrial])\n",
    "        testBoolIdx = np.array([i in testTrials for i in dataWithMultipleIdxPerTrial])\n",
    "        \n",
    "        assert len(testBoolIdx) == len(trainBoolIdx)\n",
    "        assert not any(testBoolIdx == trainBoolIdx)\n",
    "        \n",
    "        folds['train'][i] = trainBoolIdx\n",
    "        folds['test'][i] = testBoolIdx\n",
    "    return folds"
   ]
  },
  {
   "cell_type": "code",
   "execution_count": 144,
   "metadata": {
    "collapsed": true
   },
   "outputs": [],
   "source": [
    "def optimalPars(X, y, trial, cv=5):\n",
    "    def myFolds(X, y, trial, cv):\n",
    "        folds = splitTrials(trial,cv)\n",
    "        scores = []\n",
    "        \n",
    "        def svm_rbf_tuned_auroc(x_train, y_train, x_test, y_test, C, logGamma):\n",
    "            model = SVC(C=C, gamma=10 ** logGamma).fit(x_train, y_train)\n",
    "            y_pred = model.predict(x_test)\n",
    "            auc = cohen_kappa_score(y_test, y_pred, weights='quadratic')\n",
    "            return auc\n",
    "    \n",
    "        def wrapper(C, logGamma):\n",
    "            for cvi in range(cv):\n",
    "                Xtrain, ytrain = X[folds['train'][cvi],:], y[folds['train'][cvi]]\n",
    "                Xtest, ytest = X[folds['test'][cvi],:], y[folds['test'][cvi]]\n",
    "                scores.append(svm_rbf_tuned_auroc(Xtrain, ytrain, Xtest, ytest, C, logGamma))\n",
    "            return np.mean(scores) - np.std(scores)\n",
    "        return wrapper\n",
    "\n",
    "    cvOptimal=pd.DataFrame(columns = ['logGamma','C'])\n",
    "    optimal_rbf_pars, _, _ = optunity.maximize(myFolds(X,y,trial,cv), num_evals=150, C=[0, 60], logGamma=[-7,0])\n",
    "    cvOptimal = pd.concat((cvOptimal,pd.DataFrame(optimal_rbf_pars,index=[1]) ) )\n",
    "    return cvOptimal"
   ]
  },
  {
   "cell_type": "markdown",
   "metadata": {},
   "source": [
    "# Find optimal hyperparameters"
   ]
  },
  {
   "cell_type": "markdown",
   "metadata": {},
   "source": [
    "## Generate"
   ]
  },
  {
   "cell_type": "code",
   "execution_count": 145,
   "metadata": {
    "scrolled": true
   },
   "outputs": [
    {
     "name": "stdout",
     "output_type": "stream",
     "text": [
      "Label: Rat 7\n",
      "Bin size: 100\n",
      "Sigma: 100\n",
      "\n",
      "Using 624 trials, according to following restrictions:\n",
      "minDuration: 1500\n",
      "maxDuration: 4000\n",
      "\n",
      "Using 10 time bins:\n",
      "From 200 to 300ms\n",
      "From 300 to 400ms\n",
      "From 400 to 500ms\n",
      ".\n",
      ".\n",
      ".\n",
      "From 1000 to 1100ms\n",
      "From 1100 to 1200ms\n",
      "Label: Rat 8\n",
      "Bin size: 100\n",
      "Sigma: 100\n",
      "\n",
      "Using 423 trials, according to following restrictions:\n",
      "minDuration: 1500\n",
      "maxDuration: 4000\n",
      "\n",
      "Using 10 time bins:\n",
      "From 200 to 300ms\n",
      "From 300 to 400ms\n",
      "From 400 to 500ms\n",
      ".\n",
      ".\n",
      ".\n",
      "From 1000 to 1100ms\n",
      "From 1100 to 1200ms\n",
      "Label: Rat 9\n",
      "Bin size: 100\n",
      "Sigma: 100\n",
      "\n",
      "Using 394 trials, according to following restrictions:\n",
      "minDuration: 1500\n",
      "maxDuration: 4000\n",
      "\n",
      "Using 10 time bins:\n",
      "From 200 to 300ms\n",
      "From 300 to 400ms\n",
      "From 400 to 500ms\n",
      ".\n",
      ".\n",
      ".\n",
      "From 1000 to 1100ms\n",
      "From 1100 to 1200ms\n",
      "Label: Rat 10\n",
      "Bin size: 100\n",
      "Sigma: 100\n",
      "\n",
      "Using 944 trials, according to following restrictions:\n",
      "minDuration: 1500\n",
      "maxDuration: 4000\n",
      "\n",
      "Using 10 time bins:\n",
      "From 200 to 300ms\n",
      "From 300 to 400ms\n",
      "From 400 to 500ms\n",
      ".\n",
      ".\n",
      ".\n",
      "From 1000 to 1100ms\n",
      "From 1100 to 1200ms\n"
     ]
    },
    {
     "data": {
      "text/html": [
       "<div>\n",
       "<style>\n",
       "    .dataframe thead tr:only-child th {\n",
       "        text-align: right;\n",
       "    }\n",
       "\n",
       "    .dataframe thead th {\n",
       "        text-align: left;\n",
       "    }\n",
       "\n",
       "    .dataframe tbody tr th {\n",
       "        vertical-align: top;\n",
       "    }\n",
       "</style>\n",
       "<table border=\"1\" class=\"dataframe\">\n",
       "  <thead>\n",
       "    <tr style=\"text-align: right;\">\n",
       "      <th></th>\n",
       "      <th>C</th>\n",
       "      <th>Rat</th>\n",
       "      <th>logGamma</th>\n",
       "    </tr>\n",
       "  </thead>\n",
       "  <tbody>\n",
       "    <tr>\n",
       "      <th>1</th>\n",
       "      <td>48.164062</td>\n",
       "      <td>7</td>\n",
       "      <td>-3.623047</td>\n",
       "    </tr>\n",
       "    <tr>\n",
       "      <th>1</th>\n",
       "      <td>1.933594</td>\n",
       "      <td>8</td>\n",
       "      <td>-5.010742</td>\n",
       "    </tr>\n",
       "    <tr>\n",
       "      <th>1</th>\n",
       "      <td>46.054688</td>\n",
       "      <td>9</td>\n",
       "      <td>-6.658203</td>\n",
       "    </tr>\n",
       "    <tr>\n",
       "      <th>1</th>\n",
       "      <td>2.916566</td>\n",
       "      <td>10</td>\n",
       "      <td>-4.357622</td>\n",
       "    </tr>\n",
       "  </tbody>\n",
       "</table>\n",
       "</div>"
      ],
      "text/plain": [
       "           C Rat  logGamma\n",
       "1  48.164062   7 -3.623047\n",
       "1   1.933594   8 -5.010742\n",
       "1  46.054688   9 -6.658203\n",
       "1   2.916566  10 -4.357622"
      ]
     },
     "execution_count": 145,
     "metadata": {},
     "output_type": "execute_result"
    }
   ],
   "source": [
    "allRatsOptimal = pd.DataFrame(columns = ['logGamma','C','Rat'])\n",
    "for rat in [7,8,9,10]:\n",
    "    data = Rat(rat)\n",
    "    data.selecTrials({'minDuration':1500,'maxDuration':4000})\n",
    "    data.selecTimes(tmin=200,tmax=1200)\n",
    "    data.describe()\n",
    "    oneOptimal = optimalPars(data.X,data.y,data.trial,cv=10)\n",
    "    oneOptimal['Rat']=rat\n",
    "    allRatsOptimal = pd.concat((allRatsOptimal,oneOptimal))\n",
    "allRatsOptimal"
   ]
  },
  {
   "cell_type": "markdown",
   "metadata": {},
   "source": [
    "## Look and save"
   ]
  },
  {
   "cell_type": "code",
   "execution_count": 147,
   "metadata": {},
   "outputs": [
    {
     "data": {
      "text/html": [
       "<div>\n",
       "<style>\n",
       "    .dataframe thead tr:only-child th {\n",
       "        text-align: right;\n",
       "    }\n",
       "\n",
       "    .dataframe thead th {\n",
       "        text-align: left;\n",
       "    }\n",
       "\n",
       "    .dataframe tbody tr th {\n",
       "        vertical-align: top;\n",
       "    }\n",
       "</style>\n",
       "<table border=\"1\" class=\"dataframe\">\n",
       "  <thead>\n",
       "    <tr style=\"text-align: right;\">\n",
       "      <th></th>\n",
       "      <th>C</th>\n",
       "      <th>Rat</th>\n",
       "      <th>logGamma</th>\n",
       "    </tr>\n",
       "  </thead>\n",
       "  <tbody>\n",
       "    <tr>\n",
       "      <th>1</th>\n",
       "      <td>48.164062</td>\n",
       "      <td>7</td>\n",
       "      <td>-3.623047</td>\n",
       "    </tr>\n",
       "    <tr>\n",
       "      <th>1</th>\n",
       "      <td>1.933594</td>\n",
       "      <td>8</td>\n",
       "      <td>-5.010742</td>\n",
       "    </tr>\n",
       "    <tr>\n",
       "      <th>1</th>\n",
       "      <td>46.054688</td>\n",
       "      <td>9</td>\n",
       "      <td>-6.658203</td>\n",
       "    </tr>\n",
       "    <tr>\n",
       "      <th>1</th>\n",
       "      <td>2.916566</td>\n",
       "      <td>10</td>\n",
       "      <td>-4.357622</td>\n",
       "    </tr>\n",
       "  </tbody>\n",
       "</table>\n",
       "</div>"
      ],
      "text/plain": [
       "           C Rat  logGamma\n",
       "1  48.164062   7 -3.623047\n",
       "1   1.933594   8 -5.010742\n",
       "1  46.054688   9 -6.658203\n",
       "1   2.916566  10 -4.357622"
      ]
     },
     "execution_count": 147,
     "metadata": {},
     "output_type": "execute_result"
    }
   ],
   "source": [
    "allRatsOptimal"
   ]
  },
  {
   "cell_type": "code",
   "execution_count": 193,
   "metadata": {
    "collapsed": true
   },
   "outputs": [],
   "source": [
    "import time\n",
    "dayLabel = time.asctime(time.localtime())[:11]"
   ]
  },
  {
   "cell_type": "code",
   "execution_count": 202,
   "metadata": {
    "collapsed": true
   },
   "outputs": [],
   "source": [
    "import pickle\n",
    "pickle.dump(allRatsOptimal, open('Data/optimalParameters_'+dayLabel+'.pickle','wb'))"
   ]
  },
  {
   "cell_type": "code",
   "execution_count": 203,
   "metadata": {},
   "outputs": [
    {
     "name": "stdout",
     "output_type": "stream",
     "text": [
      "50ms_r10_1000to1500.pickle            r10_bin50_sigma100.pickle2\r\n",
      "50ms_r10_1300msPlus1s.pickle          r10_bin50_sigma20.pickle\r\n",
      "50ms_r10_2000to2500.pickle            r10_bin50_sigma50.pickle\r\n",
      "50ms_r10_3000to3500.pickle            r10_filtered_epoch_gabi.pickle\r\n",
      "50ms_r7_1000to1500.pickle             r10_sigma100norm.pickle\r\n",
      "50ms_r7_1300msPlus1s.pickle           r7_bin100_sigma100.pickle\r\n",
      "50ms_r7_2000to2500.pickle             r7_bin100_sigma50.pickle\r\n",
      "50ms_r7_3000to3500.pickle             r7_bin50_sigma100.pickle\r\n",
      "50ms_r8_1000msPlus.pickle             r7_bin50_sigma100.pickle2\r\n",
      "50ms_r8_1000to1500.pickle             r7_bin50_sigma20.pickle\r\n",
      "50ms_r8_1300msPlus1s.pickle           r7_bin50_sigma50.pickle\r\n",
      "50ms_r8_2000to2500.pickle             r7_filtered_epoch_fr1_isi5.pickle\r\n",
      "50ms_r8_3000to3500.pickle             r7_filtered_epoch_gabi.pickle\r\n",
      "50ms_r9_1000msPlus.pickle             r7_sigma100norm.pickle\r\n",
      "50ms_r9_1000to1500.pickle             r8_bin100_sigma100.pickle\r\n",
      "50ms_r9_1300msPlus1s.pickle           r8_bin100_sigma50.pickle\r\n",
      "50ms_r9_2000to2500.pickle             r8_bin50_sigma100.pickle\r\n",
      "50ms_r9_3000to3500.pickle             r8_bin50_sigma100.pickle2\r\n",
      "\u001b[0m\u001b[01;34mDados parados\u001b[0m/                        r8_bin50_sigma20.pickle\r\n",
      "gcells_R10_2.mat                      r8_bin50_sigma50.pickle\r\n",
      "gcells_R10.mat                        r8_filtered_epoch_fr1_isi5.pickle\r\n",
      "gcells_R7_2.mat                       r8_filtered_epoch_gabi.pickle\r\n",
      "gcells_R7.mat                         r8_sigma100norm.pickle\r\n",
      "gcells_R8_2.mat                       r9_bin100_sigma100.pickle\r\n",
      "gcells_R8.mat                         r9_bin100_sigma50.pickle\r\n",
      "gcells_R9_2.mat                       r9_bin50_sigma100.pickle\r\n",
      "gcells_R9.mat                         r9_bin50_sigma100.pickle2\r\n",
      "goodCellsR10_withBaseDiff             r9_bin50_sigma20.pickle\r\n",
      "goodCellsR7_withBaseDiff              r9_bin50_sigma50.pickle\r\n",
      "goodCellsR8_withBaseDiff              r9_filtered_epoch_fr1_isi5.pickle\r\n",
      "goodCellsR9_withBaseDiff              r9_filtered_epoch_gabi.pickle\r\n",
      "Mon Oct  2 _optimalParameters.pickle  r9_sigma100norm.pickle\r\n",
      "_optimalParametersMon Oct  2 .pickle  rato10tudo.mat\r\n",
      "optimalParameters_Mon Oct  2 .pickle  rato7tudo.mat\r\n",
      "_optimalParameters.pickleMon Oct  2   rato8tudo.mat\r\n",
      "r10_bin100_sigma100.pickle            rato9tudo.mat\r\n",
      "r10_bin100_sigma50.pickle             teste\r\n",
      "r10_bin50_sigma100.pickle\r\n"
     ]
    }
   ],
   "source": [
    "ls Data"
   ]
  },
  {
   "cell_type": "markdown",
   "metadata": {},
   "source": [
    "# Test performance in beginning and end"
   ]
  },
  {
   "cell_type": "code",
   "execution_count": 5,
   "metadata": {},
   "outputs": [
    {
     "name": "stdout",
     "output_type": "stream",
     "text": [
      "Calculating for rat 7 using 715 trials and 29 neurons\n",
      "Calculating for rat 8 using 503 trials and 37 neurons\n",
      "Calculating for rat 9 using 448 trials and 29 neurons\n",
      "Calculating for rat 10 using 1110 trials and 65 neurons\n"
     ]
    }
   ],
   "source": [
    "from spikeHelper.dataOrganization import loadBestParams\n",
    "from spikeHelper.similarities import temporalGeneralization\n",
    "ntrials = 100\n",
    "results = {'end':{},'beg':{},'crossTestBeg':{},'crossTestEnd':{}}\n",
    "for rat in [7,8,9,10]:\n",
    "    data = pickle.load(open('Data/r'+str(rat)+'_bin50_sigma100.pickle','rb'))\n",
    "    data = XyTfromEpoch(data,getBins=[10,30], minBins= 36, maxBins = 86)\n",
    "    print('Calculating for rat %d using %d trials and %d neurons' %(rat,data.shape[2],data.shape[0]))\n",
    "    \n",
    "    parameters = loadBestParams(rat)\n",
    "    \n",
    "    \n",
    "    beg = trialToXyT(data[:,:,:ntrials])\n",
    "    end = trialToXyT(data[:,:,-ntrials:])\n",
    "    \n",
    "    clf = SVC(kernel='rbf', C=parameters['C'], gamma=10**parameters['logGamma'])\n",
    "    #results['beg'][rat] = temporalGeneralization(getX(beg), beg['y'], beg['trial'], clf,returnCubic=True)\n",
    "    \n",
    "    clf = SVC(kernel='rbf', C=parameters['C'], gamma=10**parameters['logGamma'])\n",
    "    #results['end'][rat] = temporalGeneralization(getX(end), end['y'], end['trial'], clf,returnCubic=True)\n",
    "    \n",
    "    \n",
    "\n",
    "    cross = pd.DataFrame(columns=['confusion'],index = ['Rat 7','Rat 8','Rat 9', 'Rat 10'])\n",
    "\n",
    "    results['crossTestEnd'][rat], _ = crossGeneralization(beg,end,rat)\n",
    "    results['crossTestBeg'][rat], _ = crossGeneralization(end,beg,rat)"
   ]
  },
  {
   "cell_type": "code",
   "execution_count": 15,
   "metadata": {},
   "outputs": [
    {
     "data": {
      "text/html": [
       "<div>\n",
       "<style>\n",
       "    .dataframe thead tr:only-child th {\n",
       "        text-align: right;\n",
       "    }\n",
       "\n",
       "    .dataframe thead th {\n",
       "        text-align: left;\n",
       "    }\n",
       "\n",
       "    .dataframe tbody tr th {\n",
       "        vertical-align: top;\n",
       "    }\n",
       "</style>\n",
       "<table border=\"1\" class=\"dataframe\">\n",
       "  <thead>\n",
       "    <tr style=\"text-align: right;\">\n",
       "      <th></th>\n",
       "      <th>crossTestBeg</th>\n",
       "      <th>crossTestEnd</th>\n",
       "    </tr>\n",
       "  </thead>\n",
       "  <tbody>\n",
       "    <tr>\n",
       "      <th>7</th>\n",
       "      <td>0.055864</td>\n",
       "      <td>-0.000830</td>\n",
       "    </tr>\n",
       "    <tr>\n",
       "      <th>8</th>\n",
       "      <td>0.501801</td>\n",
       "      <td>0.354769</td>\n",
       "    </tr>\n",
       "    <tr>\n",
       "      <th>9</th>\n",
       "      <td>0.247980</td>\n",
       "      <td>0.172623</td>\n",
       "    </tr>\n",
       "    <tr>\n",
       "      <th>10</th>\n",
       "      <td>0.162449</td>\n",
       "      <td>0.123000</td>\n",
       "    </tr>\n",
       "  </tbody>\n",
       "</table>\n",
       "</div>"
      ],
      "text/plain": [
       "    crossTestBeg  crossTestEnd\n",
       "7       0.055864     -0.000830\n",
       "8       0.501801      0.354769\n",
       "9       0.247980      0.172623\n",
       "10      0.162449      0.123000"
      ]
     },
     "execution_count": 15,
     "metadata": {},
     "output_type": "execute_result"
    }
   ],
   "source": [
    "ras = pd.DataFrame(results).iloc[:,1:3]\n",
    "ras.applymap(performanceFromConfusion)"
   ]
  },
  {
   "cell_type": "code",
   "execution_count": 7,
   "metadata": {
    "collapsed": true
   },
   "outputs": [],
   "source": [
    "from sklearn.metrics import confusion_matrix\n",
    "def crossGeneralization(epochsTrain,epochsTest,rat):\n",
    "    '''Trains on all of the first input, and tests in each of the second'''\n",
    "    Xtrain, ytrain = epochsTrain.X, epochsTrain.y\n",
    "    Xtest, ytest = epochsTest.X, epochsTest.y\n",
    "    ytrial = epochsTest.trial\n",
    "\n",
    "\n",
    "    parameters = loadBestParams(rat)\n",
    "    clf = SVC(C=parameters['C'], gamma=10**parameters['logGamma'], decision_function_shape='ovr')\n",
    "    clf.fit(Xtrain,ytrain)\n",
    "\n",
    "    n_classes = max(len(np.unique(ytest)),len(np.unique(ytrain)) )\n",
    "        \n",
    "    trials = np.unique(epochsTest.trial)\n",
    "    confusionPerTrial = np.full((n_classes,n_classes,trials.shape[0]), 0)\n",
    "    for i,testTrial in enumerate(np.unique(ytrial)):\n",
    "        ypred = clf.predict(Xtest[ytrial==testTrial, :])\n",
    "\n",
    "        confusionPerTrial[:,:,i] = confusion_matrix(ytest[ytrial==testTrial], ypred,labels=np.arange(n_classes))\n",
    "\n",
    "    ntrain, ntest = len(np.unique(ytrain)), len(np.unique(ytest))\n",
    "    tempGen = np.full((ntrain,ntest),np.nan)\n",
    "    for real_y in np.unique(ytest):\n",
    "        tempGen[:,real_y-min(ytest)] = clf.decision_function(Xtest[ytest==real_y]).mean(axis=0)\n",
    "\n",
    "    return confusionPerTrial,tempGen"
   ]
  },
  {
   "cell_type": "code",
   "execution_count": 5,
   "metadata": {
    "collapsed": true
   },
   "outputs": [],
   "source": [
    "from spikeHelper.loadSpike import Rat"
   ]
  },
  {
   "cell_type": "code",
   "execution_count": 8,
   "metadata": {},
   "outputs": [
    {
     "name": "stdout",
     "output_type": "stream",
     "text": [
      "Calculating for rat 7 using 715 trials and 29 neurons\n",
      "Calculating for rat 8 using 503 trials and 37 neurons\n",
      "Calculating for rat 9 using 448 trials and 29 neurons\n",
      "Calculating for rat 10 using 1110 trials and 65 neurons\n"
     ]
    }
   ],
   "source": [
    "ntrials = 100\n",
    "results = pd.DataFrame(columns = ['when','type','rat','value'])\n",
    "for rat in [7,8,9,10]:\n",
    "    data = pickle.load(open('Data/r'+str(rat)+'_bin50_sigma100.pickle','rb'))\n",
    "    data = XyTfromEpoch(data,getBins=[10,30], minBins= 36, maxBins = 86)\n",
    "    print('Calculating for rat %d using %d trials and %d neurons' %(rat,data.shape[2],data.shape[0]))\n",
    "    \n",
    "    parameters = loadBestParams(rat)\n",
    "    \n",
    "    rb = Rat(rat,binSize=50)\n",
    "    rb.selecTrials({'minDuration':1300,'maxDuration':4000,'ntrials':50})\n",
    "    rb.selecTimes(200,1000)\n",
    "    \n",
    "    re = Rat(rat,binSize=50)\n",
    "    re.selecTrials({'minDuration':1300,'maxDuration':4000,'trialMin':'best','ntrials':50})\n",
    "    re.selecTimes(200,1000)\n",
    "    \n",
    "    clf = SVC(kernel='rbf', C=parameters['C'], gamma=10**parameters['logGamma'])\n",
    "    aux = temporalGeneralization(rb.X, rb.y, rb.trial, clf,returnCubic=True)\n",
    "    aux = performanceFromConfusion(aux)\n",
    "    results= pd.concat((results,pd.DataFrame({'when':'beg','type':'direct','rat':rat,'value':aux},index=[rat])),axis=0) \n",
    "    \n",
    "    clf = SVC(kernel='rbf', C=parameters['C'], gamma=10**parameters['logGamma'])\n",
    "    aux = temporalGeneralization(re.X, re.y, re.trial, clf,returnCubic=True)\n",
    "    aux = performanceFromConfusion(aux)\n",
    "    results= pd.concat((results,pd.DataFrame({'when':'end','type':'direct','rat':rat,'value':aux},index=[rat])),axis=0)\n",
    "    \n",
    "\n",
    "    cross = pd.DataFrame(columns=['confusion'],index = ['Rat 7','Rat 8','Rat 9', 'Rat 10'])\n",
    "\n",
    "    aux, _ = crossGeneralization(rb,re,rat)\n",
    "    aux = performanceFromConfusion(aux)\n",
    "    results= pd.concat((results,pd.DataFrame({'when':'end','type':'cross','rat':rat,'value':aux},index=[rat])),axis=0)\n",
    "    aux, _ = crossGeneralization(re,rb,rat)\n",
    "    aux = performanceFromConfusion(aux)\n",
    "    results= pd.concat((results,pd.DataFrame({'when':'beg','type':'cross','rat':rat,'value':aux},index=[rat])),axis=0)"
   ]
  },
  {
   "cell_type": "code",
   "execution_count": 38,
   "metadata": {
    "collapsed": true,
    "scrolled": true
   },
   "outputs": [],
   "source": [
    "#pickle.dump(results,open('2808cubicConfusion_bin50_sigma100','wb'))\n",
    "idx = np.logical_and(results['when']=='beg',results['type'] =='cross')\n",
    "results.loc[idx,'when']='temp'\n",
    "idx = np.logical_and(results['when']=='end',results['type'] =='cross')\n",
    "results.loc[idx,'when']='beg'\n",
    "idx = np.logical_and(results['when']=='temp',results['type'] =='cross')\n",
    "results.loc[idx,'when']='end'\n"
   ]
  },
  {
   "cell_type": "code",
   "execution_count": 8,
   "metadata": {
    "collapsed": true
   },
   "outputs": [],
   "source": [
    "results = pickle.load(open('2808cubicConfusion_bin50_sigma100','rb'))"
   ]
  },
  {
   "cell_type": "code",
   "execution_count": 38,
   "metadata": {},
   "outputs": [
    {
     "data": {
      "text/html": [
       "<div>\n",
       "<style>\n",
       "    .dataframe thead tr:only-child th {\n",
       "        text-align: right;\n",
       "    }\n",
       "\n",
       "    .dataframe thead th {\n",
       "        text-align: left;\n",
       "    }\n",
       "\n",
       "    .dataframe tbody tr th {\n",
       "        vertical-align: top;\n",
       "    }\n",
       "</style>\n",
       "<table border=\"1\" class=\"dataframe\">\n",
       "  <thead>\n",
       "    <tr style=\"text-align: right;\">\n",
       "      <th></th>\n",
       "      <th>beg</th>\n",
       "      <th>end</th>\n",
       "    </tr>\n",
       "  </thead>\n",
       "  <tbody>\n",
       "    <tr>\n",
       "      <th>7</th>\n",
       "      <td>0.187280</td>\n",
       "      <td>-0.061479</td>\n",
       "    </tr>\n",
       "    <tr>\n",
       "      <th>8</th>\n",
       "      <td>0.355999</td>\n",
       "      <td>0.343480</td>\n",
       "    </tr>\n",
       "    <tr>\n",
       "      <th>9</th>\n",
       "      <td>0.415610</td>\n",
       "      <td>0.265619</td>\n",
       "    </tr>\n",
       "    <tr>\n",
       "      <th>10</th>\n",
       "      <td>0.248193</td>\n",
       "      <td>0.129619</td>\n",
       "    </tr>\n",
       "  </tbody>\n",
       "</table>\n",
       "</div>"
      ],
      "text/plain": [
       "         beg       end\n",
       "7   0.187280 -0.061479\n",
       "8   0.355999  0.343480\n",
       "9   0.415610  0.265619\n",
       "10  0.248193  0.129619"
      ]
     },
     "execution_count": 38,
     "metadata": {},
     "output_type": "execute_result"
    }
   ],
   "source": [
    "res = results.applymap(lambda x: performanceFromConfusion(x[2:18,2:18,:]))\n",
    "res"
   ]
  },
  {
   "cell_type": "code",
   "execution_count": 40,
   "metadata": {},
   "outputs": [
    {
     "data": {
      "text/plain": [
       "<matplotlib.axes._subplots.AxesSubplot at 0x7fb3cef89240>"
      ]
     },
     "execution_count": 40,
     "metadata": {},
     "output_type": "execute_result"
    },
    {
     "data": {
      "image/png": "[encoded data removed]",
      "text/plain": [
       "<matplotlib.figure.Figure at 0x7fb3cf01c6a0>"
      ]
     },
     "metadata": {},
     "output_type": "display_data"
    }
   ],
   "source": [
    "res.transpose().plot()"
   ]
  },
  {
   "cell_type": "code",
   "execution_count": 32,
   "metadata": {},
   "outputs": [
    {
     "data": {
      "text/plain": [
       "<matplotlib.axes._subplots.AxesSubplot at 0x7fb3cf330358>"
      ]
     },
     "execution_count": 32,
     "metadata": {},
     "output_type": "execute_result"
    },
    {
     "data": {
      "image/png": "[encoded data removed]",
      "text/plain": [
       "<matplotlib.figure.Figure at 0x7fb3cf224e80>"
      ]
     },
     "metadata": {},
     "output_type": "display_data"
    }
   ],
   "source": [
    "rat = 10\n",
    "fig = plt.figure(figsize=(12,6))\n",
    "plt.subplot(1,2,1)\n",
    "sns.heatmap(res['beg'][rat])\n",
    "plt.subplot(1,2,2)\n",
    "sns.heatmap(res['end'][rat])"
   ]
  },
  {
   "cell_type": "code",
   "execution_count": 20,
   "metadata": {},
   "outputs": [
    {
     "data": {
      "text/plain": [
       "<matplotlib.axes._subplots.AxesSubplot at 0x7fb3d02c7860>"
      ]
     },
     "execution_count": 20,
     "metadata": {},
     "output_type": "execute_result"
    },
    {
     "data": {
      "image/png": "[encoded data removed]",
      "text/plain": [
       "<matplotlib.figure.Figure at 0x7fb3d02339e8>"
      ]
     },
     "metadata": {},
     "output_type": "display_data"
    }
   ],
   "source": [
    "from spikeHelper.dataOrganization import normRows\n",
    "sns.heatmap(normRows(res['beg'][9]))"
   ]
  },
  {
   "cell_type": "code",
   "execution_count": 9,
   "metadata": {},
   "outputs": [
    {
     "data": {
      "text/plain": [
       "<seaborn.axisgrid.FacetGrid at 0x7f1cfbc3b2b0>"
      ]
     },
     "execution_count": 9,
     "metadata": {},
     "output_type": "execute_result"
    },
    {
     "data": {
      "image/png": "[encoded data removed]",
      "text/plain": [
       "<matplotlib.figure.Figure at 0x7f1cfbc44908>"
      ]
     },
     "metadata": {},
     "output_type": "display_data"
    }
   ],
   "source": [
    "g = sns.factorplot( x=\"when\", y=\"value\", hue=\"rat\", col=\"type\", data=results,\n",
    "                   capsize=.2, size=6, aspect=.75)\n",
    "g.despine(left=True)"
   ]
  },
  {
   "cell_type": "code",
   "execution_count": null,
   "metadata": {
    "collapsed": true
   },
   "outputs": [],
   "source": [
    "ntrials = 100\n",
    "results = pd.DataFrame(columns = ['when','type','rat','value'])\n",
    "for rat in [7,8,9,10]:\n",
    "    data = pickle.load(open('Data/r'+str(rat)+'_bin50_sigma100.pickle','rb'))\n",
    "    data = XyTfromEpoch(data,getBins=[10,30], minBins= 36, maxBins = 86)\n",
    "    print('Calculating for rat %d using %d trials and %d neurons' %(rat,data.shape[2],data.shape[0]))\n",
    "    \n",
    "    parameters = loadBestParams(rat)\n",
    "    \n",
    "    \n",
    "    beg = trialToXyT(data[:,:,:ntrials])\n",
    "    end = trialToXyT(data[:,:,-ntrials:])\n",
    "    \n",
    "    clf = SVC(kernel='rbf', C=parameters['C'], gamma=10**parameters['logGamma'])\n",
    "    aux = temporalGeneralization(getX(beg), beg['y'], beg['trial'], clf,returnCubic=True)\n",
    "    aux = performanceFromConfusion(aux)\n",
    "    results= pd.concat((results,pd.DataFrame({'when':'beg','type':'direct','rat':rat,'value':aux},index=[rat])),axis=0) \n",
    "    \n",
    "    clf = SVC(kernel='rbf', C=parameters['C'], gamma=10**parameters['logGamma'])\n",
    "    aux = temporalGeneralization(getX(end), end['y'], end['trial'], clf,returnCubic=True)\n",
    "    aux = performanceFromConfusion(aux)\n",
    "    results= pd.concat((results,pd.DataFrame({'when':'end','type':'direct','rat':rat,'value':aux},index=[rat])),axis=0)\n",
    "    \n",
    "\n",
    "    cross = pd.DataFrame(columns=['confusion'],index = ['Rat 7','Rat 8','Rat 9', 'Rat 10'])\n",
    "\n",
    "    aux, _ = crossGeneralization(beg,end,rat)\n",
    "    aux = performanceFromConfusion(aux)\n",
    "    results= pd.concat((results,pd.DataFrame({'when':'beg','type':'cross','rat':rat,'value':aux},index=[rat])),axis=0)\n",
    "    aux, _ = crossGeneralization(end,beg,rat)\n",
    "    aux = performanceFromConfusion(aux)\n",
    "    results= pd.concat((results,pd.DataFrame({'when':'end','type':'cross','rat':rat,'value':aux},index=[rat])),axis=0)"
   ]
  },
  {
   "cell_type": "markdown",
   "metadata": {},
   "source": [
    "# Evolução do desempenho dos classificadores treinados nas últimas tentativas"
   ]
  },
  {
   "cell_type": "markdown",
   "metadata": {},
   "source": [
    "---"
   ]
  }
 ],
 "metadata": {
  "hide_input": false,
  "kernelspec": {
   "display_name": "Python 3",
   "language": "python",
   "name": "python3"
  },
  "language_info": {
   "codemirror_mode": {
    "name": "ipython",
    "version": 3
   },
   "file_extension": ".py",
   "mimetype": "text/x-python",
   "name": "python",
   "nbconvert_exporter": "python",
   "pygments_lexer": "ipython3",
   "version": "3.6.2"
  },
  "toc": {
   "colors": {
    "hover_highlight": "#DAA520",
    "navigate_num": "#000000",
    "navigate_text": "#333333",
    "running_highlight": "#FF0000",
    "selected_highlight": "#FFD700",
    "sidebar_border": "#EEEEEE",
    "wrapper_background": "#FFFFFF"
   },
   "moveMenuLeft": true,
   "nav_menu": {},
   "navigate_menu": true,
   "number_sections": true,
   "sideBar": true,
   "skip_h1_title": false,
   "threshold": 4,
   "toc_cell": false,
   "toc_position": {},
   "toc_section_display": "block",
   "toc_window_display": false,
   "widenNotebook": false
  }
 },
 "nbformat": 4,
 "nbformat_minor": 2
}
