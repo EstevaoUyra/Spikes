{
 "cells": [
  {
   "cell_type": "markdown",
   "metadata": {},
   "source": [
    "## Load outer libraries"
   ]
  },
  {
   "cell_type": "code",
   "execution_count": 2,
   "metadata": {
    "collapsed": true
   },
   "outputs": [],
   "source": [
    "import pandas as pd\n",
    "import numpy as np\n",
    "from __future__ import division\n",
    "import matplotlib.pyplot as plt\n",
    "import pickle\n",
    "import seaborn as sns\n",
    "sns.set(style=\"darkgrid\")\n",
    "\n",
    "%matplotlib inline"
   ]
  },
  {
   "cell_type": "markdown",
   "metadata": {},
   "source": [
    "# Find optimal hyperparameters"
   ]
  },
  {
   "cell_type": "code",
   "execution_count": 3,
   "metadata": {
    "collapsed": true
   },
   "outputs": [],
   "source": [
    "import optunity\n",
    "from sklearn.svm import SVC\n",
    "from sklearn.metrics import cohen_kappa_score\n",
    "from spikeHelper.dataOrganization import getX, XyTfromEpoch, trialToXyT"
   ]
  },
  {
   "cell_type": "code",
   "execution_count": 4,
   "metadata": {
    "collapsed": true
   },
   "outputs": [],
   "source": [
    "from spikeHelper.dataOrganization import loadBestParams\n",
    "from spikeHelper.similarities import temporalGeneralization,crossGeneralization\n",
    "from spikeHelper.metrics import performanceFromConfusion"
   ]
  },
  {
   "cell_type": "code",
   "execution_count": 50,
   "metadata": {
    "collapsed": true
   },
   "outputs": [],
   "source": [
    "def optimalPars(cubicData, cv=5):\n",
    "    \n",
    "    def svm_rbf_tuned_auroc(x_train, y_train, x_test, y_test, C, logGamma):\n",
    "        model = SVC(C=C, gamma=10 ** logGamma).fit(x_train, y_train)\n",
    "        y_pred = model.predict(x_test)\n",
    "        auc = cohen_kappa_score(y_test, y_pred, weights='linear')\n",
    "        return auc\n",
    "    \n",
    "    cvOptimal=pd.DataFrame(columns = ['logGamma','C'])\n",
    "    for cvi in range(cv):\n",
    "        # Get one time of each trial\n",
    "        y_time = np.random.randint(cubicData.shape[1],size=cubicData.shape[2])\n",
    "        X = np.array([cubicData[:,y_time[t],t] for t in range(cubicData.shape[2])])\n",
    "        cv_decorator = optunity.cross_validated(x=X, y=y_time, num_folds=5)\n",
    "        svm_rbf_tuned_auroc = cv_decorator(svm_rbf_tuned_auroc)\n",
    "        optimal_rbf_pars, _, _ = optunity.maximize(svm_rbf_tuned_auroc, num_evals=50, C=[0, 40], logGamma=[-7,0])\n",
    "        cvOptimal = pd.concat((cvOptimal,pd.DataFrame(optimal_rbf_pars,index=[1]) ) )\n",
    "    return cvOptimal"
   ]
  },
  {
   "cell_type": "code",
   "execution_count": 51,
   "metadata": {
    "scrolled": true
   },
   "outputs": [
    {
     "name": "stdout",
     "output_type": "stream",
     "text": [
      "Minimum size restricted. Using all up from  36\n",
      "Maximum size restricted. Using all up to  86\n",
      "Calculating for rat  7\n",
      "Using 715 trials\n",
      "Minimum size restricted. Using all up from  36\n",
      "Maximum size restricted. Using all up to  86\n",
      "Calculating for rat  8\n",
      "Using 503 trials\n",
      "Minimum size restricted. Using all up from  36\n",
      "Maximum size restricted. Using all up to  86\n",
      "Calculating for rat  9\n",
      "Using 448 trials\n",
      "Minimum size restricted. Using all up from  36\n",
      "Maximum size restricted. Using all up to  86\n",
      "Calculating for rat  10\n",
      "Using 1110 trials\n"
     ]
    },
    {
     "data": {
      "text/html": [
       "<div>\n",
       "<style>\n",
       "    .dataframe thead tr:only-child th {\n",
       "        text-align: right;\n",
       "    }\n",
       "\n",
       "    .dataframe thead th {\n",
       "        text-align: left;\n",
       "    }\n",
       "\n",
       "    .dataframe tbody tr th {\n",
       "        vertical-align: top;\n",
       "    }\n",
       "</style>\n",
       "<table border=\"1\" class=\"dataframe\">\n",
       "  <thead>\n",
       "    <tr style=\"text-align: right;\">\n",
       "      <th></th>\n",
       "      <th>C</th>\n",
       "      <th>Rat</th>\n",
       "      <th>logGamma</th>\n",
       "    </tr>\n",
       "  </thead>\n",
       "  <tbody>\n",
       "    <tr>\n",
       "      <th>1</th>\n",
       "      <td>2.228188</td>\n",
       "      <td>7</td>\n",
       "      <td>-3.298930</td>\n",
       "    </tr>\n",
       "    <tr>\n",
       "      <th>1</th>\n",
       "      <td>31.952646</td>\n",
       "      <td>7</td>\n",
       "      <td>-4.383742</td>\n",
       "    </tr>\n",
       "    <tr>\n",
       "      <th>1</th>\n",
       "      <td>25.142234</td>\n",
       "      <td>7</td>\n",
       "      <td>-4.278887</td>\n",
       "    </tr>\n",
       "    <tr>\n",
       "      <th>1</th>\n",
       "      <td>12.267969</td>\n",
       "      <td>7</td>\n",
       "      <td>-4.470293</td>\n",
       "    </tr>\n",
       "    <tr>\n",
       "      <th>1</th>\n",
       "      <td>24.564844</td>\n",
       "      <td>7</td>\n",
       "      <td>-4.278340</td>\n",
       "    </tr>\n",
       "    <tr>\n",
       "      <th>1</th>\n",
       "      <td>9.684375</td>\n",
       "      <td>8</td>\n",
       "      <td>-4.047422</td>\n",
       "    </tr>\n",
       "    <tr>\n",
       "      <th>1</th>\n",
       "      <td>20.108594</td>\n",
       "      <td>8</td>\n",
       "      <td>-4.355996</td>\n",
       "    </tr>\n",
       "    <tr>\n",
       "      <th>1</th>\n",
       "      <td>8.418513</td>\n",
       "      <td>8</td>\n",
       "      <td>-4.022908</td>\n",
       "    </tr>\n",
       "    <tr>\n",
       "      <th>1</th>\n",
       "      <td>35.122361</td>\n",
       "      <td>8</td>\n",
       "      <td>-4.730075</td>\n",
       "    </tr>\n",
       "    <tr>\n",
       "      <th>1</th>\n",
       "      <td>19.855420</td>\n",
       "      <td>8</td>\n",
       "      <td>-4.376316</td>\n",
       "    </tr>\n",
       "    <tr>\n",
       "      <th>1</th>\n",
       "      <td>16.273342</td>\n",
       "      <td>9</td>\n",
       "      <td>-2.889685</td>\n",
       "    </tr>\n",
       "    <tr>\n",
       "      <th>1</th>\n",
       "      <td>33.613281</td>\n",
       "      <td>9</td>\n",
       "      <td>-3.236816</td>\n",
       "    </tr>\n",
       "    <tr>\n",
       "      <th>1</th>\n",
       "      <td>25.608594</td>\n",
       "      <td>9</td>\n",
       "      <td>-4.148509</td>\n",
       "    </tr>\n",
       "    <tr>\n",
       "      <th>1</th>\n",
       "      <td>1.524524</td>\n",
       "      <td>9</td>\n",
       "      <td>-2.908145</td>\n",
       "    </tr>\n",
       "    <tr>\n",
       "      <th>1</th>\n",
       "      <td>13.535156</td>\n",
       "      <td>9</td>\n",
       "      <td>-3.770020</td>\n",
       "    </tr>\n",
       "    <tr>\n",
       "      <th>1</th>\n",
       "      <td>30.547986</td>\n",
       "      <td>10</td>\n",
       "      <td>-3.438675</td>\n",
       "    </tr>\n",
       "    <tr>\n",
       "      <th>1</th>\n",
       "      <td>37.463894</td>\n",
       "      <td>10</td>\n",
       "      <td>-3.591738</td>\n",
       "    </tr>\n",
       "    <tr>\n",
       "      <th>1</th>\n",
       "      <td>27.927344</td>\n",
       "      <td>10</td>\n",
       "      <td>-3.426628</td>\n",
       "    </tr>\n",
       "    <tr>\n",
       "      <th>1</th>\n",
       "      <td>27.968750</td>\n",
       "      <td>10</td>\n",
       "      <td>-3.363281</td>\n",
       "    </tr>\n",
       "    <tr>\n",
       "      <th>1</th>\n",
       "      <td>27.917891</td>\n",
       "      <td>10</td>\n",
       "      <td>-3.483959</td>\n",
       "    </tr>\n",
       "  </tbody>\n",
       "</table>\n",
       "</div>"
      ],
      "text/plain": [
       "           C Rat  logGamma\n",
       "1   2.228188   7 -3.298930\n",
       "1  31.952646   7 -4.383742\n",
       "1  25.142234   7 -4.278887\n",
       "1  12.267969   7 -4.470293\n",
       "1  24.564844   7 -4.278340\n",
       "1   9.684375   8 -4.047422\n",
       "1  20.108594   8 -4.355996\n",
       "1   8.418513   8 -4.022908\n",
       "1  35.122361   8 -4.730075\n",
       "1  19.855420   8 -4.376316\n",
       "1  16.273342   9 -2.889685\n",
       "1  33.613281   9 -3.236816\n",
       "1  25.608594   9 -4.148509\n",
       "1   1.524524   9 -2.908145\n",
       "1  13.535156   9 -3.770020\n",
       "1  30.547986  10 -3.438675\n",
       "1  37.463894  10 -3.591738\n",
       "1  27.927344  10 -3.426628\n",
       "1  27.968750  10 -3.363281\n",
       "1  27.917891  10 -3.483959"
      ]
     },
     "execution_count": 51,
     "metadata": {},
     "output_type": "execute_result"
    }
   ],
   "source": [
    "allRatsOptimal = pd.DataFrame(columns = ['logGamma','C','Rat'])\n",
    "for rat in [7,8,9,10]:\n",
    "    data = pickle.load(open('Data/r'+str(rat)+'_bin50_sigma100.pickle','rb'))\n",
    "    data = XyTfromEpoch(data,getBins=[10,30], minBins= 36, maxBins = 86)[:,:,:]\n",
    "    print('Calculating for rat ',rat)\n",
    "    print('Using %d trials' %data.shape[2])\n",
    "    oneOptimal = optimalPars(data,cv=5)\n",
    "    oneOptimal['Rat']=rat\n",
    "    allRatsOptimal = pd.concat((allRatsOptimal,oneOptimal))\n",
    "allRatsOptimal"
   ]
  },
  {
   "cell_type": "markdown",
   "metadata": {},
   "source": [
    "# Test performance in beginning and end"
   ]
  },
  {
   "cell_type": "code",
   "execution_count": 5,
   "metadata": {},
   "outputs": [
    {
     "name": "stdout",
     "output_type": "stream",
     "text": [
      "Calculating for rat 7 using 715 trials and 29 neurons\n",
      "Calculating for rat 8 using 503 trials and 37 neurons\n",
      "Calculating for rat 9 using 448 trials and 29 neurons\n",
      "Calculating for rat 10 using 1110 trials and 65 neurons\n"
     ]
    }
   ],
   "source": [
    "from spikeHelper.dataOrganization import loadBestParams\n",
    "from spikeHelper.similarities import temporalGeneralization\n",
    "ntrials = 100\n",
    "results = {'end':{},'beg':{},'crossTestBeg':{},'crossTestEnd':{}}\n",
    "for rat in [7,8,9,10]:\n",
    "    data = pickle.load(open('Data/r'+str(rat)+'_bin50_sigma100.pickle','rb'))\n",
    "    data = XyTfromEpoch(data,getBins=[10,30], minBins= 36, maxBins = 86)\n",
    "    print('Calculating for rat %d using %d trials and %d neurons' %(rat,data.shape[2],data.shape[0]))\n",
    "    \n",
    "    parameters = loadBestParams(rat)\n",
    "    \n",
    "    \n",
    "    beg = trialToXyT(data[:,:,:ntrials])\n",
    "    end = trialToXyT(data[:,:,-ntrials:])\n",
    "    \n",
    "    clf = SVC(kernel='rbf', C=parameters['C'], gamma=10**parameters['logGamma'])\n",
    "    #results['beg'][rat] = temporalGeneralization(getX(beg), beg['y'], beg['trial'], clf,returnCubic=True)\n",
    "    \n",
    "    clf = SVC(kernel='rbf', C=parameters['C'], gamma=10**parameters['logGamma'])\n",
    "    #results['end'][rat] = temporalGeneralization(getX(end), end['y'], end['trial'], clf,returnCubic=True)\n",
    "    \n",
    "    \n",
    "\n",
    "    cross = pd.DataFrame(columns=['confusion'],index = ['Rat 7','Rat 8','Rat 9', 'Rat 10'])\n",
    "\n",
    "    results['crossTestEnd'][rat], _ = crossGeneralization(beg,end,rat)\n",
    "    results['crossTestBeg'][rat], _ = crossGeneralization(end,beg,rat)"
   ]
  },
  {
   "cell_type": "code",
   "execution_count": 15,
   "metadata": {},
   "outputs": [
    {
     "data": {
      "text/html": [
       "<div>\n",
       "<style>\n",
       "    .dataframe thead tr:only-child th {\n",
       "        text-align: right;\n",
       "    }\n",
       "\n",
       "    .dataframe thead th {\n",
       "        text-align: left;\n",
       "    }\n",
       "\n",
       "    .dataframe tbody tr th {\n",
       "        vertical-align: top;\n",
       "    }\n",
       "</style>\n",
       "<table border=\"1\" class=\"dataframe\">\n",
       "  <thead>\n",
       "    <tr style=\"text-align: right;\">\n",
       "      <th></th>\n",
       "      <th>crossTestBeg</th>\n",
       "      <th>crossTestEnd</th>\n",
       "    </tr>\n",
       "  </thead>\n",
       "  <tbody>\n",
       "    <tr>\n",
       "      <th>7</th>\n",
       "      <td>0.055864</td>\n",
       "      <td>-0.000830</td>\n",
       "    </tr>\n",
       "    <tr>\n",
       "      <th>8</th>\n",
       "      <td>0.501801</td>\n",
       "      <td>0.354769</td>\n",
       "    </tr>\n",
       "    <tr>\n",
       "      <th>9</th>\n",
       "      <td>0.247980</td>\n",
       "      <td>0.172623</td>\n",
       "    </tr>\n",
       "    <tr>\n",
       "      <th>10</th>\n",
       "      <td>0.162449</td>\n",
       "      <td>0.123000</td>\n",
       "    </tr>\n",
       "  </tbody>\n",
       "</table>\n",
       "</div>"
      ],
      "text/plain": [
       "    crossTestBeg  crossTestEnd\n",
       "7       0.055864     -0.000830\n",
       "8       0.501801      0.354769\n",
       "9       0.247980      0.172623\n",
       "10      0.162449      0.123000"
      ]
     },
     "execution_count": 15,
     "metadata": {},
     "output_type": "execute_result"
    }
   ],
   "source": [
    "ras = pd.DataFrame(results).iloc[:,1:3]\n",
    "ras.applymap(performanceFromConfusion)"
   ]
  },
  {
   "cell_type": "code",
   "execution_count": null,
   "metadata": {
    "collapsed": true
   },
   "outputs": [],
   "source": [
    "corr = results.applymap(performanceFromConfusion)\n",
    "kappa = results.applymap(lambda x: performanceFromConfusion(x,'kappa'))\n",
    "\n",
    "plt.plot()"
   ]
  },
  {
   "cell_type": "code",
   "execution_count": 23,
   "metadata": {},
   "outputs": [
    {
     "name": "stdout",
     "output_type": "stream",
     "text": [
      "Calculating for rat 7 using 715 trials and 29 neurons\n",
      "Calculating for rat 8 using 503 trials and 37 neurons\n",
      "Calculating for rat 9 using 448 trials and 29 neurons\n",
      "Calculating for rat 10 using 1110 trials and 65 neurons\n"
     ]
    }
   ],
   "source": [
    "ntrials = 100\n",
    "results = pd.DataFrame(columns = ['when','type','rat','value'])\n",
    "for rat in [7,8,9,10]:\n",
    "    data = pickle.load(open('Data/r'+str(rat)+'_bin50_sigma100.pickle','rb'))\n",
    "    data = XyTfromEpoch(data,getBins=[10,30], minBins= 36, maxBins = 86)\n",
    "    print('Calculating for rat %d using %d trials and %d neurons' %(rat,data.shape[2],data.shape[0]))\n",
    "    \n",
    "    parameters = loadBestParams(rat)\n",
    "    \n",
    "    beg = trialToXyT(data[:,:,:ntrials])\n",
    "    end = trialToXyT(data[:,:,-ntrials:])\n",
    "    \n",
    "    clf = SVC(kernel='rbf', C=parameters['C'], gamma=10**parameters['logGamma'])\n",
    "    aux = temporalGeneralization(getX(beg), beg['y'], beg['trial'], clf,returnCubic=True)\n",
    "    aux = performanceFromConfusion(aux)\n",
    "    results= pd.concat((results,pd.DataFrame({'when':'beg','type':'direct','rat':rat,'value':aux},index=[rat])),axis=0) \n",
    "    \n",
    "    clf = SVC(kernel='rbf', C=parameters['C'], gamma=10**parameters['logGamma'])\n",
    "    aux = temporalGeneralization(getX(end), end['y'], end['trial'], clf,returnCubic=True)\n",
    "    aux = performanceFromConfusion(aux)\n",
    "    results= pd.concat((results,pd.DataFrame({'when':'end','type':'direct','rat':rat,'value':aux},index=[rat])),axis=0)\n",
    "    \n",
    "\n",
    "    cross = pd.DataFrame(columns=['confusion'],index = ['Rat 7','Rat 8','Rat 9', 'Rat 10'])\n",
    "\n",
    "    aux, _ = crossGeneralization(beg,end,rat)\n",
    "    aux = performanceFromConfusion(aux)\n",
    "    results= pd.concat((results,pd.DataFrame({'when':'end','type':'cross','rat':rat,'value':aux},index=[rat])),axis=0)\n",
    "    aux, _ = crossGeneralization(end,beg,rat)\n",
    "    aux = performanceFromConfusion(aux)\n",
    "    results= pd.concat((results,pd.DataFrame({'when':'beg','type':'cross','rat':rat,'value':aux},index=[rat])),axis=0)"
   ]
  },
  {
   "cell_type": "code",
   "execution_count": 38,
   "metadata": {
    "collapsed": true,
    "scrolled": true
   },
   "outputs": [],
   "source": [
    "#pickle.dump(results,open('2808cubicConfusion_bin50_sigma100','wb'))\n",
    "idx = np.logical_and(results['when']=='beg',results['type'] =='cross')\n",
    "results.loc[idx,'when']='temp'\n",
    "idx = np.logical_and(results['when']=='end',results['type'] =='cross')\n",
    "results.loc[idx,'when']='beg'\n",
    "idx = np.logical_and(results['when']=='temp',results['type'] =='cross')\n",
    "results.loc[idx,'when']='end'\n"
   ]
  },
  {
   "cell_type": "code",
   "execution_count": 8,
   "metadata": {
    "collapsed": true
   },
   "outputs": [],
   "source": [
    "results = pickle.load(open('2808cubicConfusion_bin50_sigma100','rb'))"
   ]
  },
  {
   "cell_type": "code",
   "execution_count": 38,
   "metadata": {},
   "outputs": [
    {
     "data": {
      "text/html": [
       "<div>\n",
       "<style>\n",
       "    .dataframe thead tr:only-child th {\n",
       "        text-align: right;\n",
       "    }\n",
       "\n",
       "    .dataframe thead th {\n",
       "        text-align: left;\n",
       "    }\n",
       "\n",
       "    .dataframe tbody tr th {\n",
       "        vertical-align: top;\n",
       "    }\n",
       "</style>\n",
       "<table border=\"1\" class=\"dataframe\">\n",
       "  <thead>\n",
       "    <tr style=\"text-align: right;\">\n",
       "      <th></th>\n",
       "      <th>beg</th>\n",
       "      <th>end</th>\n",
       "    </tr>\n",
       "  </thead>\n",
       "  <tbody>\n",
       "    <tr>\n",
       "      <th>7</th>\n",
       "      <td>0.187280</td>\n",
       "      <td>-0.061479</td>\n",
       "    </tr>\n",
       "    <tr>\n",
       "      <th>8</th>\n",
       "      <td>0.355999</td>\n",
       "      <td>0.343480</td>\n",
       "    </tr>\n",
       "    <tr>\n",
       "      <th>9</th>\n",
       "      <td>0.415610</td>\n",
       "      <td>0.265619</td>\n",
       "    </tr>\n",
       "    <tr>\n",
       "      <th>10</th>\n",
       "      <td>0.248193</td>\n",
       "      <td>0.129619</td>\n",
       "    </tr>\n",
       "  </tbody>\n",
       "</table>\n",
       "</div>"
      ],
      "text/plain": [
       "         beg       end\n",
       "7   0.187280 -0.061479\n",
       "8   0.355999  0.343480\n",
       "9   0.415610  0.265619\n",
       "10  0.248193  0.129619"
      ]
     },
     "execution_count": 38,
     "metadata": {},
     "output_type": "execute_result"
    }
   ],
   "source": [
    "res = results.applymap(lambda x: performanceFromConfusion(x[2:18,2:18,:]))\n",
    "res"
   ]
  },
  {
   "cell_type": "code",
   "execution_count": 40,
   "metadata": {},
   "outputs": [
    {
     "data": {
      "text/plain": [
       "<matplotlib.axes._subplots.AxesSubplot at 0x7fb3cef89240>"
      ]
     },
     "execution_count": 40,
     "metadata": {},
     "output_type": "execute_result"
    },
    {
     "data": {
      "image/png": "[encoded data removed]",
      "text/plain": [
       "<matplotlib.figure.Figure at 0x7fb3cf01c6a0>"
      ]
     },
     "metadata": {},
     "output_type": "display_data"
    }
   ],
   "source": [
    "res.transpose().plot()"
   ]
  },
  {
   "cell_type": "code",
   "execution_count": 32,
   "metadata": {},
   "outputs": [
    {
     "data": {
      "text/plain": [
       "<matplotlib.axes._subplots.AxesSubplot at 0x7fb3cf330358>"
      ]
     },
     "execution_count": 32,
     "metadata": {},
     "output_type": "execute_result"
    },
    {
     "data": {
      "image/png": "[encoded data removed]",
      "text/plain": [
       "<matplotlib.figure.Figure at 0x7fb3cf224e80>"
      ]
     },
     "metadata": {},
     "output_type": "display_data"
    }
   ],
   "source": [
    "rat = 10\n",
    "fig = plt.figure(figsize=(12,6))\n",
    "plt.subplot(1,2,1)\n",
    "sns.heatmap(res['beg'][rat])\n",
    "plt.subplot(1,2,2)\n",
    "sns.heatmap(res['end'][rat])"
   ]
  },
  {
   "cell_type": "code",
   "execution_count": 20,
   "metadata": {},
   "outputs": [
    {
     "data": {
      "text/plain": [
       "<matplotlib.axes._subplots.AxesSubplot at 0x7fb3d02c7860>"
      ]
     },
     "execution_count": 20,
     "metadata": {},
     "output_type": "execute_result"
    },
    {
     "data": {
      "image/png": "[encoded data removed]",
      "text/plain": [
       "<matplotlib.figure.Figure at 0x7fb3d02339e8>"
      ]
     },
     "metadata": {},
     "output_type": "display_data"
    }
   ],
   "source": [
    "from spikeHelper.dataOrganization import normRows\n",
    "sns.heatmap(normRows(res['beg'][9]))"
   ]
  },
  {
   "cell_type": "code",
   "execution_count": 39,
   "metadata": {},
   "outputs": [
    {
     "data": {
      "text/plain": [
       "<seaborn.axisgrid.FacetGrid at 0x7f1f73cd9f60>"
      ]
     },
     "execution_count": 39,
     "metadata": {},
     "output_type": "execute_result"
    },
    {
     "data": {
      "image/png": "[encoded data removed]",
      "text/plain": [
       "<matplotlib.figure.Figure at 0x7f1f73cd9b70>"
      ]
     },
     "metadata": {},
     "output_type": "display_data"
    }
   ],
   "source": [
    "g = sns.factorplot( x=\"when\", y=\"value\", hue=\"rat\", col=\"type\", data=results,\n",
    "                   capsize=.2, size=6, aspect=.75)\n",
    "g.despine(left=True)"
   ]
  },
  {
   "cell_type": "code",
   "execution_count": null,
   "metadata": {
    "collapsed": true
   },
   "outputs": [],
   "source": [
    "ntrials = 100\n",
    "results = pd.DataFrame(columns = ['when','type','rat','value'])\n",
    "for rat in [7,8,9,10]:\n",
    "    data = pickle.load(open('Data/r'+str(rat)+'_bin50_sigma100.pickle','rb'))\n",
    "    data = XyTfromEpoch(data,getBins=[10,30], minBins= 36, maxBins = 86)\n",
    "    print('Calculating for rat %d using %d trials and %d neurons' %(rat,data.shape[2],data.shape[0]))\n",
    "    \n",
    "    parameters = loadBestParams(rat)\n",
    "    \n",
    "    \n",
    "    beg = trialToXyT(data[:,:,:ntrials])\n",
    "    end = trialToXyT(data[:,:,-ntrials:])\n",
    "    \n",
    "    clf = SVC(kernel='rbf', C=parameters['C'], gamma=10**parameters['logGamma'])\n",
    "    aux = temporalGeneralization(getX(beg), beg['y'], beg['trial'], clf,returnCubic=True)\n",
    "    aux = performanceFromConfusion(aux)\n",
    "    results= pd.concat((results,pd.DataFrame({'when':'beg','type':'direct','rat':rat,'value':aux},index=[rat])),axis=0) \n",
    "    \n",
    "    clf = SVC(kernel='rbf', C=parameters['C'], gamma=10**parameters['logGamma'])\n",
    "    aux = temporalGeneralization(getX(end), end['y'], end['trial'], clf,returnCubic=True)\n",
    "    aux = performanceFromConfusion(aux)\n",
    "    results= pd.concat((results,pd.DataFrame({'when':'end','type':'direct','rat':rat,'value':aux},index=[rat])),axis=0)\n",
    "    \n",
    "\n",
    "    cross = pd.DataFrame(columns=['confusion'],index = ['Rat 7','Rat 8','Rat 9', 'Rat 10'])\n",
    "\n",
    "    aux, _ = crossGeneralization(beg,end,rat)\n",
    "    aux = performanceFromConfusion(aux)\n",
    "    results= pd.concat((results,pd.DataFrame({'when':'beg','type':'cross','rat':rat,'value':aux},index=[rat])),axis=0)\n",
    "    aux, _ = crossGeneralization(end,beg,rat)\n",
    "    aux = performanceFromConfusion(aux)\n",
    "    results= pd.concat((results,pd.DataFrame({'when':'end','type':'cross','rat':rat,'value':aux},index=[rat])),axis=0)"
   ]
  },
  {
   "cell_type": "markdown",
   "metadata": {},
   "source": [
    "# Evolução do desempenho dos classificadores treinados nas últimas tentativas"
   ]
  },
  {
   "cell_type": "markdown",
   "metadata": {},
   "source": [
    "---"
   ]
  }
 ],
 "metadata": {
  "hide_input": false,
  "kernelspec": {
   "display_name": "Python 3",
   "language": "python",
   "name": "python3"
  },
  "language_info": {
   "codemirror_mode": {
    "name": "ipython",
    "version": 3
   },
   "file_extension": ".py",
   "mimetype": "text/x-python",
   "name": "python",
   "nbconvert_exporter": "python",
   "pygments_lexer": "ipython3",
   "version": "3.6.1"
  },
  "toc": {
   "nav_menu": {},
   "number_sections": true,
   "sideBar": true,
   "skip_h1_title": false,
   "toc_cell": false,
   "toc_position": {},
   "toc_section_display": "block",
   "toc_window_display": false
  }
 },
 "nbformat": 4,
 "nbformat_minor": 2
}
