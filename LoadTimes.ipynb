{
 "cells": [
  {
   "cell_type": "code",
   "execution_count": 1,
   "metadata": {
    "collapsed": true
   },
   "outputs": [],
   "source": [
    "import numpy as np\n",
    "import pandas as pd\n",
    "import matplotlib.pyplot as plt\n",
    "import seaborn as sns\n",
    "import scipy.stats as st\n",
    "from spikeHelper.visuals import trialNeuronPlot, firingRateEvo\n",
    "from spikeHelper.loadSpike import loadSpikeBehav\n",
    "from spikeHelper.dataOrganization import XyTfromEpoch\n",
    "from spikeHelper.filters import convHist, filterEpochs, kernelSmooth,binarize\n",
    "import pickle\n",
    "import glob\n",
    "\n",
    "%matplotlib inline"
   ]
  },
  {
   "cell_type": "markdown",
   "metadata": {},
   "source": [
    "# Load In parts"
   ]
  },
  {
   "cell_type": "code",
   "execution_count": null,
   "metadata": {
    "collapsed": true,
    "scrolled": true
   },
   "outputs": [],
   "source": [
    "filename = 'Data/rato7tudo.mat'\n",
    "spikes, behavior, epochs = loadSpikeBehav(filename)"
   ]
  },
  {
   "cell_type": "markdown",
   "metadata": {},
   "source": [
    "#### Filter away neurons with too low firing rate or abnormal InterSpikeInterval"
   ]
  },
  {
   "cell_type": "code",
   "execution_count": null,
   "metadata": {
    "collapsed": true
   },
   "outputs": [],
   "source": [
    "rat = 7 ; fr = 1 ; isi = 5\n",
    "\n",
    "#filename = 'Data/r'+str(rat)+'_filtered_epoch_fr'+str(fr)+'_isi'+str(isi)+'.pickle'\n",
    "filename = 'Data/r'+str(rat)+'_filtered_epoch_gabi.pickle'\n",
    "\n",
    "if len(glob.glob(filename))==1:\n",
    "    print('File',filename,'already exists. Loading filtered epochs')\n",
    "    epochs = pickle.load(open(filename,'rb'))\n",
    "else: # This file does not yet exists\n",
    "    print('File',filename,'does not exist. Filtering epochs and saving file')\n",
    "    epochs = filterEpochs(epochs,method = 'gabi', rat = rat)\n",
    "    pickle.dump(epochs,open(filename,'wb'))"
   ]
  },
  {
   "cell_type": "markdown",
   "metadata": {},
   "source": [
    "#### Select trials by duration"
   ]
  },
  {
   "cell_type": "code",
   "execution_count": null,
   "metadata": {
    "collapsed": true
   },
   "outputs": [],
   "source": [
    "#trialsOfInterest = (behavior.duration>1).as_matrix()\n",
    "duration= epochs.applymap(len).iloc[0].values\n",
    "#TOI = epochs.iloc[:,duration>1300]\n",
    "TOI = epochs.iloc[:,np.logical_and(duration>1000,duration<1500)]"
   ]
  },
  {
   "cell_type": "markdown",
   "metadata": {},
   "source": [
    "#### Smoothe and bin"
   ]
  },
  {
   "cell_type": "code",
   "execution_count": null,
   "metadata": {
    "collapsed": true
   },
   "outputs": [],
   "source": [
    "subname = '1000to1500'\n",
    "rat7 = XyTfromEpoch(TOI,window=[0,1000])\n",
    "pickle.dump(rat7,open('Data/50ms_r7_'+subname+'.pickle','wb'))"
   ]
  },
  {
   "cell_type": "markdown",
   "metadata": {},
   "source": [
    "---"
   ]
  },
  {
   "cell_type": "code",
   "execution_count": null,
   "metadata": {
    "collapsed": true,
    "scrolled": true
   },
   "outputs": [],
   "source": [
    "filename = 'Data/rato10tudo.mat'\n",
    "spikes, behavior, epochs = loadSpikeBehav(filename)"
   ]
  },
  {
   "cell_type": "markdown",
   "metadata": {},
   "source": [
    "# Load all"
   ]
  },
  {
   "cell_type": "code",
   "execution_count": 4,
   "metadata": {},
   "outputs": [
    {
     "name": "stdout",
     "output_type": "stream",
     "text": [
      "File Data/r7_filtered_epoch_gabi.pickle already exists. Loading filtered epochs\n",
      "(29, 955)\n",
      "File Data/r8_filtered_epoch_gabi.pickle already exists. Loading filtered epochs\n",
      "(37, 671)\n",
      "File Data/r9_filtered_epoch_gabi.pickle already exists. Loading filtered epochs\n",
      "(29, 683)\n",
      "File Data/r10_filtered_epoch_gabi.pickle already exists. Loading filtered epochs\n",
      "(65, 1429)\n"
     ]
    }
   ],
   "source": [
    "for rat in [7,8,9,10]:\n",
    "    #fr=1; isi=5; filename = 'Data/r'+str(rat)+'_filtered_epoch_fr'+str(fr)+'_isi'+str(isi)+'.pickle'\n",
    "    filename = 'Data/r'+str(rat)+'_filtered_epoch_gabi.pickle'\n",
    "\n",
    "    if len(glob.glob(filename))==1:\n",
    "        print('File',filename,'already exists. Loading filtered epochs')\n",
    "        epochs = pickle.load(open(filename,'rb'))\n",
    "\n",
    "    else:\n",
    "        print('File',filename,'does not exist. Filtering epochs and saving file')\n",
    "        epochs = filterEpochs(epochs,minFiringRate=fr,minISI=isi,method = 'gabi', rat = rat)\n",
    "        pickle.dump(epochs,open(filename,'wb'))\n",
    "        \n",
    "    #trialsOfInterest = (behavior.duration>1).as_matrix() # another option for selecting duration\n",
    "    duration= epochs.applymap(len).iloc[0].values\n",
    "    \n",
    "    ############# SPECIFICS ##############\n",
    "    epochs = epochs.iloc[:,duration>1300]\n",
    "    print(epochs.shape)\n",
    "    subname = '1300msPlus1s'\n",
    "    binDuration=50\n",
    "    ############# SPECIFICS ##############\n",
    "    \n",
    "    data = XyTfromEpoch(epochs,window=[0,1000],binDuration=binDuration)\n",
    "    pickle.dump(data,open('Data/'+str(binDuration)+'ms_r'+str(rat)+'_'+subname+'.pickle','wb'))\n",
    "    print('Done with rat', rat)"
   ]
  },
  {
   "cell_type": "code",
   "execution_count": 5,
   "metadata": {},
   "outputs": [
    {
     "name": "stdout",
     "output_type": "stream",
     "text": [
      "hello world\n"
     ]
    }
   ],
   "source": [
    "print('hello world')"
   ]
  },
  {
   "cell_type": "markdown",
   "metadata": {},
   "source": [
    "-----------"
   ]
  },
  {
   "cell_type": "markdown",
   "metadata": {
    "collapsed": true
   },
   "source": [
    "# Test pickles and show specifics of each rat"
   ]
  },
  {
   "cell_type": "code",
   "execution_count": null,
   "metadata": {
    "collapsed": true
   },
   "outputs": [],
   "source": [
    "data = pickle.load(open('Data/50ms_r7_1000msPlus.pickle','rb'))\n",
    "print('Number of neurons',data.shape[0])\n",
    "print('Number of times',data.shape[1])\n",
    "print('Number of trials',data.shape[2])"
   ]
  },
  {
   "cell_type": "code",
   "execution_count": null,
   "metadata": {
    "collapsed": true
   },
   "outputs": [],
   "source": [
    "data = pickle.load(open('Data/50ms_r8_1000msPlus.pickle','rb'))\n",
    "print('Number of neurons',data.shape[0])\n",
    "print('Number of times',data.shape[1])\n",
    "print('Number of trials',data.shape[2])"
   ]
  },
  {
   "cell_type": "code",
   "execution_count": null,
   "metadata": {
    "collapsed": true
   },
   "outputs": [],
   "source": [
    "data = pickle.load(open('Data/50ms_r9_1000msPlus.pickle','rb'))\n",
    "print('Number of neurons',data.shape[0])\n",
    "\n",
    "print('Number of times',data.shape[1])\n",
    "print('Number of trials',data.shape[2])"
   ]
  },
  {
   "cell_type": "code",
   "execution_count": null,
   "metadata": {
    "collapsed": true
   },
   "outputs": [],
   "source": [
    "data = pickle.load(open('Data/50ms_r10_1000msPlus.pickle','rb'))\n",
    "print('Number of neurons',data.shape[0])\n",
    "print('Number of times',data.shape[1])\n",
    "print('Number of trials',data.shape[2])"
   ]
  },
  {
   "cell_type": "markdown",
   "metadata": {},
   "source": [
    "# Visualize activity"
   ]
  },
  {
   "cell_type": "markdown",
   "metadata": {},
   "source": [
    "### Motor action"
   ]
  },
  {
   "cell_type": "markdown",
   "metadata": {},
   "source": [
    "#### Rat 8"
   ]
  },
  {
   "cell_type": "code",
   "execution_count": null,
   "metadata": {
    "collapsed": true
   },
   "outputs": [],
   "source": [
    "fig = plt.figure(figsize=(13, 5), dpi= 80, facecolor='w', edgecolor='k')\n",
    "plt.subplot(1,2,1)\n",
    "motorPlot(epochs, totalTime=3000,sigma=20)\n",
    "plt.subplot(1,2,2)\n",
    "motorPlot(epochs, totalTime=600,sigma=20)"
   ]
  },
  {
   "cell_type": "markdown",
   "metadata": {},
   "source": [
    "---"
   ]
  },
  {
   "cell_type": "code",
   "execution_count": null,
   "metadata": {
    "collapsed": true
   },
   "outputs": [],
   "source": [
    "fr = 1\n",
    "isi = 5\n",
    "\n",
    "\n",
    "\n",
    "fig = plt.figure(figsize=(6, 9), dpi= 80, facecolor='w', edgecolor='k')\n",
    "for i in range(4):\n",
    "    filename = 'Data/r'+str(i+7)+'_filtered_epoch_fr'+str(fr)+'_isi'+str(isi)+'.pickle'\n",
    "    epochs = pickle.load(open(filename,'rb'))\n",
    "    trialsOfInterest = epochs.iloc[0].apply(len).values > 1500\n",
    "    epochs = epochs.iloc[:,trialsOfInterest]\n",
    "    for j in range(3):\n",
    "        plt.subplot(4,3,i*3+j+1)\n",
    "        trialNeuronPlot(epochs,i+2,j+1,xmax=1000)\n",
    "        plt.plot()"
   ]
  },
  {
   "cell_type": "code",
   "execution_count": null,
   "metadata": {
    "collapsed": true
   },
   "outputs": [],
   "source": [
    "epochs.apply(axis=1)"
   ]
  },
  {
   "cell_type": "code",
   "execution_count": null,
   "metadata": {
    "collapsed": true
   },
   "outputs": [],
   "source": []
  },
  {
   "cell_type": "markdown",
   "metadata": {
    "collapsed": true
   },
   "source": [
    "epochs = filterEpochs(epochs,minFiringRate=1,minISI=5)"
   ]
  },
  {
   "cell_type": "code",
   "execution_count": null,
   "metadata": {
    "collapsed": true
   },
   "outputs": [],
   "source": []
  },
  {
   "cell_type": "code",
   "execution_count": null,
   "metadata": {
    "collapsed": true
   },
   "outputs": [],
   "source": [
    "fig = plt.figure(figsize=(16, 4), dpi= 80, facecolor='w', edgecolor='k')\n",
    "plt.subplot(1,2,1)\n",
    "sns.heatmap(filterEpochs(TOI).applymap(np.sum))\n",
    "plt.subplot(1,2,2)\n",
    "sns.heatmap(filterEpochs(epochs).applymap(np.sum))"
   ]
  },
  {
   "cell_type": "code",
   "execution_count": null,
   "metadata": {
    "collapsed": true
   },
   "outputs": [],
   "source": [
    "test = XyTfromEpoch(TOI,window=[-500,1000])\n"
   ]
  },
  {
   "cell_type": "code",
   "execution_count": null,
   "metadata": {
    "collapsed": true
   },
   "outputs": [],
   "source": [
    "test.shape"
   ]
  },
  {
   "cell_type": "code",
   "execution_count": null,
   "metadata": {
    "collapsed": true
   },
   "outputs": [],
   "source": []
  },
  {
   "cell_type": "code",
   "execution_count": null,
   "metadata": {
    "collapsed": true
   },
   "outputs": [],
   "source": []
  },
  {
   "cell_type": "code",
   "execution_count": null,
   "metadata": {
    "collapsed": true
   },
   "outputs": [],
   "source": [
    "normFilter = st.norm(0,100).pdf(np.linspace(-300,300,600))\n",
    "plt.plot(np.linspace(-300,300,600),normFilter)"
   ]
  },
  {
   "cell_type": "code",
   "execution_count": null,
   "metadata": {
    "collapsed": true
   },
   "outputs": [],
   "source": [
    "x = TOI.iloc[18,15]"
   ]
  },
  {
   "cell_type": "code",
   "execution_count": null,
   "metadata": {
    "collapsed": true
   },
   "outputs": [],
   "source": [
    "trialsOfInterest = (behavior.duration>1).as_matrix()\n",
    "TOI = epochs.iloc[:,trialsOfInterest]\n",
    "TOI = TOI.apply(lambda x: x.apply(lambda x: convHist) )"
   ]
  },
  {
   "cell_type": "code",
   "execution_count": null,
   "metadata": {
    "collapsed": true
   },
   "outputs": [],
   "source": [
    "from spikeHelper.filters import kernelSmooth\n",
    "x = epochs.iloc[18,15]\n",
    "times = np.nonzero(x)[0]\n",
    "#sns.distplot(times, kde=False, rug=True, bins=20);\n",
    "sns.rugplot(times)\n",
    "plt.plot(kernelSmooth(x))\n",
    "plt.bar(np.arange(30)*50,convHist(x)/50,width= .8*50,alpha=.3)"
   ]
  }
 ],
 "metadata": {
  "kernelspec": {
   "display_name": "Python 3",
   "language": "python",
   "name": "python3"
  },
  "language_info": {
   "codemirror_mode": {
    "name": "ipython",
    "version": 3
   },
   "file_extension": ".py",
   "mimetype": "text/x-python",
   "name": "python",
   "nbconvert_exporter": "python",
   "pygments_lexer": "ipython3",
   "version": "3.5.2"
  }
 },
 "nbformat": 4,
 "nbformat_minor": 2
}
