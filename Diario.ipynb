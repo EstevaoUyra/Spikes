{
 "cells": [
  {
   "cell_type": "markdown",
   "metadata": {},
   "source": [
    "## Dia 02/10"
   ]
  },
  {
   "cell_type": "markdown",
   "metadata": {},
   "source": [
    "### Em progresso"
   ]
  },
  {
   "cell_type": "markdown",
   "metadata": {},
   "source": [
    "#### Simplificação da utilização das análises"
   ]
  },
  {
   "cell_type": "markdown",
   "metadata": {},
   "source": [
    "- Transferência da classe Rat para spikeHelper.wrappers\n",
    "- Criação da classe suporte SpikeDataSet"
   ]
  },
  {
   "cell_type": "markdown",
   "metadata": {},
   "source": [
    "### Progresso"
   ]
  },
  {
   "cell_type": "markdown",
   "metadata": {},
   "source": [
    "#### Novo grid search\n",
    "- Todas as tentativas entre 1500 e 4000, com 10 bins de 100ms entre 200-1200\n",
    "- Score usado: ($Media-std$) do 10-fold CV\n",
    "- Demorou umas 16 horas, principalmente o rato 10 ~10 horas\n",
    "- Obs:\n",
    "    - <font color='red'>Esqueci de mandar ele guardar todos os resultados, fiquei só com o melhor</font>"
   ]
  },
  {
   "cell_type": "code",
   "execution_count": 1,
   "metadata": {},
   "outputs": [
    {
     "data": {
      "text/html": [
       "<div>\n",
       "<style>\n",
       "    .dataframe thead tr:only-child th {\n",
       "        text-align: right;\n",
       "    }\n",
       "\n",
       "    .dataframe thead th {\n",
       "        text-align: left;\n",
       "    }\n",
       "\n",
       "    .dataframe tbody tr th {\n",
       "        vertical-align: top;\n",
       "    }\n",
       "</style>\n",
       "<table border=\"1\" class=\"dataframe\">\n",
       "  <thead>\n",
       "    <tr style=\"text-align: right;\">\n",
       "      <th></th>\n",
       "      <th>C</th>\n",
       "      <th>Rat</th>\n",
       "      <th>logGamma</th>\n",
       "    </tr>\n",
       "  </thead>\n",
       "  <tbody>\n",
       "    <tr>\n",
       "      <th>1</th>\n",
       "      <td>48.164062</td>\n",
       "      <td>7</td>\n",
       "      <td>-3.623047</td>\n",
       "    </tr>\n",
       "    <tr>\n",
       "      <th>1</th>\n",
       "      <td>1.933594</td>\n",
       "      <td>8</td>\n",
       "      <td>-5.010742</td>\n",
       "    </tr>\n",
       "    <tr>\n",
       "      <th>1</th>\n",
       "      <td>46.054688</td>\n",
       "      <td>9</td>\n",
       "      <td>-6.658203</td>\n",
       "    </tr>\n",
       "    <tr>\n",
       "      <th>1</th>\n",
       "      <td>2.916566</td>\n",
       "      <td>10</td>\n",
       "      <td>-4.357622</td>\n",
       "    </tr>\n",
       "  </tbody>\n",
       "</table>\n",
       "</div>"
      ],
      "text/plain": [
       "           C Rat  logGamma\n",
       "1  48.164062   7 -3.623047\n",
       "1   1.933594   8 -5.010742\n",
       "1  46.054688   9 -6.658203\n",
       "1   2.916566  10 -4.357622"
      ]
     },
     "execution_count": 1,
     "metadata": {},
     "output_type": "execute_result"
    }
   ],
   "source": [
    "import pickle\n",
    "pickle.load(open('Data/optimalParameters_Mon Oct  2 .pickle','rb'))"
   ]
  },
  {
   "cell_type": "markdown",
   "metadata": {},
   "source": [
    "#### Limpeza do ambiente de trabalho\n",
    "- Muitos arquivos ociosos deletados\n",
    "- Organização deste diário\n",
    "- $\\textbf{Decoder}$ deletado. Continha todas as análises em sua primeira versão (classifier bundle, etc)\n",
    "- $\\textbf{LoadTimes}$ movido para pasta de exemplos. Esse notebook necessita de uma limpeza."
   ]
  },
  {
   "cell_type": "markdown",
   "metadata": {},
   "source": [
    "### Pensamentos"
   ]
  },
  {
   "cell_type": "markdown",
   "metadata": {},
   "source": [
    "- Análises\n",
    "    - Testar o classificador na decodificação de $\\textbf{\"quando o rato responderá\"}$\n",
    "    - Calcular resposta esperada do rato baseada em $\\textbf{Hazard Rate}$ e $\\textbf{Delay Discounting},$ usando a lei de $\\textbf{Weber}$ p/ o tempo.\n",
    "    - Existe um modelo de $\\textit{Hidden states}$ que explica bem o comportamento dos ratos? Nesse caso, a atividade neural poderia ser comparada aos hidden states.\n",
    "    \n",
    "    \n",
    "- Exploração:\n",
    "    - Observar distribuição dos dados comportamentais condicionados à: \n",
    "        - Duração da tentativa anterior\n",
    "        - Recompensa na tentativa anterior\n",
    "        - ITI\n",
    "        -  $\\textit{Feitos em exploração do comportamento}$\n",
    "    - Agrupar atividade por previsão\n",
    "        - Observar como são todas as tentativas previstas como e.g. 3\n",
    "        \n",
    "    \n",
    "- PCAevo: o que significa o componente principal em um unico neurônio, com as dimensões sendo os tempos? E sua evolução?\n",
    "    - Nota: Caso não signifique nada, apagar o arquivo."
   ]
  },
  {
   "cell_type": "markdown",
   "metadata": {},
   "source": [
    "---"
   ]
  },
  {
   "cell_type": "markdown",
   "metadata": {},
   "source": [
    "## Dia 03/10"
   ]
  },
  {
   "cell_type": "markdown",
   "metadata": {},
   "source": [
    "### Estudo"
   ]
  },
  {
   "cell_type": "markdown",
   "metadata": {},
   "source": [
    "#### Dayan & Abott - Cap. 1\n",
    "###### Páginas: 5 a 46"
   ]
  },
  {
   "cell_type": "markdown",
   "metadata": {},
   "source": [
    "###### Estimação da taxa de disparo"
   ]
  },
  {
   "cell_type": "markdown",
   "metadata": {},
   "source": [
    "- Kernel Gaussiano: Não-causal\n",
    "    - $w(\\tau) = \\frac{1}{\\sqrt{2\\pi\\sigma}}e^{-\\frac{\\tau^2}{2\\sigma^2}}$\n",
    "- Função $\\alpha$: Causal\n",
    "    - $w(\\tau) = [\\alpha^2\\tau ^{-\\alpha \\tau}]_+$\n",
    "        "
   ]
  },
  {
   "cell_type": "markdown",
   "metadata": {},
   "source": [
    "###### Spike triggered average"
   ]
  },
  {
   "cell_type": "markdown",
   "metadata": {},
   "source": [
    "- Mean stimulus a time $\\tau$ before spike"
   ]
  },
  {
   "attachments": {
    "spikeTriggeredAverage.png": {
     "image/png": "[encoded data removed]"
    }
   },
   "cell_type": "markdown",
   "metadata": {},
   "source": [
    "![spikeTriggeredAverage.png](attachment:spikeTriggeredAverage.png)"
   ]
  },
  {
   "cell_type": "markdown",
   "metadata": {},
   "source": [
    "###### Tuning function"
   ]
  },
  {
   "cell_type": "markdown",
   "metadata": {},
   "source": [
    "- Gaussiana\n",
    "    - V1\n",
    "    - Ângulo da barra\n",
    "- Cosseno\n",
    "    - M1\n",
    "    - Ângulo do movimento\n",
    "- Sigmoide\n",
    "    - V1\n",
    "    - Retinal disparity\n",
    "        "
   ]
  },
  {
   "cell_type": "markdown",
   "metadata": {},
   "source": [
    "###### Poisson process"
   ]
  },
  {
   "cell_type": "markdown",
   "metadata": {},
   "source": [
    "- Event occurrence independent on history\n",
    "- Good aproximation to neuron firing - Firing rate r\n",
    "- Fano factor:\n",
    "    - $F$ = Variance/Mean = 1\n",
    "    \n",
    "    \n",
    "    \n",
    "- $\\textbf{InterSpikeInterval}$ (ISI) \n",
    "    - Distribution = $re^{-rt}$\n",
    "    - $C_v$ = 1 ( Homogeneous )"
   ]
  },
  {
   "attachments": {
    "poisson.png": {
     "image/png": "[encoded data removed]"
    }
   },
   "cell_type": "markdown",
   "metadata": {},
   "source": [
    "![poisson.png](attachment:poisson.png)\n",
    "Calculado sobre dados reais fig 1.14"
   ]
  },
  {
   "cell_type": "markdown",
   "metadata": {},
   "source": [
    "###### Auto-correlation"
   ]
  },
  {
   "cell_type": "markdown",
   "metadata": {},
   "source": [
    "- Caculated between spike trains-by binning\n",
    "    - ? Why shouldn't I calculate it with smoothed firing rate?\n",
    "- Actually autocovariance\n",
    "- In homogeneous poisson:\n",
    "    - Uniform distribution"
   ]
  },
  {
   "cell_type": "markdown",
   "metadata": {},
   "source": [
    "###### Neural code"
   ]
  },
  {
   "cell_type": "markdown",
   "metadata": {},
   "source": [
    "- Independent spike code vs Correlation code\n",
    "    - Correlation rarely carries more than 10% information - *How is this calculated?*\n",
    "    - Common: Combining firing rates without taking correlations into account\n",
    "        - Hidden independence assumption"
   ]
  },
  {
   "cell_type": "markdown",
   "metadata": {},
   "source": [
    "- Temporal vs Rate coding\n",
    "    - or Defined based on activity\n",
    "        - Temporal coding neuron may be part of a Rate-coding population\n",
    "    - or Defined based on stimulus\n",
    "        - Temporal: information carried by r(t) in frequencies higher than the stimulus changes.\n",
    "    - This choice *matters*"
   ]
  },
  {
   "cell_type": "markdown",
   "metadata": {},
   "source": [
    "#### Artigo: Neurocomputational models of interval and pattern timing\n",
    "###### Hardy, Nicholas F., and Dean V. Buonomano. \"Neurocomputational models of interval and pattern timing.\" Current opinion in behavioral sciences 8 (2016): 250-257.\n",
    "- Stated the difference between simple time estimation tasks and pattern-matching ones.\n",
    "- Compared three computational models of timing\n",
    "\n",
    "\n",
    "- Synfire chain\n",
    "    - Potentially general\n",
    "    - Traditional approach\n",
    "        - No recurrence\n",
    "        - Limited capacity\n",
    "\n",
    "\n",
    "- Positive feedback (weak)\n",
    "    - Slow decay\n",
    "    - Do not require tonic input\n",
    "        - Local. Intrinsic.\n",
    "    - Requires reset\n",
    "\n",
    "\n",
    "- State-dependent computations\n",
    "    - Temporal information from *hidden states*\n",
    "        - e.g. Short Term Plasticity\n",
    "    - Good for interval **and** pattern timing\n",
    "        \n",
    "        \n",
    "The brain has multiple timing mechanisms, and those for interval timing and pattern timing may differ for some tasks, and intertwine in others.\n"
   ]
  },
  {
   "cell_type": "markdown",
   "metadata": {},
   "source": [
    "### Pensamentos"
   ]
  },
  {
   "cell_type": "markdown",
   "metadata": {},
   "source": [
    "- Calculate basic Poisson statistics on data\n",
    "    - Fano factor\n",
    "    - ISI distribution\n",
    "    - ISI $C_v$"
   ]
  },
  {
   "cell_type": "markdown",
   "metadata": {},
   "source": [
    "---"
   ]
  },
  {
   "cell_type": "markdown",
   "metadata": {},
   "source": [
    "## Dia 04/10"
   ]
  },
  {
   "cell_type": "markdown",
   "metadata": {},
   "source": [
    "### Estudo"
   ]
  },
  {
   "cell_type": "markdown",
   "metadata": {},
   "source": [
    "#### Dayan & Abott - Cap. 2\n",
    "##### Páginas: 47 a 50"
   ]
  },
  {
   "cell_type": "markdown",
   "metadata": {},
   "source": [
    "- $r_{est}(t)$ as a Moving Average of the stimulus\n",
    "    - First Wiener kernel - Kernel\n",
    "        - Linear\n",
    "    \n",
    "- Response in power of the stimulus\n",
    "    - Functional equivalent to Taylor\n",
    "    - Volterra expansion\n",
    "    - Wiener expansion"
   ]
  },
  {
   "attachments": {
    "volterra%20expansion.png": {
     "image/png": "[encoded data removed]"
    }
   },
   "cell_type": "markdown",
   "metadata": {},
   "source": [
    "![volterra%20expansion.png](attachment:volterra%20expansion.png)\n",
    "Volterra expansion, p48"
   ]
  },
  {
   "cell_type": "markdown",
   "metadata": {},
   "source": [
    "- Optimal kernel\n",
    "    - Easier to compute when stimulus is white noise\n",
    "    - Computed by data, minimizing squared difference $\\frac{1}{T}\\int_0^Tdt\\cdot(r_{est}(t)-r(t))^2$\n",
    "    - Firing rate estimation by applying kernel to stimulus\n",
    "    - Is also __the maximum stimulus__"
   ]
  },
  {
   "cell_type": "markdown",
   "metadata": {},
   "source": [
    "#### Artigo: Contextual encoding by ensembles of medial prefrontal cortex neurons\n",
    "###### Hyman, James M., et al. \"Contextual encoding by ensembles of medial prefrontal cortex neurons.\" Proceedings of the National Academy of Sciences 109.13 (2012): 5086-5091."
   ]
  },
  {
   "cell_type": "markdown",
   "metadata": {},
   "source": [
    "- Overview:\n",
    "    - Context decoding\n",
    "    - Relation between mPFC and HPC CA1\n",
    "    - Time on task modulates mPFC activity\n",
    "    - mPFC have a higher-lever context representation\n",
    "        - May depend\n",
    "            - Not only on sensory features\n",
    "            - Also actions\n",
    "            - Also time"
   ]
  },
  {
   "cell_type": "markdown",
   "metadata": {},
   "source": [
    "- Métodos:\n",
    "    - d' (signal detection)\n",
    "    - Mahalanobis\n",
    "    - Multi Dimensional Scaling - Visualization\n",
    "    - Linear Discriminant Analysis - Decoding"
   ]
  },
  {
   "cell_type": "markdown",
   "metadata": {},
   "source": [
    "### Reunião com Raphael Camargo"
   ]
  },
  {
   "cell_type": "markdown",
   "metadata": {},
   "source": [
    "- Esclarecer minhas hipóteses\n",
    "    - A representação do tempo muda com o o passar do aprendizado\n",
    "    - **A representação dilata e comprime em concordância com o comportamento**\n",
    "- Ir à reuniões com dúvidas mais pertinentes/mais incisivas"
   ]
  },
  {
   "cell_type": "markdown",
   "metadata": {},
   "source": [
    "- Comparar performances\n",
    "    - Separando por duração\n",
    "    - Não separando\n",
    "    - ( Para embasar o formato de todas as análises futuras)\n",
    "- Reduzir a dimensionalidade com PCA e ver a performance\n",
    "    - Learning curve/n_components_\n",
    "- Comparar novamente 100 primeiras x 100 ultimas\n",
    "- Evolução da classificação a partir do treinado nas 100 ultimas\n",
    "- Correção p-valor"
   ]
  },
  {
   "cell_type": "markdown",
   "metadata": {},
   "source": [
    "- Olhar LFP\n",
    "    - Separar células excitatórias e inibitórias"
   ]
  },
  {
   "cell_type": "markdown",
   "metadata": {},
   "source": [
    "### Pensamentos"
   ]
  },
  {
   "cell_type": "markdown",
   "metadata": {},
   "source": [
    "###### Sobre a nova organização dos dados:"
   ]
  },
  {
   "cell_type": "markdown",
   "metadata": {},
   "source": [
    "- Incluir mais maleabilidade:\n",
    "    - Possibilitar escolher o time-locking: Final ou começo\n",
    "    - Facilitar a inclusão de outras características das tentativas (custom made)\n",
    "    - Permitir a escolha do y - a partir de qualquer uma das caracteristicas"
   ]
  },
  {
   "cell_type": "markdown",
   "metadata": {},
   "source": [
    "###### Other"
   ]
  },
  {
   "cell_type": "markdown",
   "metadata": {},
   "source": [
    "- Juntar resultados de todos os ratos para **todas** as análises\n",
    "- Ana's tips:\n",
    "    - Do **everything** in english\n",
    "    - Use color codes"
   ]
  },
  {
   "cell_type": "markdown",
   "metadata": {},
   "source": [
    "---"
   ]
  },
  {
   "cell_type": "markdown",
   "metadata": {},
   "source": [
    "## Day 05/10"
   ]
  },
  {
   "cell_type": "markdown",
   "metadata": {},
   "source": [
    "### Studies"
   ]
  },
  {
   "cell_type": "markdown",
   "metadata": {},
   "source": [
    "#### Dayan & Abott - Cap. 2\n",
    "###### Pages: 51 - 53"
   ]
  },
  {
   "cell_type": "markdown",
   "metadata": {},
   "source": [
    "- To make better estimations\n",
    "    - Optimal kernel is a linear function of stimulus\n",
    "    - Our neurons/nervous system is nonlinear\n",
    "    - Add nonlinearity"
   ]
  },
  {
   "attachments": {
    "nonlinearity.png": {
     "image/png": "[encoded data removed]"
    }
   },
   "cell_type": "markdown",
   "metadata": {},
   "source": [
    "![nonlinearity.png](attachment:nonlinearity.png)"
   ]
  },
  {
   "cell_type": "markdown",
   "metadata": {},
   "source": [
    "Call our previous *optimal kernel* **L** (the linear term)\n",
    "$$L(t) = \\int_0^{\\infty}d\\tau D(\\tau)s(t-\\tau)$$\n",
    "Another option is to first apply to the stimulus a function such as the response tuning function *f*\n",
    "$$L(t) = \\int_0^{\\infty}d\\tau D(\\tau)f(s(t-\\tau))$$\n",
    "Then we can add a nonlinearity **F** and write \n",
    "$$r_{est}(t) = r_0 + F(L(t))$$"
   ]
  },
  {
   "attachments": {
    "generative%20model.png": {
     "image/png": "[encoded data removed]"
    }
   },
   "cell_type": "markdown",
   "metadata": {},
   "source": [
    "![generative%20model.png](attachment:generative%20model.png)\n",
    "Generative model simulating responses"
   ]
  },
  {
   "cell_type": "markdown",
   "metadata": {},
   "source": [
    "#### Article: Utilizing the Cortico-Striatal Projectome to Advance the Study of Timing and Time Perception\n",
    "###### Lusk, N. A., & Buonomano, D. V. (2016). Utilizing the Cortico-Striatal Projectome to Advance the Study of Timing and Time Perception. Timing & Time Perception, 4(4), 411-422."
   ]
  },
  {
   "cell_type": "markdown",
   "metadata": {},
   "source": [
    "###### My abstract:\n",
    "They talk about recent computational neuroanatomy results, which identified 29 functional domains and 11 communities in the Dorsal Striatum/CaudoPutamen, and enabled the explanation of differential time-related activity in the CP, in which a preference to reward-time activity in the lateral CP was related to a domain with higher input from motor areas, while more consistent activity through the trials in the medial CP was localized in domains of high sensory (visual and auditory) input. These subdivisions may also imply the importance of downstream areas such as the Thalamus in temporal processing, and refine models such as the SBF.\n",
    "\n",
    "###### Methods:\n",
    "- Review/opinion"
   ]
  },
  {
   "cell_type": "markdown",
   "metadata": {},
   "source": [
    "### Toughts"
   ]
  },
  {
   "cell_type": "markdown",
   "metadata": {},
   "source": [
    "- Fernanda's Tip:\n",
    "    - Make written \"non topic\" abstract of papers:\n",
    "        - Pre-ready for later use in projects/papers/reports"
   ]
  },
  {
   "cell_type": "markdown",
   "metadata": {},
   "source": [
    "### Progress"
   ]
  },
  {
   "cell_type": "markdown",
   "metadata": {},
   "source": [
    "- Tried to calculate Fano factor, and make a plot similar to the figure 1.14\n",
    "    - Calculations made with one neuron per time\n",
    "        - Should I calculate with many neurons together? I think not.\n",
    "    - There seems to be a cluster of high variance\n",
    "        - Moving window through data does not equal 'moving interval'\n",
    "        - May be that those high deviations are because of this window problem\n",
    "    - The plot shows **deviation** and not **variance**, and the angle it is already higher than $45^o$"
   ]
  },
  {
   "attachments": {
    "isi_0510.png": {
     "image/png": "[encoded data removed]"
    }
   },
   "cell_type": "markdown",
   "metadata": {},
   "source": [
    "![isi_0510.png](attachment:isi_0510.png)\n",
    "*6/10*\n",
    "<font color='red'> Chart above is **not** the **fano factor**, as the mean and variance have been calculated on ISI </font>\n",
    "\n",
    "The mean and variance whose ratio is 1 should be calculated on the **count** of spikes inside an interval.\n",
    "\n",
    "The method used above, on the other hand, may have relation to the fact that the ISI's coefficient of variation $C_v$ should equal 1 in homogeneouos poisson.\n"
   ]
  },
  {
   "cell_type": "markdown",
   "metadata": {},
   "source": [
    "---"
   ]
  },
  {
   "cell_type": "markdown",
   "metadata": {},
   "source": [
    "## Day 06/10"
   ]
  },
  {
   "cell_type": "markdown",
   "metadata": {},
   "source": [
    "### Studies"
   ]
  },
  {
   "cell_type": "markdown",
   "metadata": {},
   "source": [
    "#### Article: Associative learning and timing\n",
    "###### Kirkpatrick, K., & Balsam, P. D. (2016). Associative learning and timing. Current opinion in behavioral sciences, 8, 181-185.\n",
    "\n",
    "###### My abstract:\n",
    "While timing and associative learning are indissociable in current tasks, and modulate one another, it is not clear if they are parts of the same process, really indissociable from a computational point of view.\n",
    "\n",
    "###### Methods:\n",
    "Review/opinion"
   ]
  },
  {
   "cell_type": "markdown",
   "metadata": {},
   "source": [
    "#### Article: Temporal maps and informativeness in associative learning\n",
    "###### Balsam, P. D., & Gallistel, C. R. (2009). Temporal maps and informativeness in associative learning. Trends in neurosciences, 32(2), 73-78.\n",
    "\n",
    "###### My abstract:\n",
    "The strength of association depends on the information carried by the CS about the time of US, which is the the mutual information between their interval distributions $I({US}_{ti};{CS}_{ti})$.    \n",
    "    \n",
    "###### Overview:\n",
    "\n",
    "\n",
    "###### Methods:"
   ]
  },
  {
   "cell_type": "markdown",
   "metadata": {},
   "source": [
    "### Thoughts\n",
    "- Learn python's Pandas \"timeseries\" functionalities is essential.\n",
    "    - It will surely make analysis and organization easier.\n",
    "\n",
    "###### Database idea:\n",
    "- Rat.hdf5\n",
    "    - Sequential data (spike times e.g. [161, 163, 184, 188...]) / **shape**: (n_neurons, max_n_spikes)\n",
    "    - Pre-filtered datasets\n",
    "        - \"binSize_kernelWidth \"\n",
    "        - 100_100\n",
    "        - 100_50\n",
    "        - norm_100\n",
    "    - Trial attributes\n",
    "        - Duration\n",
    "        - Onset\n",
    "        - Ending\n",
    "        - etc\n",
    "\n",
    "\n",
    "Sequential data:\n",
    "- Load into pandas DataFrame\n",
    "\n",
    "Trial attributes:\n",
    "- Load into pandas DataFrame\n",
    "    - To later use any [,function of] row[,s]  as selector to trials\n",
    "\n",
    "Pre-filtered datasets:\n",
    "- Do not load on memory\n",
    "    - Access only when using\n",
    "    - Use some method to easily \"batch\" data for train / test  / validation\n",
    "\n",
    "    \n"
   ]
  },
  {
   "cell_type": "markdown",
   "metadata": {},
   "source": [
    "---"
   ]
  },
  {
   "cell_type": "markdown",
   "metadata": {},
   "source": [
    "## Day 7/10"
   ]
  },
  {
   "cell_type": "markdown",
   "metadata": {},
   "source": [
    "### Studies"
   ]
  },
  {
   "cell_type": "markdown",
   "metadata": {},
   "source": [
    "#### Dayan & Abott \n",
    "###### Pages: \n"
   ]
  },
  {
   "cell_type": "markdown",
   "metadata": {},
   "source": [
    "#### Article: Timing at the Start of Associative Learning\n",
    "Balsam, P. D., Drew, M. R., & Yang, C. (2002). Timing at the start of associative learning. Learning and Motivation, 33(1), 141-155.\n",
    "\n",
    "###### My abstract:\n",
    "They created a specific model for the rat's response, subject to a peak procedure task, simplifying it as a low-high-low response rate, and showed that the best-fit model had no change in peak onset time, only on its height. Their conclusion is that learning the time-structure of events may be a **precursor** to learning to respond.\n",
    "\n",
    "*08/10:*\n",
    "One or two training trials in fear conditioning.\n",
    "\n",
    "###### Methods:\n",
    "- Experiment\n",
    "- Model-fitting\n",
    "- *Review*"
   ]
  },
  {
   "cell_type": "markdown",
   "metadata": {},
   "source": [
    "#### Article: Timing: An attribute of associative learning\n",
    "Molet, M., & Miller, R. R. (2014). Timing: an attribute of associative learning. Behavioural processes, 101, 4-14.\n",
    "\n",
    "###### My abstract:\n",
    "Second-order behavior (e.g. C1-US / C2-C1 -> C2-CR) is elicited through common elements (in this case C1), but the direct association (C2-CR) only cements when events do occur contiguously, making the CR independent on the original association C1-US, which can only then be extinguished without affecting C2-CR.\n",
    "\n",
    "Inhibitor stimulus (C3+C1 => $\\neg$US) also encode *time* to inhibition.\n",
    "\n",
    "\n",
    "###### Methods:\n",
    "- Review (~70 articles)\n",
    "- Anchored in theory \n",
    "    - Temporal coding hypothesis\n",
    "    - Comparator hypothesis\n",
    "- Comparison of predictions with results"
   ]
  },
  {
   "cell_type": "markdown",
   "metadata": {},
   "source": [
    "### Thoughts\n",
    "\n",
    "- Temporal coding hypothesis\n",
    "    - Temporal proximity <=> association\n",
    "    - Temporal relation is encoded in the association\n",
    "    - This temporal relation shapes responses\n",
    "    - Common elements bridge maps\n",
    "    \n",
    "    \n",
    "- It seems (in agreement with Tolman) that rewards do not play a central role in associations.\n",
    "    - Their importance may reside in the motor respose. (or all 'behavioral'?)\n",
    "    \n",
    "    \n",
    "_Tolman, EC. Cognitive maps in rats and men. Psychol. Rev. 55: 189–208 (1948)._"
   ]
  },
  {
   "cell_type": "markdown",
   "metadata": {},
   "source": [
    "### Planning \n",
    "- Compare the evolution of the two distributions **separately**:\n",
    "    - Non-rewarded trials\n",
    "    - Rewarded trials\n",
    "    - Is there correlations between the moving means? <- Why would this be relevant?\n",
    "    \n",
    "    \n",
    "- Fit ARMA model to response durations.\n",
    "    - May give some insight as to behavior evolution.\n",
    "    - PyFlux seems to be a easy-to-use tool for timeseries analyis\n",
    "    \n",
    "    \n",
    "- Separate \"Theory\" and \"Methods\" in this and subsequent entries of this diary\n",
    "    - Theory  => Thoughts\n",
    "    - Methods => Planning\n",
    "    \n",
    "###### Database\n",
    "- Is it possible to make it usable for different eletrophysiological data?\n",
    "    - Generalize pre-filtering of datasets\n",
    "        - Enable any function that receives Sequential data [, and kwargs]\n",
    "        - Provide some elementary ones (filtering and epoching)\n",
    "    - Deal with two kinds of sequential data\n",
    "        - Point process\n",
    "        - Time series\n",
    "        \n",
    "        \n",
    "*Add results*\n",
    "- Subject.hdf5\n",
    "    - Sequential\n",
    "    - Prefiltered *\n",
    "    - Trial specs *\n",
    "    - Results\n",
    "        - Analysis x\n",
    "        - Analysis y\n",
    "        - e.g. Confusion matrices\n",
    "            - .attrs - for plotting and inspection purposes\n",
    "                - dims : [dim_0_name, dim_1_name,...]\n",
    "                - dim_i_name : [ label( j, dim_i)  for j in range( len(dim_i) ) ] \n",
    "                \n",
    "- Interaction with results"
   ]
  },
  {
   "cell_type": "markdown",
   "metadata": {},
   "source": [
    "---"
   ]
  },
  {
   "cell_type": "markdown",
   "metadata": {},
   "source": [
    "## Day 8/10"
   ]
  },
  {
   "cell_type": "markdown",
   "metadata": {},
   "source": [
    "### Studies"
   ]
  },
  {
   "cell_type": "markdown",
   "metadata": {},
   "source": [
    "#### Dayan & Abott \n",
    "###### Pages: \n"
   ]
  },
  {
   "cell_type": "markdown",
   "metadata": {},
   "source": [
    "#### Article: The Role of Mental Maps in Decision-Making\n",
    "Kaplan, R., Schuck, N. W., & Doeller, C. F. (2017). The Role of Mental Maps in Decision-Making. Trends in Neurosciences, 40(5), 256-259.\n",
    "\n",
    "###### My abstract: \n",
    "The mPFC, and in special the OFC, seems to encode all task relevant (and not the irrelevant) information necessary to perform well, predicting performance of subjects in decision tasks, and also awareness of the subject to unspoken relations between stimuli that could assist on the task, i.e. decoding of stimulus from mPFC activity predicted subject's awareness of stimulus importance. Past experiences modulate cognitive map formation in the mPFC by means of Sharp Wave Ripples from the Hippocampus.\n",
    "\n",
    "###### Methods:\n",
    "Review (15 articles)"
   ]
  },
  {
   "cell_type": "markdown",
   "metadata": {},
   "source": [
    "#### Article: Episodic, Semantic, Pavlovian, and Procedural Cognitive Maps\n",
    "Fernandes, J. J. R., & Holroyd, C. B. (2017). Episodic, Semantic, Pavlovian, and Procedural Cognitive Maps. bioRxiv, 161141.\n",
    "\n",
    "###### My abstract:\n",
    "There are four different kinds of cognitive maps in the brain, each with its own kinds of States and Transitions.\n",
    "\n",
    "###### Methods:\n",
    "Review (~80 articles)\n",
    "\n",
    "Theory proposal."
   ]
  },
  {
   "cell_type": "markdown",
   "metadata": {},
   "source": [
    "---"
   ]
  },
  {
   "cell_type": "markdown",
   "metadata": {},
   "source": [
    "## Day 09/10"
   ]
  },
  {
   "cell_type": "markdown",
   "metadata": {},
   "source": [
    "### Studies"
   ]
  },
  {
   "cell_type": "markdown",
   "metadata": {},
   "source": [
    "#### Article: The successor representation in human reinforcement learning\n",
    "Momennejad, I., Russek, E. M., Cheong, J. H., Botvinick, M. M., Daw, N., & Gershman, S. J. (2017). The successor representation in human reinforcement learning. bioRxiv, 083824.\n",
    "\n",
    "###### My abstract:\n",
    "Modelling learning of a task, by changing either *Reward* or *State Transition* contingencies, Momennejad et al.(2017) showed that a Successor Representation model outperformed both Model-Free and Model-Based reinforcement learning, specially when coupled to the Model-Based. This means that expected future states are holded *pre-cached*, and action values calculated by the expected rewards by integrating over the expected path. SR is good for reward-revaluation but bad for path-revaluation.\n",
    "\n",
    "###### Methods:\n",
    "- Brief theoretical review\n",
    "    - Presentation of Reinforcement Learning models\n",
    "        - *Model Free* MF\n",
    "        - *Model based* MB\n",
    "        - *Successor Representation* SR\n",
    "        - *Hybrid SR/MB*\n",
    "    - Prediction of each model\n",
    "    - Only *theoretical* discussion\n",
    "- Experiment execution\n",
    "    - Two experiments\n",
    "    - Compare each model's fit\n",
    "        - Accuracy\n",
    "        - Reaction time\n",
    "- Discussion\n",
    "    - Comparison between model's fits\n",
    "    - Big picture\n",
    "\n",
    "Data and code available *upon request*"
   ]
  },
  {
   "cell_type": "markdown",
   "metadata": {},
   "source": [
    "---"
   ]
  },
  {
   "cell_type": "markdown",
   "metadata": {},
   "source": [
    "## Day 10/10"
   ]
  },
  {
   "cell_type": "markdown",
   "metadata": {},
   "source": [
    "### Studies"
   ]
  },
  {
   "cell_type": "markdown",
   "metadata": {},
   "source": [
    "#### Dayan & Abott \n",
    "###### Pages: \n"
   ]
  },
  {
   "cell_type": "markdown",
   "metadata": {},
   "source": [
    "#### Article: Dark Control: A Unified Account of Default Mode Function by Control Theory and Reinforcement Learning\n",
    "\n",
    "###### My abstract:\n",
    "\n",
    "###### Methods:\n"
   ]
  },
  {
   "cell_type": "markdown",
   "metadata": {},
   "source": [
    "### Thoughts"
   ]
  },
  {
   "cell_type": "markdown",
   "metadata": {},
   "source": [
    "### Planning"
   ]
  },
  {
   "cell_type": "markdown",
   "metadata": {},
   "source": [
    "### Results"
   ]
  }
 ],
 "metadata": {
  "hide_input": true,
  "kernelspec": {
   "display_name": "Python 3",
   "language": "python",
   "name": "python3"
  },
  "language_info": {
   "codemirror_mode": {
    "name": "ipython",
    "version": 3
   },
   "file_extension": ".py",
   "mimetype": "text/x-python",
   "name": "python",
   "nbconvert_exporter": "python",
   "pygments_lexer": "ipython3",
   "version": "3.6.2"
  },
  "toc": {
   "colors": {
    "hover_highlight": "#DAA520",
    "navigate_num": "#000000",
    "navigate_text": "#333333",
    "running_highlight": "#FF0000",
    "selected_highlight": "#FFD700",
    "sidebar_border": "#EEEEEE",
    "wrapper_background": "#FFFFFF"
   },
   "moveMenuLeft": true,
   "nav_menu": {},
   "navigate_menu": true,
   "number_sections": false,
   "sideBar": true,
   "skip_h1_title": false,
   "threshold": 4,
   "toc_cell": false,
   "toc_position": {
    "height": "764px",
    "left": "0px",
    "right": "1615.33px",
    "top": "108px",
    "width": "349px"
   },
   "toc_section_display": "block",
   "toc_window_display": false,
   "widenNotebook": false
  }
 },
 "nbformat": 4,
 "nbformat_minor": 2
}
