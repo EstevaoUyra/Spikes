{
 "cells": [
  {
   "cell_type": "markdown",
   "metadata": {
    "toc": "true"
   },
   "source": [
    "# Table of Contents\n",
    " <p>"
   ]
  },
  {
   "cell_type": "code",
   "execution_count": 1,
   "metadata": {
    "collapsed": true
   },
   "outputs": [],
   "source": [
    "#import sys\n",
    "#sys.path.append('..')\n",
    "from spikeHelper.loadSpike import loadSpikeBehav\n",
    "import numpy as np\n",
    "from scipy.io import loadmat\n",
    "import pandas as pd\n",
    "import matplotlib.pyplot as plt\n",
    "%matplotlib inline"
   ]
  },
  {
   "cell_type": "code",
   "execution_count": 2,
   "metadata": {
    "collapsed": true
   },
   "outputs": [],
   "source": [
    "spk, bhv = loadSpikeBehav('Data/rato7tudo.mat')"
   ]
  },
  {
   "cell_type": "code",
   "execution_count": 8,
   "metadata": {},
   "outputs": [],
   "source": [
    "spikes = pd.DataFrame({i: pd.Series(np.unique(v)) for i,v in enumerate(spk.times.values)})"
   ]
  },
  {
   "cell_type": "code",
   "execution_count": 14,
   "metadata": {
    "collapsed": true
   },
   "outputs": [],
   "source": [
    "from scipy import optimize as opt"
   ]
  },
  {
   "cell_type": "code",
   "execution_count": null,
   "metadata": {
    "collapsed": true
   },
   "outputs": [],
   "source": []
  },
  {
   "cell_type": "code",
   "execution_count": null,
   "metadata": {
    "collapsed": true
   },
   "outputs": [],
   "source": []
  },
  {
   "cell_type": "code",
   "execution_count": null,
   "metadata": {
    "collapsed": true
   },
   "outputs": [],
   "source": [
    "pd.Series.dropna()"
   ]
  },
  {
   "cell_type": "code",
   "execution_count": null,
   "metadata": {
    "collapsed": true
   },
   "outputs": [],
   "source": [
    "pd.Series.append()"
   ]
  },
  {
   "cell_type": "code",
   "execution_count": 94,
   "metadata": {
    "code_folding": [],
    "collapsed": true
   },
   "outputs": [],
   "source": [
    "    \n",
    "def rollingStepApplyInterval(series, interval, func):\n",
    "    idx = 0; series = series.dropna()\n",
    "    values = pd.Series()\n",
    "    while idx < len(series):\n",
    "        toIdx = whenToStop(series, idx, interval)\n",
    "        values = values.append(pd.Series(func(series[idx:toIdx])))\n",
    "        idx = toIdx\n",
    "        print(values)\n",
    "        if idx == -1:\n",
    "            return values\n",
    "    \n",
    "    \n",
    "def whenToStop(series, idx, interval):\n",
    "    time = series[idx]\n",
    "    return np.nonzero(series[idx:idx+interval] > time+interval)[0][6]"
   ]
  },
  {
   "cell_type": "code",
   "execution_count": null,
   "metadata": {
    "collapsed": true
   },
   "outputs": [],
   "source": []
  },
  {
   "cell_type": "code",
   "execution_count": null,
   "metadata": {
    "collapsed": true
   },
   "outputs": [],
   "source": [
    "def expR(x,a,b):\n",
    "    return a*np.exp(b*x)\n",
    "\n",
    "def toISI_expFit(ISIs):\n",
    "    opt.curve_fit(expR)"
   ]
  },
  {
   "cell_type": "code",
   "execution_count": 113,
   "metadata": {
    "collapsed": true
   },
   "outputs": [],
   "source": [
    "def fanoFactor(arr):\n",
    "    return np.var(arr),np.mean(arr)"
   ]
  },
  {
   "cell_type": "code",
   "execution_count": 110,
   "metadata": {},
   "outputs": [],
   "source": [
    "fanos = spikes.diff().rolling(1000).apply(fanoFactor)"
   ]
  },
  {
   "cell_type": "code",
   "execution_count": 120,
   "metadata": {
    "collapsed": true
   },
   "outputs": [],
   "source": [
    "fanos=pd.DataFrame()"
   ]
  },
  {
   "cell_type": "code",
   "execution_count": 185,
   "metadata": {},
   "outputs": [
    {
     "data": {
      "text/plain": [
       "<matplotlib.axes._subplots.AxesSubplot at 0x7f2c10a2c748>"
      ]
     },
     "execution_count": 185,
     "metadata": {},
     "output_type": "execute_result"
    },
    {
     "data": {
      "text/plain": [
       "<matplotlib.figure.Figure at 0x7f2c104dab38>"
      ]
     },
     "metadata": {},
     "output_type": "display_data"
    },
    {
     "data": {
      "image/png": "[encoded data removed]",
      "text/plain": [
       "<matplotlib.figure.Figure at 0x7f2c10fe7ac8>"
      ]
     },
     "metadata": {},
     "output_type": "display_data"
    }
   ],
   "source": [
    "plt.figure(figsize=(7,7))\n",
    "neuron = 2\n",
    "fanos['mean'] = spikes[neuron].diff().rolling(10).apply(np.mean)\n",
    "fanos['std'] = spikes[neuron].diff().rolling(10).apply(np.std)\n",
    "fanos.plot.scatter('mean','std',s=.5)"
   ]
  },
  {
   "cell_type": "code",
   "execution_count": 159,
   "metadata": {},
   "outputs": [
    {
     "name": "stderr",
     "output_type": "stream",
     "text": [
      "/home/tevo/anaconda3/lib/python3.6/site-packages/ipykernel_launcher.py:1: RuntimeWarning: invalid value encountered in greater\n",
      "  \"\"\"Entry point for launching an IPython kernel.\n"
     ]
    },
    {
     "data": {
      "text/html": [
       "<div>\n",
       "<style>\n",
       "    .dataframe thead tr:only-child th {\n",
       "        text-align: right;\n",
       "    }\n",
       "\n",
       "    .dataframe thead th {\n",
       "        text-align: left;\n",
       "    }\n",
       "\n",
       "    .dataframe tbody tr th {\n",
       "        vertical-align: top;\n",
       "    }\n",
       "</style>\n",
       "<table border=\"1\" class=\"dataframe\">\n",
       "  <thead>\n",
       "    <tr style=\"text-align: right;\">\n",
       "      <th></th>\n",
       "      <th>mean</th>\n",
       "      <th>var</th>\n",
       "    </tr>\n",
       "  </thead>\n",
       "  <tbody>\n",
       "    <tr>\n",
       "      <th>16851</th>\n",
       "      <td>178.357703</td>\n",
       "      <td>534.878565</td>\n",
       "    </tr>\n",
       "    <tr>\n",
       "      <th>16852</th>\n",
       "      <td>178.416755</td>\n",
       "      <td>534.858920</td>\n",
       "    </tr>\n",
       "    <tr>\n",
       "      <th>16853</th>\n",
       "      <td>178.437902</td>\n",
       "      <td>534.851870</td>\n",
       "    </tr>\n",
       "    <tr>\n",
       "      <th>16854</th>\n",
       "      <td>178.432836</td>\n",
       "      <td>534.853560</td>\n",
       "    </tr>\n",
       "    <tr>\n",
       "      <th>16855</th>\n",
       "      <td>179.832959</td>\n",
       "      <td>534.402821</td>\n",
       "    </tr>\n",
       "    <tr>\n",
       "      <th>16856</th>\n",
       "      <td>180.028596</td>\n",
       "      <td>534.337307</td>\n",
       "    </tr>\n",
       "    <tr>\n",
       "      <th>16857</th>\n",
       "      <td>180.040724</td>\n",
       "      <td>534.333223</td>\n",
       "    </tr>\n",
       "    <tr>\n",
       "      <th>16858</th>\n",
       "      <td>180.106027</td>\n",
       "      <td>534.311257</td>\n",
       "    </tr>\n",
       "    <tr>\n",
       "      <th>16859</th>\n",
       "      <td>180.090671</td>\n",
       "      <td>534.316430</td>\n",
       "    </tr>\n",
       "    <tr>\n",
       "      <th>16860</th>\n",
       "      <td>180.082729</td>\n",
       "      <td>534.319106</td>\n",
       "    </tr>\n",
       "    <tr>\n",
       "      <th>17250</th>\n",
       "      <td>57.840181</td>\n",
       "      <td>173.399471</td>\n",
       "    </tr>\n",
       "    <tr>\n",
       "      <th>17251</th>\n",
       "      <td>57.934094</td>\n",
       "      <td>173.368382</td>\n",
       "    </tr>\n",
       "    <tr>\n",
       "      <th>17252</th>\n",
       "      <td>58.214081</td>\n",
       "      <td>173.276835</td>\n",
       "    </tr>\n",
       "    <tr>\n",
       "      <th>17253</th>\n",
       "      <td>58.299769</td>\n",
       "      <td>173.248252</td>\n",
       "    </tr>\n",
       "    <tr>\n",
       "      <th>17254</th>\n",
       "      <td>58.402460</td>\n",
       "      <td>173.213989</td>\n",
       "    </tr>\n",
       "    <tr>\n",
       "      <th>17255</th>\n",
       "      <td>58.437251</td>\n",
       "      <td>173.202290</td>\n",
       "    </tr>\n",
       "    <tr>\n",
       "      <th>17256</th>\n",
       "      <td>59.955393</td>\n",
       "      <td>172.750701</td>\n",
       "    </tr>\n",
       "    <tr>\n",
       "      <th>17257</th>\n",
       "      <td>59.955061</td>\n",
       "      <td>172.750816</td>\n",
       "    </tr>\n",
       "    <tr>\n",
       "      <th>17258</th>\n",
       "      <td>60.617138</td>\n",
       "      <td>172.532630</td>\n",
       "    </tr>\n",
       "    <tr>\n",
       "      <th>17259</th>\n",
       "      <td>60.615565</td>\n",
       "      <td>172.533183</td>\n",
       "    </tr>\n",
       "    <tr>\n",
       "      <th>17379</th>\n",
       "      <td>115.177157</td>\n",
       "      <td>325.467506</td>\n",
       "    </tr>\n",
       "    <tr>\n",
       "      <th>17380</th>\n",
       "      <td>115.173057</td>\n",
       "      <td>325.468956</td>\n",
       "    </tr>\n",
       "    <tr>\n",
       "      <th>17381</th>\n",
       "      <td>115.168449</td>\n",
       "      <td>325.470586</td>\n",
       "    </tr>\n",
       "    <tr>\n",
       "      <th>17382</th>\n",
       "      <td>115.150025</td>\n",
       "      <td>325.477099</td>\n",
       "    </tr>\n",
       "    <tr>\n",
       "      <th>17383</th>\n",
       "      <td>115.141992</td>\n",
       "      <td>325.479939</td>\n",
       "    </tr>\n",
       "    <tr>\n",
       "      <th>17384</th>\n",
       "      <td>115.111625</td>\n",
       "      <td>325.490662</td>\n",
       "    </tr>\n",
       "    <tr>\n",
       "      <th>17385</th>\n",
       "      <td>109.144031</td>\n",
       "      <td>326.995419</td>\n",
       "    </tr>\n",
       "    <tr>\n",
       "      <th>17386</th>\n",
       "      <td>109.139587</td>\n",
       "      <td>326.996902</td>\n",
       "    </tr>\n",
       "    <tr>\n",
       "      <th>17387</th>\n",
       "      <td>109.077639</td>\n",
       "      <td>327.017496</td>\n",
       "    </tr>\n",
       "    <tr>\n",
       "      <th>17388</th>\n",
       "      <td>109.043159</td>\n",
       "      <td>327.028976</td>\n",
       "    </tr>\n",
       "  </tbody>\n",
       "</table>\n",
       "</div>"
      ],
      "text/plain": [
       "             mean         var\n",
       "16851  178.357703  534.878565\n",
       "16852  178.416755  534.858920\n",
       "16853  178.437902  534.851870\n",
       "16854  178.432836  534.853560\n",
       "16855  179.832959  534.402821\n",
       "16856  180.028596  534.337307\n",
       "16857  180.040724  534.333223\n",
       "16858  180.106027  534.311257\n",
       "16859  180.090671  534.316430\n",
       "16860  180.082729  534.319106\n",
       "17250   57.840181  173.399471\n",
       "17251   57.934094  173.368382\n",
       "17252   58.214081  173.276835\n",
       "17253   58.299769  173.248252\n",
       "17254   58.402460  173.213989\n",
       "17255   58.437251  173.202290\n",
       "17256   59.955393  172.750701\n",
       "17257   59.955061  172.750816\n",
       "17258   60.617138  172.532630\n",
       "17259   60.615565  172.533183\n",
       "17379  115.177157  325.467506\n",
       "17380  115.173057  325.468956\n",
       "17381  115.168449  325.470586\n",
       "17382  115.150025  325.477099\n",
       "17383  115.141992  325.479939\n",
       "17384  115.111625  325.490662\n",
       "17385  109.144031  326.995419\n",
       "17386  109.139587  326.996902\n",
       "17387  109.077639  327.017496\n",
       "17388  109.043159  327.028976"
      ]
     },
     "execution_count": 159,
     "metadata": {},
     "output_type": "execute_result"
    }
   ],
   "source": [
    "fanos[fanos['var'].values>100]"
   ]
  },
  {
   "cell_type": "code",
   "execution_count": null,
   "metadata": {
    "collapsed": true
   },
   "outputs": [],
   "source": []
  }
 ],
 "metadata": {
  "hide_input": false,
  "kernelspec": {
   "display_name": "Python 3",
   "language": "python",
   "name": "python3"
  },
  "language_info": {
   "codemirror_mode": {
    "name": "ipython",
    "version": 3
   },
   "file_extension": ".py",
   "mimetype": "text/x-python",
   "name": "python",
   "nbconvert_exporter": "python",
   "pygments_lexer": "ipython3",
   "version": "3.6.2"
  },
  "toc": {
   "colors": {
    "hover_highlight": "#DAA520",
    "navigate_num": "#000000",
    "navigate_text": "#333333",
    "running_highlight": "#FF0000",
    "selected_highlight": "#FFD700",
    "sidebar_border": "#EEEEEE",
    "wrapper_background": "#FFFFFF"
   },
   "moveMenuLeft": true,
   "nav_menu": {
    "height": "13px",
    "width": "253px"
   },
   "navigate_menu": true,
   "number_sections": true,
   "sideBar": true,
   "threshold": 4,
   "toc_cell": true,
   "toc_position": {
    "height": "764px",
    "left": "0px",
    "right": "1609.33px",
    "top": "108px",
    "width": "212px"
   },
   "toc_section_display": "block",
   "toc_window_display": true,
   "widenNotebook": false
  }
 },
 "nbformat": 4,
 "nbformat_minor": 2
}
