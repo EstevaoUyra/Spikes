{
 "cells": [
  {
   "cell_type": "markdown",
   "metadata": {
    "collapsed": true
   },
   "source": [
    "# Similaridade na atividade neural dos diferentes tempos\n",
    "### Medida através da matriz de confusão\n",
    "- Foram selecionadas as tentativas com $\\textbf{duração > 1300ms}$\n",
    "- A atividade foi convolucionada com kernel gaussiano de $\\sigma_{kernel}=100$ms.\n",
    "- Os últimos 300ms das tentativas foram descartados, para diminuir a influência da ação motora.\n",
    "- A atividade foi dividida em 20 bins de 50ms\n",
    "\n",
    "### As medidas\n",
    "- Para cada trial, um classificador SVM foi treinado deixando de fora essa trial, e testado nela\n"
   ]
  },
  {
   "cell_type": "code",
   "execution_count": 91,
   "metadata": {
    "collapsed": true
   },
   "outputs": [],
   "source": [
    "import pickle\n",
    "from spikeHelper.similarities import temporalGeneralization\n",
    "from spikeHelper.dataOrganization import XyTfromEpoch, trialToXyT,getX,normRows\n",
    "from sklearn.svm import SVC\n",
    "import matplotlib.pyplot as plt\n",
    "import seaborn as sns\n",
    "%matplotlib inline\n",
    "import pandas as pd"
   ]
  },
  {
   "cell_type": "markdown",
   "metadata": {},
   "source": [
    "---"
   ]
  },
  {
   "cell_type": "markdown",
   "metadata": {},
   "source": [
    "## Rato 7"
   ]
  },
  {
   "cell_type": "code",
   "execution_count": 9,
   "metadata": {},
   "outputs": [
    {
     "name": "stdout",
     "output_type": "stream",
     "text": [
      "Number of neurons 37\n",
      "Number of times 20\n",
      "Number of trials 537\n"
     ]
    }
   ],
   "source": [
    "rat = 8\n",
    "data = pickle.load(open('Data/r'+str(rat)+'_bin50_sigma100.pickle','rb'))\n",
    "data = XyTfromEpoch(data,getBins=[10,36])[:,:20,:]\n",
    "print('Number of neurons',data.shape[0])\n",
    "print('Number of times',data.shape[1])\n",
    "print('Number of trials',data.shape[2])\n",
    "nTrials=50\n",
    "beg = trialToXyT(data[:,:,:nTrials])\n",
    "end = trialToXyT(data[:,:,-nTrials:])"
   ]
  },
  {
   "cell_type": "code",
   "execution_count": null,
   "metadata": {
    "collapsed": true
   },
   "outputs": [],
   "source": [
    "def generalization(rat)\n",
    "    data = pickle.load(open('Data/r'+str(rat)+'_bin50_sigma100.pickle','rb'))\n",
    "    data = XyTfromEpoch(data,getBins=[10,36])[:,:20,:]\n",
    "    beg = trialToXyT(data[:,:,:nTrials])\n",
    "    end = trialToXyT(data[:,:,-nTrials:])\n",
    "    \n",
    "\n",
    "    parameters = loadBestParams(rat)\n",
    "    clf = SVC(C=parameters['C'], gamma=10**parameters['logGamma'], decision_function_shape='ovo')\n",
    "    sim = temporalGeneralization(getX(beg), beg['y'], beg['trial'], clf)"
   ]
  },
  {
   "cell_type": "code",
   "execution_count": 17,
   "metadata": {},
   "outputs": [
    {
     "data": {
      "text/plain": [
       "True"
      ]
     },
     "execution_count": 17,
     "metadata": {},
     "output_type": "execute_result"
    }
   ],
   "source": [
    "isinstance(clf,SVC)"
   ]
  },
  {
   "cell_type": "code",
   "execution_count": 112,
   "metadata": {},
   "outputs": [
    {
     "data": {
      "text/plain": [
       "<matplotlib.axes._subplots.AxesSubplot at 0x7f1722a1be48>"
      ]
     },
     "execution_count": 112,
     "metadata": {},
     "output_type": "execute_result"
    },
    {
     "data": {
      "image/png": "[encoded data removed]",
      "text/plain": [
       "<matplotlib.figure.Figure at 0x7f1722973518>"
      ]
     },
     "metadata": {},
     "output_type": "display_data"
    }
   ],
   "source": [
    "normalize=0\n",
    "nTrials=100\n",
    "beg = trialToXyT(data[:,:,:nTrials])\n",
    "end = trialToXyT(data[:,:,-nTrials:])\n",
    "allt = trialToXyT(data)\n",
    "\n",
    "#plt.subplot(1,3,1)\n",
    "\n",
    "clf = SVC(C=parameters['C'], gamma=10**parameters['logGamma'], decision_function_shape='ovo')\n",
    "sim = temporalGeneralization(getX(beg), beg['y'], beg['trial'], clf)\n",
    "if normalize:\n",
    "    sim = normRows(sim)\n",
    "sns.heatmap(sim)\n",
    "# nao testar e treinar no mesmo. talvez esteja acontecendo"
   ]
  },
  {
   "cell_type": "code",
   "execution_count": null,
   "metadata": {
    "collapsed": true
   },
   "outputs": [],
   "source": [
    "from spikeHelper.metrics import performanceFromConfusion\n",
    "cross = pd.DataFrame(columns=['confusion'],index = ['Rat 7','Rat 8','Rat 9', 'Rat 10'])\n",
    "for rat in [7,8,9,10]:\n",
    "    cross['confusion']['Rat '+str(rat)], _ = crossGeneralization(beg,end,rat)"
   ]
  },
  {
   "cell_type": "code",
   "execution_count": 113,
   "metadata": {},
   "outputs": [
    {
     "data": {
      "text/html": [
       "<div>\n",
       "<style>\n",
       "    .dataframe thead tr:only-child th {\n",
       "        text-align: right;\n",
       "    }\n",
       "\n",
       "    .dataframe thead th {\n",
       "        text-align: left;\n",
       "    }\n",
       "\n",
       "    .dataframe tbody tr th {\n",
       "        vertical-align: top;\n",
       "    }\n",
       "</style>\n",
       "<table border=\"1\" class=\"dataframe\">\n",
       "  <thead>\n",
       "    <tr style=\"text-align: right;\">\n",
       "      <th></th>\n",
       "      <th>confusion</th>\n",
       "    </tr>\n",
       "  </thead>\n",
       "  <tbody>\n",
       "    <tr>\n",
       "      <th>Rat 7</th>\n",
       "      <td>0.277454</td>\n",
       "    </tr>\n",
       "    <tr>\n",
       "      <th>Rat 8</th>\n",
       "      <td>0.266578</td>\n",
       "    </tr>\n",
       "    <tr>\n",
       "      <th>Rat 9</th>\n",
       "      <td>0.241716</td>\n",
       "    </tr>\n",
       "    <tr>\n",
       "      <th>Rat 10</th>\n",
       "      <td>0.246235</td>\n",
       "    </tr>\n",
       "  </tbody>\n",
       "</table>\n",
       "</div>"
      ],
      "text/plain": [
       "        confusion\n",
       "Rat 7    0.277454\n",
       "Rat 8    0.266578\n",
       "Rat 9    0.241716\n",
       "Rat 10   0.246235"
      ]
     },
     "execution_count": 113,
     "metadata": {},
     "output_type": "execute_result"
    }
   ],
   "source": [
    "cross.applymap(lambda x: performanceFromConfusion(x,'kappa'))"
   ]
  },
  {
   "cell_type": "code",
   "execution_count": 115,
   "metadata": {},
   "outputs": [
    {
     "data": {
      "text/html": [
       "<div>\n",
       "<style>\n",
       "    .dataframe thead tr:only-child th {\n",
       "        text-align: right;\n",
       "    }\n",
       "\n",
       "    .dataframe thead th {\n",
       "        text-align: left;\n",
       "    }\n",
       "\n",
       "    .dataframe tbody tr th {\n",
       "        vertical-align: top;\n",
       "    }\n",
       "</style>\n",
       "<table border=\"1\" class=\"dataframe\">\n",
       "  <thead>\n",
       "    <tr style=\"text-align: right;\">\n",
       "      <th></th>\n",
       "      <th>confusion</th>\n",
       "      <th>readout</th>\n",
       "    </tr>\n",
       "  </thead>\n",
       "  <tbody>\n",
       "    <tr>\n",
       "      <th>Rat 7</th>\n",
       "      <td>[[[1.0, 1.0, 0.0, 1.0, 0.0, 0.0, 1.0, 1.0, 0.0...</td>\n",
       "      <td>[[13.2675900763, 11.7648130103, 10.1361345986,...</td>\n",
       "    </tr>\n",
       "    <tr>\n",
       "      <th>Rat 8</th>\n",
       "      <td>[[[1.0, 1.0, 0.0, 1.0, 0.0, 0.0, 0.0, 1.0, 0.0...</td>\n",
       "      <td>[[13.0854872951, 11.6823562951, 10.1734092394,...</td>\n",
       "    </tr>\n",
       "    <tr>\n",
       "      <th>Rat 9</th>\n",
       "      <td>[[[1.0, 1.0, 0.0, 1.0, 0.0, 0.0, 1.0, 0.0, 0.0...</td>\n",
       "      <td>[[13.6201889412, 12.4608479879, 10.7633092331,...</td>\n",
       "    </tr>\n",
       "    <tr>\n",
       "      <th>Rat 10</th>\n",
       "      <td>[[[1.0, 1.0, 0.0, 1.0, 0.0, 0.0, 1.0, 1.0, 0.0...</td>\n",
       "      <td>[[13.4011972407, 12.038451556, 10.435835554, 8...</td>\n",
       "    </tr>\n",
       "  </tbody>\n",
       "</table>\n",
       "</div>"
      ],
      "text/plain": [
       "                                                confusion  \\\n",
       "Rat 7   [[[1.0, 1.0, 0.0, 1.0, 0.0, 0.0, 1.0, 1.0, 0.0...   \n",
       "Rat 8   [[[1.0, 1.0, 0.0, 1.0, 0.0, 0.0, 0.0, 1.0, 0.0...   \n",
       "Rat 9   [[[1.0, 1.0, 0.0, 1.0, 0.0, 0.0, 1.0, 0.0, 0.0...   \n",
       "Rat 10  [[[1.0, 1.0, 0.0, 1.0, 0.0, 0.0, 1.0, 1.0, 0.0...   \n",
       "\n",
       "                                                  readout  \n",
       "Rat 7   [[13.2675900763, 11.7648130103, 10.1361345986,...  \n",
       "Rat 8   [[13.0854872951, 11.6823562951, 10.1734092394,...  \n",
       "Rat 9   [[13.6201889412, 12.4608479879, 10.7633092331,...  \n",
       "Rat 10  [[13.4011972407, 12.038451556, 10.435835554, 8...  "
      ]
     },
     "execution_count": 115,
     "metadata": {},
     "output_type": "execute_result"
    }
   ],
   "source": [
    "timeWarpingResults = pd.DataFrame(columns=['confusion','readout'],index = ['Rat 7','Rat 8','Rat 9', 'Rat 10'])\n",
    "for rat in [7,8,9,10]:\n",
    "    timeWarpingResults['confusion']['Rat '+str(rat)], timeWarpingResults['readout']['Rat '+str(rat)] = crossGeneralization(beg,end,rat)\n",
    "timeWarpingResults"
   ]
  },
  {
   "cell_type": "code",
   "execution_count": null,
   "metadata": {
    "collapsed": true
   },
   "outputs": [],
   "source": []
  }
 ],
 "metadata": {
  "hide_input": false,
  "kernelspec": {
   "display_name": "Python 3",
   "language": "python",
   "name": "python3"
  },
  "language_info": {
   "codemirror_mode": {
    "name": "ipython",
    "version": 3
   },
   "file_extension": ".py",
   "mimetype": "text/x-python",
   "name": "python",
   "nbconvert_exporter": "python",
   "pygments_lexer": "ipython3",
   "version": "3.6.1"
  },
  "toc": {
   "nav_menu": {},
   "number_sections": true,
   "sideBar": true,
   "skip_h1_title": false,
   "toc_cell": false,
   "toc_position": {},
   "toc_section_display": "block",
   "toc_window_display": false
  }
 },
 "nbformat": 4,
 "nbformat_minor": 2
}
